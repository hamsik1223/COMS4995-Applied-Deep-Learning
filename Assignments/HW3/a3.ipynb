{
  "nbformat": 4,
  "nbformat_minor": 0,
  "metadata": {
    "colab": {
      "name": "a3.ipynb",
      "provenance": [],
      "collapsed_sections": [],
      "toc_visible": true,
      "include_colab_link": true
    },
    "kernelspec": {
      "name": "python3",
      "display_name": "Python 3"
    },
    "accelerator": "GPU"
  },
  "cells": [
    {
      "cell_type": "markdown",
      "metadata": {
        "id": "view-in-github",
        "colab_type": "text"
      },
      "source": [
        "<a href=\"https://colab.research.google.com/github/hamsik1223/COMS4995-Applied-Deep-Learning/blob/master/Assignments/HW3/a3.ipynb\" target=\"_parent\"><img src=\"https://colab.research.google.com/assets/colab-badge.svg\" alt=\"Open In Colab\"/></a>"
      ]
    },
    {
      "cell_type": "markdown",
      "metadata": {
        "id": "UWOHRLs9LRPI",
        "colab_type": "text"
      },
      "source": [
        "# A3: Three practical tools: TensorBoard, LIME, Keras Tuner\n",
        "\n",
        "## About\n",
        "\n",
        "In this assignment, you will gain hands-on experience with three practical tools. This assignment also includes several questions which require written responses (length: about a paragraph each). Please write your answers in this notebook in the text cells provided.\n",
        "\n",
        "Starter code showing how to use TensorBoard.dev is provided at the end of this notebook.\n",
        "\n",
        "## Submission instructions\n",
        "\n",
        "To submit this assignment, please save your notebook (with output), and upload it to CourseWorks."
      ]
    },
    {
      "cell_type": "markdown",
      "metadata": {
        "id": "4MJG_gaKlF_2",
        "colab_type": "text"
      },
      "source": [
        "# Section 1: Run experiments and visualize your results using TensorBoard\n",
        "\n",
        "Deep Learning is a new and developing field. Frequently, papers are published introducing new activation functions, weight initialization strategies,  optimizers, and layers. These papers often include results on large dataets (ImageNet), but whether the techniques they introduce will generalize to your datasets (which are often much smaller) remains unclear. The best way to determine that is by running an experiment.\n",
        "\n",
        "## Swish\n",
        "\n",
        "The current \"default\" activation function is ReLU (informally, our experience is that while it may not be optimal for all datasets, it is usually a reasonable choice). In the paper [Searching for Activation Functions](https://arxiv.org/abs/1710.05941), the authors propose a new activation function called \"Swish\", which they believe may become the default in the future. \n",
        "\n",
        "## Written Answers\n",
        "Please answer the following questions with a clear and concice one paragraph response each."
      ]
    },
    {
      "cell_type": "markdown",
      "metadata": {
        "id": "XIQUbXXYjUeq",
        "colab_type": "text"
      },
      "source": [
        "## 1a) Why is ReLU activation prefered over Sigmoid?"
      ]
    },
    {
      "cell_type": "markdown",
      "metadata": {
        "id": "OYw66Hl-jVxu",
        "colab_type": "text"
      },
      "source": [
        "### TODO: your answer here\n",
        "Deep networks with ReLUs are more easily optimized than networks with sigmoid units, because gradients are able to flow when\n",
        "the input to the ReLU function is positive."
      ]
    },
    {
      "cell_type": "markdown",
      "metadata": {
        "id": "WzT50fTXjW7h",
        "colab_type": "text"
      },
      "source": [
        "## 1b) What is the Vanishing Gradient problem? Specifically, when and why does it occur in a MLP?"
      ]
    },
    {
      "cell_type": "markdown",
      "metadata": {
        "id": "-DtQsj2NjhES",
        "colab_type": "text"
      },
      "source": [
        "### TODO: your answer here\n",
        "The problem of vanishing gradient is that the gradient easily reaches 0 after backpropagation, leading to no update for the weights.\n",
        "Usually it happens when people are using sigmoid activation function. And it is beacuse that the sigmoid function's derivative is very small (the range is about 0 to 0.25), and then if we have lots of hidden layers, those small number times together and results in a really small derivative"
      ]
    },
    {
      "cell_type": "markdown",
      "metadata": {
        "id": "BNCVlyV8jYYu",
        "colab_type": "text"
      },
      "source": [
        "\n",
        "## Programming questions\n",
        "Please answer the following questions by writing code in this notebook (in the cells provided below) and saving your output.\n",
        "\n",
        "## 1c) Implement the Swish activation function using TensorFlow 2.1\n",
        "\n",
        "Note: Swish is [available](https://www.tensorflow.org/api_docs/python/tf/keras/activations/swish) in tf-nightly. Do not use the built-in implemention. Instead, you should write a custom activation function (as if it was not yet available in the codebase). You do *not* need to extend TensorFlow to make your Swish implementation available everywhere (just write code to make it work in this notebook)."
      ]
    },
    {
      "cell_type": "code",
      "metadata": {
        "id": "MJ-tS3FIjZ-8",
        "colab_type": "code",
        "colab": {}
      },
      "source": [
        "# TODO: your code here\n",
        "# Feel free to add additional code cells if helpful\n",
        "def swish(x, beta):\n",
        "  return x*tf.sigmoid(beta*x)"
      ],
      "execution_count": 0,
      "outputs": []
    },
    {
      "cell_type": "markdown",
      "metadata": {
        "id": "CCTCoMP1ja-H",
        "colab_type": "text"
      },
      "source": [
        "\n",
        "## 1d) Run an experiment to see whether Swish is helpful on a small dataset\n",
        "\n",
        "- Choose a small datasets (e.g., CIFAR-10). \n",
        "- Train two NNs: One using ReLu activation, and one using your Swish implementation. \n",
        "- Visualize the learning curves for training & validation loss and accuracy using TensorBoard.dev (you can find starter code for TensorBoard.dev at the bottom of this notebook). \n",
        "- Fix the TensorFlow random seed before running these experiments, so your results are reproducibile (you can find a notebook on CourseWorks that demonstrates how to fix the seed).\n",
        "\n",
        "Note: It may be difficult to see whether Swish is helpful with a small experiment like this, and it's likely that your learning curves will be noisy. You do not need to run a perfect experiment (the goal is for you to gain experience implementing a custom activation function, and to learn how to use TensorBoard).\n"
      ]
    },
    {
      "cell_type": "code",
      "metadata": {
        "id": "0tBYp8UXjcbX",
        "colab_type": "code",
        "outputId": "f4a50196-dde4-4b60-ec56-647e6d205c34",
        "colab": {
          "base_uri": "https://localhost:8080/",
          "height": 34
        }
      },
      "source": [
        "# TODO: your code here\n",
        "# You may add additional code cells if helpful\n",
        "# You can find example code for TensorBoard.dev at the bottom of this notebook\n",
        "%tensorflow_version 2.x\n",
        "import tensorflow as tf\n",
        "cifar10_data = tf.keras.datasets.cifar10.load_data()"
      ],
      "execution_count": 2,
      "outputs": [
        {
          "output_type": "stream",
          "text": [
            "TensorFlow 2.x selected.\n"
          ],
          "name": "stdout"
        }
      ]
    },
    {
      "cell_type": "code",
      "metadata": {
        "id": "8mFcVWFMVMYH",
        "colab_type": "code",
        "colab": {}
      },
      "source": [
        "train = cifar10_data[0]; valid =  cifar10_data[1]\n",
        "x_train = train[0]; y_train = train[1]\n",
        "x_test = valid[0]; y_test = valid[1]"
      ],
      "execution_count": 0,
      "outputs": []
    },
    {
      "cell_type": "code",
      "metadata": {
        "id": "nyFfwTHCeha_",
        "colab_type": "code",
        "outputId": "dd42aca0-41e7-45f1-bb5d-c47fff6888b0",
        "colab": {
          "base_uri": "https://localhost:8080/",
          "height": 736
        }
      },
      "source": [
        "!pip install -U tensorboard\n",
        "!rm -rf ./tensorboard-logs/ # Clear any logs from previous runs"
      ],
      "execution_count": 4,
      "outputs": [
        {
          "output_type": "stream",
          "text": [
            "Collecting tensorboard\n",
            "\u001b[?25l  Downloading https://files.pythonhosted.org/packages/d9/41/bbf49b61370e4f4d245d4c6051dfb6db80cec672605c91b1652ac8cc3d38/tensorboard-2.1.1-py3-none-any.whl (3.8MB)\n",
            "\u001b[K     |████████████████████████████████| 3.9MB 7.5MB/s \n",
            "\u001b[?25hRequirement already satisfied, skipping upgrade: wheel>=0.26; python_version >= \"3\" in /tensorflow-2.1.0/python3.6 (from tensorboard) (0.34.2)\n",
            "Requirement already satisfied, skipping upgrade: requests<3,>=2.21.0 in /tensorflow-2.1.0/python3.6 (from tensorboard) (2.23.0)\n",
            "Requirement already satisfied, skipping upgrade: six>=1.10.0 in /tensorflow-2.1.0/python3.6 (from tensorboard) (1.14.0)\n",
            "Requirement already satisfied, skipping upgrade: numpy>=1.12.0 in /tensorflow-2.1.0/python3.6 (from tensorboard) (1.18.1)\n",
            "Requirement already satisfied, skipping upgrade: markdown>=2.6.8 in /tensorflow-2.1.0/python3.6 (from tensorboard) (3.2.1)\n",
            "Requirement already satisfied, skipping upgrade: absl-py>=0.4 in /tensorflow-2.1.0/python3.6 (from tensorboard) (0.9.0)\n",
            "Requirement already satisfied, skipping upgrade: grpcio>=1.24.3 in /tensorflow-2.1.0/python3.6 (from tensorboard) (1.27.2)\n",
            "Requirement already satisfied, skipping upgrade: google-auth<2,>=1.6.3 in /tensorflow-2.1.0/python3.6 (from tensorboard) (1.11.2)\n",
            "Requirement already satisfied, skipping upgrade: google-auth-oauthlib<0.5,>=0.4.1 in /tensorflow-2.1.0/python3.6 (from tensorboard) (0.4.1)\n",
            "Requirement already satisfied, skipping upgrade: setuptools>=41.0.0 in /tensorflow-2.1.0/python3.6 (from tensorboard) (45.2.0)\n",
            "Requirement already satisfied, skipping upgrade: protobuf>=3.6.0 in /tensorflow-2.1.0/python3.6 (from tensorboard) (3.11.3)\n",
            "Requirement already satisfied, skipping upgrade: werkzeug>=0.11.15 in /tensorflow-2.1.0/python3.6 (from tensorboard) (1.0.0)\n",
            "Requirement already satisfied, skipping upgrade: certifi>=2017.4.17 in /tensorflow-2.1.0/python3.6 (from requests<3,>=2.21.0->tensorboard) (2019.11.28)\n",
            "Requirement already satisfied, skipping upgrade: chardet<4,>=3.0.2 in /tensorflow-2.1.0/python3.6 (from requests<3,>=2.21.0->tensorboard) (3.0.4)\n",
            "Requirement already satisfied, skipping upgrade: idna<3,>=2.5 in /tensorflow-2.1.0/python3.6 (from requests<3,>=2.21.0->tensorboard) (2.9)\n",
            "Requirement already satisfied, skipping upgrade: urllib3!=1.25.0,!=1.25.1,<1.26,>=1.21.1 in /tensorflow-2.1.0/python3.6 (from requests<3,>=2.21.0->tensorboard) (1.25.8)\n",
            "Requirement already satisfied, skipping upgrade: rsa<4.1,>=3.1.4 in /tensorflow-2.1.0/python3.6 (from google-auth<2,>=1.6.3->tensorboard) (4.0)\n",
            "Requirement already satisfied, skipping upgrade: cachetools<5.0,>=2.0.0 in /tensorflow-2.1.0/python3.6 (from google-auth<2,>=1.6.3->tensorboard) (4.0.0)\n",
            "Requirement already satisfied, skipping upgrade: pyasn1-modules>=0.2.1 in /tensorflow-2.1.0/python3.6 (from google-auth<2,>=1.6.3->tensorboard) (0.2.8)\n",
            "Requirement already satisfied, skipping upgrade: requests-oauthlib>=0.7.0 in /tensorflow-2.1.0/python3.6 (from google-auth-oauthlib<0.5,>=0.4.1->tensorboard) (1.3.0)\n",
            "Requirement already satisfied, skipping upgrade: pyasn1>=0.1.3 in /tensorflow-2.1.0/python3.6 (from rsa<4.1,>=3.1.4->google-auth<2,>=1.6.3->tensorboard) (0.4.8)\n",
            "Requirement already satisfied, skipping upgrade: oauthlib>=3.0.0 in /tensorflow-2.1.0/python3.6 (from requests-oauthlib>=0.7.0->google-auth-oauthlib<0.5,>=0.4.1->tensorboard) (3.1.0)\n",
            "\u001b[31mERROR: tensorflow-federated 0.11.0 requires enum34~=1.1, which is not installed.\u001b[0m\n",
            "\u001b[31mERROR: tensorflow-federated 0.11.0 has requirement attrs~=18.2, but you'll have attrs 19.3.0 which is incompatible.\u001b[0m\n",
            "\u001b[31mERROR: tensorflow-federated 0.11.0 has requirement cachetools~=3.1.1, but you'll have cachetools 4.0.0 which is incompatible.\u001b[0m\n",
            "\u001b[31mERROR: tensorflow-federated 0.11.0 has requirement grpcio~=1.24.3, but you'll have grpcio 1.27.2 which is incompatible.\u001b[0m\n",
            "\u001b[31mERROR: tensorflow-federated 0.11.0 has requirement tensorflow~=2.0.0, but you'll have tensorflow 2.1.0 which is incompatible.\u001b[0m\n",
            "\u001b[31mERROR: tensorflow-federated 0.11.0 has requirement tensorflow-addons~=0.6.0, but you'll have tensorflow-addons 0.8.2 which is incompatible.\u001b[0m\n",
            "Installing collected packages: tensorboard\n",
            "  Found existing installation: tensorboard 2.1.0\n",
            "    Uninstalling tensorboard-2.1.0:\n",
            "      Successfully uninstalled tensorboard-2.1.0\n",
            "Successfully installed tensorboard-2.1.1\n"
          ],
          "name": "stdout"
        },
        {
          "output_type": "display_data",
          "data": {
            "application/vnd.colab-display-data+json": {
              "pip_warning": {
                "packages": [
                  "tensorboard"
                ]
              }
            }
          },
          "metadata": {
            "tags": []
          }
        }
      ]
    },
    {
      "cell_type": "code",
      "metadata": {
        "id": "KjlBZHrpBgnn",
        "colab_type": "code",
        "colab": {}
      },
      "source": [
        "#def our model based different activation function\n",
        "def create_model(act_fun = 'relu'):\n",
        "  tf.random.set_seed(2020)\n",
        "  model = tf.keras.models.Sequential()\n",
        "  model.add(tf.keras.layers.Conv2D(16, (3, 3), activation=act_fun, \n",
        "                          input_shape=(32, 32, 3)))\n",
        "  model.add(tf.keras.layers.Conv2D(16, (3, 3), activation=act_fun, \n",
        "                          input_shape=(32, 32, 3)))\n",
        "  model.add(tf.keras.layers.MaxPooling2D())\n",
        "  model.add(tf.keras.layers.Flatten())\n",
        "  model.add(tf.keras.layers.Dense(128, activation=act_fun))\n",
        "  model.add(tf.keras.layers.Dropout(0.5))\n",
        "  \n",
        "  model.add(tf.keras.layers.Dense(10, activation='softmax'))\n",
        "\n",
        "  model.compile(optimizer='adam',\n",
        "                loss='sparse_categorical_crossentropy',\n",
        "                metrics=['accuracy'])\n",
        "  return model"
      ],
      "execution_count": 0,
      "outputs": []
    },
    {
      "cell_type": "code",
      "metadata": {
        "id": "6uyX6AcuBUnd",
        "colab_type": "code",
        "outputId": "94f5f624-14ed-4803-84a3-f322a3fff022",
        "colab": {
          "base_uri": "https://localhost:8080/",
          "height": 1000
        }
      },
      "source": [
        "import datetime \n",
        "import os\n",
        "date = datetime.datetime.now().strftime(\"%Y%m%d-%H%M%S\")\n",
        "log_dir = os.path.join(\"./tensorboard-logs/\", date)\n",
        "print(\"Writing logs to\", log_dir)\n",
        "\n",
        "model = create_model() \n",
        "exp_dir = os.path.join(log_dir, \"CIFAR-10-EXP1-RELU\")\n",
        "\n",
        "tb_callback = tf.keras.callbacks.TensorBoard(log_dir=exp_dir)\n",
        "\n",
        "model.fit(x_train,\n",
        "          y_train,\n",
        "          epochs=50, \n",
        "          validation_data=(x_test, y_test), \n",
        "          callbacks=[tb_callback])"
      ],
      "execution_count": 14,
      "outputs": [
        {
          "output_type": "stream",
          "text": [
            "Writing logs to ./tensorboard-logs/20200316-182610\n",
            "Train on 50000 samples, validate on 10000 samples\n",
            "Epoch 1/50\n",
            "50000/50000 [==============================] - 8s 163us/sample - loss: 2.6067 - accuracy: 0.1065 - val_loss: 2.2585 - val_accuracy: 0.1512\n",
            "Epoch 2/50\n",
            "50000/50000 [==============================] - 8s 162us/sample - loss: 2.1754 - accuracy: 0.1439 - val_loss: 1.8936 - val_accuracy: 0.2471\n",
            "Epoch 3/50\n",
            "50000/50000 [==============================] - 8s 153us/sample - loss: 1.8609 - accuracy: 0.2865 - val_loss: 1.6038 - val_accuracy: 0.4087\n",
            "Epoch 4/50\n",
            "50000/50000 [==============================] - 8s 151us/sample - loss: 1.6411 - accuracy: 0.3960 - val_loss: 1.4682 - val_accuracy: 0.4629\n",
            "Epoch 5/50\n",
            "50000/50000 [==============================] - 8s 151us/sample - loss: 1.4902 - accuracy: 0.4626 - val_loss: 1.3042 - val_accuracy: 0.5320\n",
            "Epoch 6/50\n",
            "50000/50000 [==============================] - 8s 151us/sample - loss: 1.3918 - accuracy: 0.5027 - val_loss: 1.2905 - val_accuracy: 0.5429\n",
            "Epoch 7/50\n",
            "50000/50000 [==============================] - 8s 151us/sample - loss: 1.3058 - accuracy: 0.5339 - val_loss: 1.2141 - val_accuracy: 0.5742\n",
            "Epoch 8/50\n",
            "50000/50000 [==============================] - 8s 151us/sample - loss: 1.2487 - accuracy: 0.5566 - val_loss: 1.2400 - val_accuracy: 0.5701\n",
            "Epoch 9/50\n",
            "50000/50000 [==============================] - 8s 153us/sample - loss: 1.1925 - accuracy: 0.5734 - val_loss: 1.1901 - val_accuracy: 0.5883\n",
            "Epoch 10/50\n",
            "50000/50000 [==============================] - 8s 150us/sample - loss: 1.1372 - accuracy: 0.5954 - val_loss: 1.1881 - val_accuracy: 0.5864\n",
            "Epoch 11/50\n",
            "50000/50000 [==============================] - 8s 150us/sample - loss: 1.0968 - accuracy: 0.6086 - val_loss: 1.2290 - val_accuracy: 0.5754\n",
            "Epoch 12/50\n",
            "50000/50000 [==============================] - 7s 150us/sample - loss: 1.0543 - accuracy: 0.6246 - val_loss: 1.1953 - val_accuracy: 0.5849\n",
            "Epoch 13/50\n",
            "50000/50000 [==============================] - 8s 151us/sample - loss: 1.0278 - accuracy: 0.6318 - val_loss: 1.1676 - val_accuracy: 0.5990\n",
            "Epoch 14/50\n",
            "50000/50000 [==============================] - 8s 150us/sample - loss: 0.9958 - accuracy: 0.6447 - val_loss: 1.2242 - val_accuracy: 0.5871\n",
            "Epoch 15/50\n",
            "50000/50000 [==============================] - 8s 150us/sample - loss: 0.9702 - accuracy: 0.6532 - val_loss: 1.2561 - val_accuracy: 0.5812\n",
            "Epoch 16/50\n",
            "50000/50000 [==============================] - 8s 151us/sample - loss: 0.9361 - accuracy: 0.6627 - val_loss: 1.2319 - val_accuracy: 0.5939\n",
            "Epoch 17/50\n",
            "50000/50000 [==============================] - 8s 151us/sample - loss: 0.9238 - accuracy: 0.6671 - val_loss: 1.2335 - val_accuracy: 0.5954\n",
            "Epoch 18/50\n",
            "50000/50000 [==============================] - 8s 150us/sample - loss: 0.9090 - accuracy: 0.6733 - val_loss: 1.2739 - val_accuracy: 0.6019\n",
            "Epoch 19/50\n",
            "50000/50000 [==============================] - 8s 151us/sample - loss: 0.8799 - accuracy: 0.6783 - val_loss: 1.4035 - val_accuracy: 0.5641\n",
            "Epoch 20/50\n",
            "50000/50000 [==============================] - 8s 152us/sample - loss: 0.8682 - accuracy: 0.6862 - val_loss: 1.3444 - val_accuracy: 0.5952\n",
            "Epoch 21/50\n",
            "50000/50000 [==============================] - 7s 150us/sample - loss: 0.8525 - accuracy: 0.6907 - val_loss: 1.3222 - val_accuracy: 0.5905\n",
            "Epoch 22/50\n",
            "50000/50000 [==============================] - 8s 151us/sample - loss: 0.8332 - accuracy: 0.6988 - val_loss: 1.3504 - val_accuracy: 0.5922\n",
            "Epoch 23/50\n",
            "50000/50000 [==============================] - 7s 149us/sample - loss: 0.8285 - accuracy: 0.7006 - val_loss: 1.3843 - val_accuracy: 0.5887\n",
            "Epoch 24/50\n",
            "50000/50000 [==============================] - 8s 150us/sample - loss: 0.8124 - accuracy: 0.7066 - val_loss: 1.5022 - val_accuracy: 0.5872\n",
            "Epoch 25/50\n",
            "50000/50000 [==============================] - 7s 150us/sample - loss: 0.8054 - accuracy: 0.7081 - val_loss: 1.3951 - val_accuracy: 0.5890\n",
            "Epoch 26/50\n",
            "50000/50000 [==============================] - 7s 149us/sample - loss: 0.8017 - accuracy: 0.7111 - val_loss: 1.4217 - val_accuracy: 0.5894\n",
            "Epoch 27/50\n",
            "50000/50000 [==============================] - 8s 150us/sample - loss: 0.7809 - accuracy: 0.7176 - val_loss: 1.4231 - val_accuracy: 0.5885\n",
            "Epoch 28/50\n",
            "50000/50000 [==============================] - 8s 153us/sample - loss: 0.7752 - accuracy: 0.7190 - val_loss: 1.4134 - val_accuracy: 0.5961\n",
            "Epoch 29/50\n",
            "50000/50000 [==============================] - 8s 150us/sample - loss: 0.7730 - accuracy: 0.7204 - val_loss: 1.4642 - val_accuracy: 0.5760\n",
            "Epoch 30/50\n",
            "50000/50000 [==============================] - 8s 150us/sample - loss: 0.7684 - accuracy: 0.7214 - val_loss: 1.4800 - val_accuracy: 0.5920\n",
            "Epoch 31/50\n",
            "50000/50000 [==============================] - 8s 151us/sample - loss: 0.7622 - accuracy: 0.7238 - val_loss: 1.5033 - val_accuracy: 0.5922\n",
            "Epoch 32/50\n",
            "50000/50000 [==============================] - 7s 149us/sample - loss: 0.7420 - accuracy: 0.7300 - val_loss: 1.5625 - val_accuracy: 0.5756\n",
            "Epoch 33/50\n",
            "50000/50000 [==============================] - 7s 150us/sample - loss: 0.7437 - accuracy: 0.7294 - val_loss: 1.5622 - val_accuracy: 0.5877\n",
            "Epoch 34/50\n",
            "50000/50000 [==============================] - 7s 148us/sample - loss: 0.7354 - accuracy: 0.7362 - val_loss: 1.5258 - val_accuracy: 0.5858\n",
            "Epoch 35/50\n",
            "50000/50000 [==============================] - 7s 149us/sample - loss: 0.7324 - accuracy: 0.7358 - val_loss: 1.5734 - val_accuracy: 0.5892\n",
            "Epoch 36/50\n",
            "50000/50000 [==============================] - 7s 148us/sample - loss: 0.7248 - accuracy: 0.7370 - val_loss: 1.6402 - val_accuracy: 0.5788\n",
            "Epoch 37/50\n",
            "50000/50000 [==============================] - 8s 150us/sample - loss: 0.7179 - accuracy: 0.7396 - val_loss: 1.5534 - val_accuracy: 0.5881\n",
            "Epoch 38/50\n",
            "50000/50000 [==============================] - 7s 149us/sample - loss: 0.7146 - accuracy: 0.7432 - val_loss: 1.5828 - val_accuracy: 0.5969\n",
            "Epoch 39/50\n",
            "50000/50000 [==============================] - 7s 149us/sample - loss: 0.7059 - accuracy: 0.7436 - val_loss: 1.6783 - val_accuracy: 0.5840\n",
            "Epoch 40/50\n",
            "50000/50000 [==============================] - 7s 149us/sample - loss: 0.7010 - accuracy: 0.7438 - val_loss: 1.5562 - val_accuracy: 0.5930\n",
            "Epoch 41/50\n",
            "50000/50000 [==============================] - 8s 151us/sample - loss: 0.7054 - accuracy: 0.7438 - val_loss: 1.6317 - val_accuracy: 0.5902\n",
            "Epoch 42/50\n",
            "50000/50000 [==============================] - 8s 153us/sample - loss: 0.6932 - accuracy: 0.7495 - val_loss: 1.5579 - val_accuracy: 0.5854\n",
            "Epoch 43/50\n",
            "50000/50000 [==============================] - 8s 161us/sample - loss: 0.6940 - accuracy: 0.7498 - val_loss: 1.6756 - val_accuracy: 0.5890\n",
            "Epoch 44/50\n",
            "50000/50000 [==============================] - 8s 152us/sample - loss: 0.6872 - accuracy: 0.7518 - val_loss: 1.6444 - val_accuracy: 0.5788\n",
            "Epoch 45/50\n",
            "50000/50000 [==============================] - 7s 149us/sample - loss: 0.6916 - accuracy: 0.7513 - val_loss: 1.6472 - val_accuracy: 0.5839\n",
            "Epoch 46/50\n",
            "50000/50000 [==============================] - 7s 149us/sample - loss: 0.6663 - accuracy: 0.7579 - val_loss: 1.6261 - val_accuracy: 0.5744\n",
            "Epoch 47/50\n",
            "50000/50000 [==============================] - 8s 150us/sample - loss: 0.6884 - accuracy: 0.7513 - val_loss: 1.7207 - val_accuracy: 0.5826\n",
            "Epoch 48/50\n",
            "50000/50000 [==============================] - 7s 150us/sample - loss: 0.6740 - accuracy: 0.7559 - val_loss: 1.7720 - val_accuracy: 0.5927\n",
            "Epoch 49/50\n",
            "50000/50000 [==============================] - 8s 150us/sample - loss: 0.6676 - accuracy: 0.7562 - val_loss: 1.6881 - val_accuracy: 0.5929\n",
            "Epoch 50/50\n",
            "50000/50000 [==============================] - 7s 149us/sample - loss: 0.6669 - accuracy: 0.7570 - val_loss: 1.7695 - val_accuracy: 0.5806\n"
          ],
          "name": "stdout"
        },
        {
          "output_type": "execute_result",
          "data": {
            "text/plain": [
              "<tensorflow.python.keras.callbacks.History at 0x7f39382ef898>"
            ]
          },
          "metadata": {
            "tags": []
          },
          "execution_count": 14
        }
      ]
    },
    {
      "cell_type": "code",
      "metadata": {
        "id": "_qwwzOLsCTXO",
        "colab_type": "code",
        "outputId": "65126d45-159c-464a-ff6c-08e71a712502",
        "colab": {
          "base_uri": "https://localhost:8080/",
          "height": 1000
        }
      },
      "source": [
        "def swish_1(x):\n",
        "  return (swish(x,1)) \n",
        "model = create_model(swish_1) \n",
        "exp_dir = os.path.join(log_dir, \"CIFAR-10-EXP-SWISH1\")\n",
        "\n",
        "tb_callback = tf.keras.callbacks.TensorBoard(log_dir=exp_dir)\n",
        "\n",
        "model.fit(x_train,\n",
        "          y_train,\n",
        "          epochs=50, \n",
        "          validation_data=(x_test, y_test), \n",
        "          callbacks=[tb_callback])"
      ],
      "execution_count": 15,
      "outputs": [
        {
          "output_type": "stream",
          "text": [
            "Train on 50000 samples, validate on 10000 samples\n",
            "Epoch 1/50\n",
            "50000/50000 [==============================] - 9s 173us/sample - loss: 2.4384 - accuracy: 0.2360 - val_loss: 1.6977 - val_accuracy: 0.3779\n",
            "Epoch 2/50\n",
            "50000/50000 [==============================] - 8s 162us/sample - loss: 1.6766 - accuracy: 0.3885 - val_loss: 1.4511 - val_accuracy: 0.4758\n",
            "Epoch 3/50\n",
            "50000/50000 [==============================] - 8s 162us/sample - loss: 1.4278 - accuracy: 0.4911 - val_loss: 1.3090 - val_accuracy: 0.5342\n",
            "Epoch 4/50\n",
            "50000/50000 [==============================] - 8s 159us/sample - loss: 1.2709 - accuracy: 0.5521 - val_loss: 1.2141 - val_accuracy: 0.5718\n",
            "Epoch 5/50\n",
            "50000/50000 [==============================] - 8s 160us/sample - loss: 1.1765 - accuracy: 0.5862 - val_loss: 1.2138 - val_accuracy: 0.5723\n",
            "Epoch 6/50\n",
            "50000/50000 [==============================] - 8s 159us/sample - loss: 1.0986 - accuracy: 0.6142 - val_loss: 1.1811 - val_accuracy: 0.5877\n",
            "Epoch 7/50\n",
            "50000/50000 [==============================] - 8s 159us/sample - loss: 1.1662 - accuracy: 0.5923 - val_loss: 1.2664 - val_accuracy: 0.5567\n",
            "Epoch 8/50\n",
            "50000/50000 [==============================] - 8s 160us/sample - loss: 1.0035 - accuracy: 0.6463 - val_loss: 1.1447 - val_accuracy: 0.6025\n",
            "Epoch 9/50\n",
            "50000/50000 [==============================] - 8s 159us/sample - loss: 0.9369 - accuracy: 0.6691 - val_loss: 1.2280 - val_accuracy: 0.5874\n",
            "Epoch 10/50\n",
            "50000/50000 [==============================] - 8s 160us/sample - loss: 0.8928 - accuracy: 0.6844 - val_loss: 1.1585 - val_accuracy: 0.6151\n",
            "Epoch 11/50\n",
            "50000/50000 [==============================] - 8s 159us/sample - loss: 0.8468 - accuracy: 0.7013 - val_loss: 1.1585 - val_accuracy: 0.6135\n",
            "Epoch 12/50\n",
            "50000/50000 [==============================] - 8s 160us/sample - loss: 0.8200 - accuracy: 0.7114 - val_loss: 1.2065 - val_accuracy: 0.6108\n",
            "Epoch 13/50\n",
            "50000/50000 [==============================] - 8s 160us/sample - loss: 0.7908 - accuracy: 0.7208 - val_loss: 1.1955 - val_accuracy: 0.6077\n",
            "Epoch 14/50\n",
            "50000/50000 [==============================] - 8s 159us/sample - loss: 0.7683 - accuracy: 0.7308 - val_loss: 1.2546 - val_accuracy: 0.6065\n",
            "Epoch 15/50\n",
            "50000/50000 [==============================] - 8s 159us/sample - loss: 0.7391 - accuracy: 0.7373 - val_loss: 1.2668 - val_accuracy: 0.6011\n",
            "Epoch 16/50\n",
            "50000/50000 [==============================] - 8s 159us/sample - loss: 0.7102 - accuracy: 0.7492 - val_loss: 1.3129 - val_accuracy: 0.5980\n",
            "Epoch 17/50\n",
            "50000/50000 [==============================] - 8s 163us/sample - loss: 0.7038 - accuracy: 0.7512 - val_loss: 1.3097 - val_accuracy: 0.5960\n",
            "Epoch 18/50\n",
            "50000/50000 [==============================] - 8s 159us/sample - loss: 0.6768 - accuracy: 0.7594 - val_loss: 1.2783 - val_accuracy: 0.6088\n",
            "Epoch 19/50\n",
            "50000/50000 [==============================] - 8s 159us/sample - loss: 0.6614 - accuracy: 0.7665 - val_loss: 1.4452 - val_accuracy: 0.5932\n",
            "Epoch 20/50\n",
            "50000/50000 [==============================] - 8s 159us/sample - loss: 0.6537 - accuracy: 0.7683 - val_loss: 1.3931 - val_accuracy: 0.6058\n",
            "Epoch 21/50\n",
            "50000/50000 [==============================] - 8s 160us/sample - loss: 0.6430 - accuracy: 0.7733 - val_loss: 1.4085 - val_accuracy: 0.6014\n",
            "Epoch 22/50\n",
            "50000/50000 [==============================] - 8s 161us/sample - loss: 0.6426 - accuracy: 0.7731 - val_loss: 1.4111 - val_accuracy: 0.6056\n",
            "Epoch 23/50\n",
            "50000/50000 [==============================] - 8s 159us/sample - loss: 0.6207 - accuracy: 0.7799 - val_loss: 1.4935 - val_accuracy: 0.5910\n",
            "Epoch 24/50\n",
            "50000/50000 [==============================] - 8s 159us/sample - loss: 0.6064 - accuracy: 0.7851 - val_loss: 1.5382 - val_accuracy: 0.5894\n",
            "Epoch 25/50\n",
            "50000/50000 [==============================] - 8s 160us/sample - loss: 0.5969 - accuracy: 0.7894 - val_loss: 1.6267 - val_accuracy: 0.5822\n",
            "Epoch 26/50\n",
            "50000/50000 [==============================] - 8s 158us/sample - loss: 0.6325 - accuracy: 0.7771 - val_loss: 1.5059 - val_accuracy: 0.5945\n",
            "Epoch 27/50\n",
            "50000/50000 [==============================] - 8s 159us/sample - loss: 0.5870 - accuracy: 0.7907 - val_loss: 1.6297 - val_accuracy: 0.5888\n",
            "Epoch 28/50\n",
            "50000/50000 [==============================] - 8s 159us/sample - loss: 0.5746 - accuracy: 0.7951 - val_loss: 1.4536 - val_accuracy: 0.5986\n",
            "Epoch 29/50\n",
            "50000/50000 [==============================] - 8s 160us/sample - loss: 0.5788 - accuracy: 0.7945 - val_loss: 1.5774 - val_accuracy: 0.6017\n",
            "Epoch 30/50\n",
            "50000/50000 [==============================] - 8s 159us/sample - loss: 0.5593 - accuracy: 0.8022 - val_loss: 1.6722 - val_accuracy: 0.5867\n",
            "Epoch 31/50\n",
            "50000/50000 [==============================] - 8s 159us/sample - loss: 0.5463 - accuracy: 0.8057 - val_loss: 1.5890 - val_accuracy: 0.5981\n",
            "Epoch 32/50\n",
            "50000/50000 [==============================] - 8s 170us/sample - loss: 0.5463 - accuracy: 0.8073 - val_loss: 1.6509 - val_accuracy: 0.5939\n",
            "Epoch 33/50\n",
            "50000/50000 [==============================] - 8s 165us/sample - loss: 0.5618 - accuracy: 0.8019 - val_loss: 1.6596 - val_accuracy: 0.5885\n",
            "Epoch 34/50\n",
            "50000/50000 [==============================] - 8s 158us/sample - loss: 0.5306 - accuracy: 0.8129 - val_loss: 1.6574 - val_accuracy: 0.5987\n",
            "Epoch 35/50\n",
            "50000/50000 [==============================] - 8s 159us/sample - loss: 0.5304 - accuracy: 0.8135 - val_loss: 1.7593 - val_accuracy: 0.5993\n",
            "Epoch 36/50\n",
            "50000/50000 [==============================] - 8s 159us/sample - loss: 0.5312 - accuracy: 0.8133 - val_loss: 1.6635 - val_accuracy: 0.5955\n",
            "Epoch 37/50\n",
            "50000/50000 [==============================] - 8s 158us/sample - loss: 0.5147 - accuracy: 0.8176 - val_loss: 1.7319 - val_accuracy: 0.6075\n",
            "Epoch 38/50\n",
            "50000/50000 [==============================] - 8s 158us/sample - loss: 0.5129 - accuracy: 0.8201 - val_loss: 1.9173 - val_accuracy: 0.5745\n",
            "Epoch 39/50\n",
            "50000/50000 [==============================] - 8s 158us/sample - loss: 0.5227 - accuracy: 0.8156 - val_loss: 1.7224 - val_accuracy: 0.6026\n",
            "Epoch 40/50\n",
            "50000/50000 [==============================] - 8s 160us/sample - loss: 0.5172 - accuracy: 0.8178 - val_loss: 1.7712 - val_accuracy: 0.5733\n",
            "Epoch 41/50\n",
            "50000/50000 [==============================] - 8s 158us/sample - loss: 0.5120 - accuracy: 0.8181 - val_loss: 1.7003 - val_accuracy: 0.5910\n",
            "Epoch 42/50\n",
            "50000/50000 [==============================] - 8s 160us/sample - loss: 0.5076 - accuracy: 0.8231 - val_loss: 1.8651 - val_accuracy: 0.5831\n",
            "Epoch 43/50\n",
            "50000/50000 [==============================] - 8s 158us/sample - loss: 0.5087 - accuracy: 0.8224 - val_loss: 1.7416 - val_accuracy: 0.5887\n",
            "Epoch 44/50\n",
            "50000/50000 [==============================] - 8s 158us/sample - loss: 0.4948 - accuracy: 0.8242 - val_loss: 1.8045 - val_accuracy: 0.5808\n",
            "Epoch 45/50\n",
            "50000/50000 [==============================] - 8s 155us/sample - loss: 0.5015 - accuracy: 0.8225 - val_loss: 1.8319 - val_accuracy: 0.5892\n",
            "Epoch 46/50\n",
            "50000/50000 [==============================] - 8s 155us/sample - loss: 0.4950 - accuracy: 0.8252 - val_loss: 1.9171 - val_accuracy: 0.5878\n",
            "Epoch 47/50\n",
            "50000/50000 [==============================] - 8s 155us/sample - loss: 0.4947 - accuracy: 0.8271 - val_loss: 1.9407 - val_accuracy: 0.5784\n",
            "Epoch 48/50\n",
            "50000/50000 [==============================] - 8s 157us/sample - loss: 0.4961 - accuracy: 0.8289 - val_loss: 1.9147 - val_accuracy: 0.5743\n",
            "Epoch 49/50\n",
            "50000/50000 [==============================] - 8s 156us/sample - loss: 0.4824 - accuracy: 0.8307 - val_loss: 1.8696 - val_accuracy: 0.5814\n",
            "Epoch 50/50\n",
            "50000/50000 [==============================] - 8s 156us/sample - loss: 0.4916 - accuracy: 0.8296 - val_loss: 1.7984 - val_accuracy: 0.5945\n"
          ],
          "name": "stdout"
        },
        {
          "output_type": "execute_result",
          "data": {
            "text/plain": [
              "<tensorflow.python.keras.callbacks.History at 0x7f392bf928d0>"
            ]
          },
          "metadata": {
            "tags": []
          },
          "execution_count": 15
        }
      ]
    },
    {
      "cell_type": "code",
      "metadata": {
        "id": "i-NBPqw1Bck3",
        "colab_type": "code",
        "outputId": "8cdc239b-6756-4bd0-a0c8-181b11e8ba01",
        "colab": {
          "base_uri": "https://localhost:8080/",
          "height": 547
        }
      },
      "source": [
        "!tensorboard dev upload --logdir \"$log_dir\""
      ],
      "execution_count": 16,
      "outputs": [
        {
          "output_type": "stream",
          "text": [
            "\n",
            "***** TensorBoard Uploader *****\n",
            "\n",
            "This will upload your TensorBoard logs to https://tensorboard.dev/ from\n",
            "the following directory:\n",
            "\n",
            "./tensorboard-logs/20200316-182610\n",
            "\n",
            "This TensorBoard will be visible to everyone. Do not upload sensitive\n",
            "data.\n",
            "\n",
            "Your use of this service is subject to Google's Terms of Service\n",
            "<https://policies.google.com/terms> and Privacy Policy\n",
            "<https://policies.google.com/privacy>, and TensorBoard.dev's Terms of Service\n",
            "<https://tensorboard.dev/policy/terms/>.\n",
            "\n",
            "This notice will not be shown again while you are logged into the uploader.\n",
            "To log out, run `tensorboard dev auth revoke`.\n",
            "\n",
            "Continue? (yes/NO) yes\n",
            "\n",
            "Please visit this URL to authorize this application: https://accounts.google.com/o/oauth2/auth?response_type=code&client_id=373649185512-8v619h5kft38l4456nm2dj4ubeqsrvh6.apps.googleusercontent.com&redirect_uri=urn%3Aietf%3Awg%3Aoauth%3A2.0%3Aoob&scope=openid+https%3A%2F%2Fwww.googleapis.com%2Fauth%2Fuserinfo.email&state=u7pc0cN1YebKYchxu2qcM3RINE7amo&prompt=consent&access_type=offline\n",
            "Enter the authorization code: 4/xwH6oVq8g-wEyBx6L6pcVxyvO-BgrEizBUCt_9ur4Lzz2-9bxtyNxFw\n",
            "\n",
            "Upload started and will continue reading any new data as it's added\n",
            "to the logdir. To stop uploading, press Ctrl-C.\n",
            "View your TensorBoard live at: https://tensorboard.dev/experiment/VYIkCvWdQGGs8c0loLzAtg/\n",
            "\n",
            "\n",
            "Upload stopped. View your TensorBoard at https://tensorboard.dev/experiment/VYIkCvWdQGGs8c0loLzAtg/\n"
          ],
          "name": "stdout"
        }
      ]
    },
    {
      "cell_type": "markdown",
      "metadata": {
        "id": "5Gp3ZsXRjdSb",
        "colab_type": "text"
      },
      "source": [
        "## 1e) Include a brief written answer to the following questions:\n",
        "- Did Swish help your NNs reach a higher validation accuracy? \n",
        "- Did it reduce the time (in terms of training epochs) needed to reach a certain accuracy?\n",
        "- Please include the URLs showing the results of your experiments in TensorBoard.dev to justify your results."
      ]
    },
    {
      "cell_type": "markdown",
      "metadata": {
        "id": "zDCxpZ5PkwP6",
        "colab_type": "text"
      },
      "source": [
        "### TODO: your answer here\n",
        "- Comparing the maximum value of the validation accuracy, we can conclude that model using Swish leads to a higher validation accuracy (61.5%), and that of model using RELU is about 60%. \n",
        "- The time reaching the same level of train accuracy is lower for model using swish, since the accuracy curve is always on the top of the other curve. \n",
        "- The URL is:https://tensorboard.dev/experiment/VYIkCvWdQGGs8c0loLzAtg/"
      ]
    },
    {
      "cell_type": "markdown",
      "metadata": {
        "id": "C3h8P2lylHFF",
        "colab_type": "text"
      },
      "source": [
        "# Section 2: Use LIME to explain an image classifier\n",
        "\n",
        "Explaining and interpreting models is a new and increasingly important area of Deep Learning. In this section, you will gain experience using a recent (and relatively simple) technique called LIME.\n",
        "\n",
        "## Written answers\n",
        "\n",
        "## 2a) Read the paper [ConvNets and ImageNet Beyond Accuracy: Understanding Mistakes and Uncovering Biases](https://arxiv.org/abs/1711.11443) then answer the following two questions:\n",
        "- Why would a model misclassify a professional sports player based on the color of their skin?\n",
        "- What changes would you make to the training set to correct this behavior?"
      ]
    },
    {
      "cell_type": "markdown",
      "metadata": {
        "id": "d-uVNVbvjE_Y",
        "colab_type": "text"
      },
      "source": [
        "### TODO: your answer here\n",
        "- The possible reason is that black persons are more represented in the baskectball class in comparison to the other classes, while Asian persons are more presented in the ping-pong ball class. Hence the model wrongly learned the skin of the person instead of the basketball or ping-pong ball. \n",
        "- Possible solutions to that are: \n",
        "1. Do data augmentation, for example, include or create more pictures where Asian persons are playing baskectball or black persons are playing ping-pong ball. \n"
      ]
    },
    {
      "cell_type": "markdown",
      "metadata": {
        "id": "Vr1FiS20k57c",
        "colab_type": "text"
      },
      "source": [
        "## Programming questions\n",
        "\n",
        "## 2b) Read the paper [\"Why Should I Trust You?\": Explaining the Predictions of Any Classifier](https://arxiv.org/abs/1602.04938) then practice using LIME by adding code below to do the following:\n",
        "- Install LIME\n",
        "- Download an image from the web (using `!wget` or a similar utility).\n",
        "- Classify your image using Inception-V3 (or another famous architecture, using weights pretrained on ImageNet).\n",
        "- Display the top three predicted classes (e.g., baseball player) and confidence scores.\n",
        "- Use LIME to provide evidence for and against each of the top three predictions (e.g., display the regions of an image that LIME found to correlate most strongly with and against the predicted class).\n",
        "\n",
        "Save your output inside this notebook and include it with your submission."
      ]
    },
    {
      "cell_type": "code",
      "metadata": {
        "id": "LZVX3z9ak9G7",
        "colab_type": "code",
        "outputId": "d3360232-8c54-4d81-bbf5-e99d7f5a81f8",
        "colab": {
          "base_uri": "https://localhost:8080/",
          "height": 581
        }
      },
      "source": [
        "# TODO: your code here\n",
        "# You may add additional text cells if helpful\n",
        "!pip install lime"
      ],
      "execution_count": 17,
      "outputs": [
        {
          "output_type": "stream",
          "text": [
            "Collecting lime\n",
            "\u001b[?25l  Downloading https://files.pythonhosted.org/packages/b5/e0/60070b461a589b2fee0dbc45df9987f150fca83667c2f8a064cef7dbac6b/lime-0.1.1.37.tar.gz (275kB)\n",
            "\r\u001b[K     |█▏                              | 10kB 28.8MB/s eta 0:00:01\r\u001b[K     |██▍                             | 20kB 6.4MB/s eta 0:00:01\r\u001b[K     |███▋                            | 30kB 7.5MB/s eta 0:00:01\r\u001b[K     |████▊                           | 40kB 5.9MB/s eta 0:00:01\r\u001b[K     |██████                          | 51kB 6.2MB/s eta 0:00:01\r\u001b[K     |███████▏                        | 61kB 7.3MB/s eta 0:00:01\r\u001b[K     |████████▎                       | 71kB 7.9MB/s eta 0:00:01\r\u001b[K     |█████████▌                      | 81kB 7.4MB/s eta 0:00:01\r\u001b[K     |██████████▊                     | 92kB 8.2MB/s eta 0:00:01\r\u001b[K     |███████████▉                    | 102kB 8.7MB/s eta 0:00:01\r\u001b[K     |█████████████                   | 112kB 8.7MB/s eta 0:00:01\r\u001b[K     |██████████████▎                 | 122kB 8.7MB/s eta 0:00:01\r\u001b[K     |███████████████▍                | 133kB 8.7MB/s eta 0:00:01\r\u001b[K     |████████████████▋               | 143kB 8.7MB/s eta 0:00:01\r\u001b[K     |█████████████████▉              | 153kB 8.7MB/s eta 0:00:01\r\u001b[K     |███████████████████             | 163kB 8.7MB/s eta 0:00:01\r\u001b[K     |████████████████████▏           | 174kB 8.7MB/s eta 0:00:01\r\u001b[K     |█████████████████████▍          | 184kB 8.7MB/s eta 0:00:01\r\u001b[K     |██████████████████████▋         | 194kB 8.7MB/s eta 0:00:01\r\u001b[K     |███████████████████████▊        | 204kB 8.7MB/s eta 0:00:01\r\u001b[K     |█████████████████████████       | 215kB 8.7MB/s eta 0:00:01\r\u001b[K     |██████████████████████████▏     | 225kB 8.7MB/s eta 0:00:01\r\u001b[K     |███████████████████████████▎    | 235kB 8.7MB/s eta 0:00:01\r\u001b[K     |████████████████████████████▌   | 245kB 8.7MB/s eta 0:00:01\r\u001b[K     |█████████████████████████████▊  | 256kB 8.7MB/s eta 0:00:01\r\u001b[K     |██████████████████████████████▉ | 266kB 8.7MB/s eta 0:00:01\r\u001b[K     |████████████████████████████████| 276kB 8.7MB/s \n",
            "\u001b[?25hRequirement already satisfied: numpy in /tensorflow-2.1.0/python3.6 (from lime) (1.18.1)\n",
            "Requirement already satisfied: scipy in /tensorflow-2.1.0/python3.6 (from lime) (1.4.1)\n",
            "Collecting progressbar\n",
            "  Downloading https://files.pythonhosted.org/packages/a3/a6/b8e451f6cff1c99b4747a2f7235aa904d2d49e8e1464e0b798272aa84358/progressbar-2.5.tar.gz\n",
            "Requirement already satisfied: scikit-learn>=0.18 in /usr/local/lib/python3.6/dist-packages (from lime) (0.22.1)\n",
            "Requirement already satisfied: matplotlib in /usr/local/lib/python3.6/dist-packages (from lime) (3.1.3)\n",
            "Requirement already satisfied: scikit-image>=0.12 in /usr/local/lib/python3.6/dist-packages (from lime) (0.16.2)\n",
            "Requirement already satisfied: joblib>=0.11 in /usr/local/lib/python3.6/dist-packages (from scikit-learn>=0.18->lime) (0.14.1)\n",
            "Requirement already satisfied: kiwisolver>=1.0.1 in /usr/local/lib/python3.6/dist-packages (from matplotlib->lime) (1.1.0)\n",
            "Requirement already satisfied: cycler>=0.10 in /usr/local/lib/python3.6/dist-packages (from matplotlib->lime) (0.10.0)\n",
            "Requirement already satisfied: pyparsing!=2.0.4,!=2.1.2,!=2.1.6,>=2.0.1 in /usr/local/lib/python3.6/dist-packages (from matplotlib->lime) (2.4.6)\n",
            "Requirement already satisfied: python-dateutil>=2.1 in /usr/local/lib/python3.6/dist-packages (from matplotlib->lime) (2.6.1)\n",
            "Requirement already satisfied: PyWavelets>=0.4.0 in /usr/local/lib/python3.6/dist-packages (from scikit-image>=0.12->lime) (1.1.1)\n",
            "Requirement already satisfied: imageio>=2.3.0 in /usr/local/lib/python3.6/dist-packages (from scikit-image>=0.12->lime) (2.4.1)\n",
            "Requirement already satisfied: networkx>=2.0 in /usr/local/lib/python3.6/dist-packages (from scikit-image>=0.12->lime) (2.4)\n",
            "Requirement already satisfied: pillow>=4.3.0 in /usr/local/lib/python3.6/dist-packages (from scikit-image>=0.12->lime) (6.2.2)\n",
            "Requirement already satisfied: setuptools in /tensorflow-2.1.0/python3.6 (from kiwisolver>=1.0.1->matplotlib->lime) (45.2.0)\n",
            "Requirement already satisfied: six in /tensorflow-2.1.0/python3.6 (from cycler>=0.10->matplotlib->lime) (1.14.0)\n",
            "Requirement already satisfied: decorator>=4.3.0 in /usr/local/lib/python3.6/dist-packages (from networkx>=2.0->scikit-image>=0.12->lime) (4.4.1)\n",
            "Building wheels for collected packages: lime, progressbar\n",
            "  Building wheel for lime (setup.py) ... \u001b[?25l\u001b[?25hdone\n",
            "  Created wheel for lime: filename=lime-0.1.1.37-cp36-none-any.whl size=284277 sha256=5a50d86a51b4040777eb3f18989bb23cd718867661497dda0f99f962c7d15e67\n",
            "  Stored in directory: /root/.cache/pip/wheels/c1/38/e7/50d75d4fb75afa604570dc42f20c5c5f5ab26d3fbe8d6ef27b\n",
            "  Building wheel for progressbar (setup.py) ... \u001b[?25l\u001b[?25hdone\n",
            "  Created wheel for progressbar: filename=progressbar-2.5-cp36-none-any.whl size=12074 sha256=723f5b7b13b45d5feac3369eb4e577a4a781174dfcca33301eaa89a36afe1cd5\n",
            "  Stored in directory: /root/.cache/pip/wheels/c0/e9/6b/ea01090205e285175842339aa3b491adeb4015206cda272ff0\n",
            "Successfully built lime progressbar\n",
            "Installing collected packages: progressbar, lime\n",
            "Successfully installed lime-0.1.1.37 progressbar-2.5\n"
          ],
          "name": "stdout"
        }
      ]
    },
    {
      "cell_type": "code",
      "metadata": {
        "id": "avbpC8BTaQEU",
        "colab_type": "code",
        "outputId": "42554f9e-8b8a-430b-9888-5ee433b2fd68",
        "colab": {
          "base_uri": "https://localhost:8080/",
          "height": 309
        }
      },
      "source": [
        "!wget https://apopka-1x1yusplq.stackpathdns.com/wp-content/uploads/2017/12/gfhdgfgfgdfgdf.jpg\n",
        "!wget https://www.petsworld.in/blog/wp-content/uploads/2015/05/dog-kitten.jpg"
      ],
      "execution_count": 61,
      "outputs": [
        {
          "output_type": "stream",
          "text": [
            "--2020-03-16 18:56:50--  https://apopka-1x1yusplq.stackpathdns.com/wp-content/uploads/2017/12/gfhdgfgfgdfgdf.jpg\n",
            "Resolving apopka-1x1yusplq.stackpathdns.com (apopka-1x1yusplq.stackpathdns.com)... 151.139.242.13\n",
            "Connecting to apopka-1x1yusplq.stackpathdns.com (apopka-1x1yusplq.stackpathdns.com)|151.139.242.13|:443... connected.\n",
            "HTTP request sent, awaiting response... 301 Moved Permanently\n",
            "Location: https://root.coreylittle.com/apopkav/2017/12/gfhdgfgfgdfgdf.jpg [following]\n",
            "--2020-03-16 18:56:50--  https://root.coreylittle.com/apopkav/2017/12/gfhdgfgfgdfgdf.jpg\n",
            "Resolving root.coreylittle.com (root.coreylittle.com)... 184.168.169.98\n",
            "Connecting to root.coreylittle.com (root.coreylittle.com)|184.168.169.98|:443... connected.\n",
            "HTTP request sent, awaiting response... 200 OK\n",
            "Length: 189624 (185K) [image/jpeg]\n",
            "Saving to: ‘gfhdgfgfgdfgdf.jpg’\n",
            "\n",
            "gfhdgfgfgdfgdf.jpg  100%[===================>] 185.18K   642KB/s    in 0.3s    \n",
            "\n",
            "2020-03-16 18:56:51 (642 KB/s) - ‘gfhdgfgfgdfgdf.jpg’ saved [189624/189624]\n",
            "\n"
          ],
          "name": "stdout"
        }
      ]
    },
    {
      "cell_type": "code",
      "metadata": {
        "id": "NycYG5sT4ekj",
        "colab_type": "code",
        "colab": {}
      },
      "source": [
        "image_path = 'dog-kitten.jpg'"
      ],
      "execution_count": 0,
      "outputs": []
    },
    {
      "cell_type": "code",
      "metadata": {
        "id": "is2pqW-BcO_C",
        "colab_type": "code",
        "colab": {}
      },
      "source": [
        "IMG_SIZE = 299\n",
        "def load_and_preprocess_image(path):\n",
        "  img = tf.io.read_file(path)\n",
        "  img = tf.image.decode_jpeg(img, channels=3)\n",
        "  img = tf.image.resize(img, [IMG_SIZE, IMG_SIZE])\n",
        "  img /= 255.0  # normalize pixels to 0,1\n",
        "  return img\n",
        "image = load_and_preprocess_image(image_path)"
      ],
      "execution_count": 0,
      "outputs": []
    },
    {
      "cell_type": "code",
      "metadata": {
        "id": "mGF6J_EXzhv1",
        "colab_type": "code",
        "outputId": "9016a273-6932-4c16-bf10-324930499bab",
        "colab": {
          "base_uri": "https://localhost:8080/",
          "height": 286
        }
      },
      "source": [
        "image_np = image.numpy()\n",
        "import matplotlib.pyplot as plt\n",
        "plt.imshow(image_np)"
      ],
      "execution_count": 77,
      "outputs": [
        {
          "output_type": "execute_result",
          "data": {
            "text/plain": [
              "<matplotlib.image.AxesImage at 0x7f374933d6d8>"
            ]
          },
          "metadata": {
            "tags": []
          },
          "execution_count": 77
        },
        {
          "output_type": "display_data",
          "data": {
            "image/png": "[encoded data removed]",
            "text/plain": [
              "<Figure size 432x288 with 1 Axes>"
            ]
          },
          "metadata": {
            "tags": []
          }
        }
      ]
    },
    {
      "cell_type": "code",
      "metadata": {
        "id": "9_znVxj-c01S",
        "colab_type": "code",
        "outputId": "b8900a9f-39e0-4b7c-caeb-e2db35cbd06f",
        "colab": {
          "base_uri": "https://localhost:8080/",
          "height": 1000
        }
      },
      "source": [
        "model2b = tf.keras.applications.InceptionV3()\n",
        "model2b.summary()"
      ],
      "execution_count": 78,
      "outputs": [
        {
          "output_type": "stream",
          "text": [
            "Model: \"inception_v3\"\n",
            "__________________________________________________________________________________________________\n",
            "Layer (type)                    Output Shape         Param #     Connected to                     \n",
            "==================================================================================================\n",
            "input_5 (InputLayer)            [(None, 299, 299, 3) 0                                            \n",
            "__________________________________________________________________________________________________\n",
            "conv2d_388 (Conv2D)             (None, 149, 149, 32) 864         input_5[0][0]                    \n",
            "__________________________________________________________________________________________________\n",
            "batch_normalization_376 (BatchN (None, 149, 149, 32) 96          conv2d_388[0][0]                 \n",
            "__________________________________________________________________________________________________\n",
            "activation_376 (Activation)     (None, 149, 149, 32) 0           batch_normalization_376[0][0]    \n",
            "__________________________________________________________________________________________________\n",
            "conv2d_389 (Conv2D)             (None, 147, 147, 32) 9216        activation_376[0][0]             \n",
            "__________________________________________________________________________________________________\n",
            "batch_normalization_377 (BatchN (None, 147, 147, 32) 96          conv2d_389[0][0]                 \n",
            "__________________________________________________________________________________________________\n",
            "activation_377 (Activation)     (None, 147, 147, 32) 0           batch_normalization_377[0][0]    \n",
            "__________________________________________________________________________________________________\n",
            "conv2d_390 (Conv2D)             (None, 147, 147, 64) 18432       activation_377[0][0]             \n",
            "__________________________________________________________________________________________________\n",
            "batch_normalization_378 (BatchN (None, 147, 147, 64) 192         conv2d_390[0][0]                 \n",
            "__________________________________________________________________________________________________\n",
            "activation_378 (Activation)     (None, 147, 147, 64) 0           batch_normalization_378[0][0]    \n",
            "__________________________________________________________________________________________________\n",
            "max_pooling2d_22 (MaxPooling2D) (None, 73, 73, 64)   0           activation_378[0][0]             \n",
            "__________________________________________________________________________________________________\n",
            "conv2d_391 (Conv2D)             (None, 73, 73, 80)   5120        max_pooling2d_22[0][0]           \n",
            "__________________________________________________________________________________________________\n",
            "batch_normalization_379 (BatchN (None, 73, 73, 80)   240         conv2d_391[0][0]                 \n",
            "__________________________________________________________________________________________________\n",
            "activation_379 (Activation)     (None, 73, 73, 80)   0           batch_normalization_379[0][0]    \n",
            "__________________________________________________________________________________________________\n",
            "conv2d_392 (Conv2D)             (None, 71, 71, 192)  138240      activation_379[0][0]             \n",
            "__________________________________________________________________________________________________\n",
            "batch_normalization_380 (BatchN (None, 71, 71, 192)  576         conv2d_392[0][0]                 \n",
            "__________________________________________________________________________________________________\n",
            "activation_380 (Activation)     (None, 71, 71, 192)  0           batch_normalization_380[0][0]    \n",
            "__________________________________________________________________________________________________\n",
            "max_pooling2d_23 (MaxPooling2D) (None, 35, 35, 192)  0           activation_380[0][0]             \n",
            "__________________________________________________________________________________________________\n",
            "conv2d_396 (Conv2D)             (None, 35, 35, 64)   12288       max_pooling2d_23[0][0]           \n",
            "__________________________________________________________________________________________________\n",
            "batch_normalization_384 (BatchN (None, 35, 35, 64)   192         conv2d_396[0][0]                 \n",
            "__________________________________________________________________________________________________\n",
            "activation_384 (Activation)     (None, 35, 35, 64)   0           batch_normalization_384[0][0]    \n",
            "__________________________________________________________________________________________________\n",
            "conv2d_394 (Conv2D)             (None, 35, 35, 48)   9216        max_pooling2d_23[0][0]           \n",
            "__________________________________________________________________________________________________\n",
            "conv2d_397 (Conv2D)             (None, 35, 35, 96)   55296       activation_384[0][0]             \n",
            "__________________________________________________________________________________________________\n",
            "batch_normalization_382 (BatchN (None, 35, 35, 48)   144         conv2d_394[0][0]                 \n",
            "__________________________________________________________________________________________________\n",
            "batch_normalization_385 (BatchN (None, 35, 35, 96)   288         conv2d_397[0][0]                 \n",
            "__________________________________________________________________________________________________\n",
            "activation_382 (Activation)     (None, 35, 35, 48)   0           batch_normalization_382[0][0]    \n",
            "__________________________________________________________________________________________________\n",
            "activation_385 (Activation)     (None, 35, 35, 96)   0           batch_normalization_385[0][0]    \n",
            "__________________________________________________________________________________________________\n",
            "average_pooling2d_36 (AveragePo (None, 35, 35, 192)  0           max_pooling2d_23[0][0]           \n",
            "__________________________________________________________________________________________________\n",
            "conv2d_393 (Conv2D)             (None, 35, 35, 64)   12288       max_pooling2d_23[0][0]           \n",
            "__________________________________________________________________________________________________\n",
            "conv2d_395 (Conv2D)             (None, 35, 35, 64)   76800       activation_382[0][0]             \n",
            "__________________________________________________________________________________________________\n",
            "conv2d_398 (Conv2D)             (None, 35, 35, 96)   82944       activation_385[0][0]             \n",
            "__________________________________________________________________________________________________\n",
            "conv2d_399 (Conv2D)             (None, 35, 35, 32)   6144        average_pooling2d_36[0][0]       \n",
            "__________________________________________________________________________________________________\n",
            "batch_normalization_381 (BatchN (None, 35, 35, 64)   192         conv2d_393[0][0]                 \n",
            "__________________________________________________________________________________________________\n",
            "batch_normalization_383 (BatchN (None, 35, 35, 64)   192         conv2d_395[0][0]                 \n",
            "__________________________________________________________________________________________________\n",
            "batch_normalization_386 (BatchN (None, 35, 35, 96)   288         conv2d_398[0][0]                 \n",
            "__________________________________________________________________________________________________\n",
            "batch_normalization_387 (BatchN (None, 35, 35, 32)   96          conv2d_399[0][0]                 \n",
            "__________________________________________________________________________________________________\n",
            "activation_381 (Activation)     (None, 35, 35, 64)   0           batch_normalization_381[0][0]    \n",
            "__________________________________________________________________________________________________\n",
            "activation_383 (Activation)     (None, 35, 35, 64)   0           batch_normalization_383[0][0]    \n",
            "__________________________________________________________________________________________________\n",
            "activation_386 (Activation)     (None, 35, 35, 96)   0           batch_normalization_386[0][0]    \n",
            "__________________________________________________________________________________________________\n",
            "activation_387 (Activation)     (None, 35, 35, 32)   0           batch_normalization_387[0][0]    \n",
            "__________________________________________________________________________________________________\n",
            "mixed0 (Concatenate)            (None, 35, 35, 256)  0           activation_381[0][0]             \n",
            "                                                                 activation_383[0][0]             \n",
            "                                                                 activation_386[0][0]             \n",
            "                                                                 activation_387[0][0]             \n",
            "__________________________________________________________________________________________________\n",
            "conv2d_403 (Conv2D)             (None, 35, 35, 64)   16384       mixed0[0][0]                     \n",
            "__________________________________________________________________________________________________\n",
            "batch_normalization_391 (BatchN (None, 35, 35, 64)   192         conv2d_403[0][0]                 \n",
            "__________________________________________________________________________________________________\n",
            "activation_391 (Activation)     (None, 35, 35, 64)   0           batch_normalization_391[0][0]    \n",
            "__________________________________________________________________________________________________\n",
            "conv2d_401 (Conv2D)             (None, 35, 35, 48)   12288       mixed0[0][0]                     \n",
            "__________________________________________________________________________________________________\n",
            "conv2d_404 (Conv2D)             (None, 35, 35, 96)   55296       activation_391[0][0]             \n",
            "__________________________________________________________________________________________________\n",
            "batch_normalization_389 (BatchN (None, 35, 35, 48)   144         conv2d_401[0][0]                 \n",
            "__________________________________________________________________________________________________\n",
            "batch_normalization_392 (BatchN (None, 35, 35, 96)   288         conv2d_404[0][0]                 \n",
            "__________________________________________________________________________________________________\n",
            "activation_389 (Activation)     (None, 35, 35, 48)   0           batch_normalization_389[0][0]    \n",
            "__________________________________________________________________________________________________\n",
            "activation_392 (Activation)     (None, 35, 35, 96)   0           batch_normalization_392[0][0]    \n",
            "__________________________________________________________________________________________________\n",
            "average_pooling2d_37 (AveragePo (None, 35, 35, 256)  0           mixed0[0][0]                     \n",
            "__________________________________________________________________________________________________\n",
            "conv2d_400 (Conv2D)             (None, 35, 35, 64)   16384       mixed0[0][0]                     \n",
            "__________________________________________________________________________________________________\n",
            "conv2d_402 (Conv2D)             (None, 35, 35, 64)   76800       activation_389[0][0]             \n",
            "__________________________________________________________________________________________________\n",
            "conv2d_405 (Conv2D)             (None, 35, 35, 96)   82944       activation_392[0][0]             \n",
            "__________________________________________________________________________________________________\n",
            "conv2d_406 (Conv2D)             (None, 35, 35, 64)   16384       average_pooling2d_37[0][0]       \n",
            "__________________________________________________________________________________________________\n",
            "batch_normalization_388 (BatchN (None, 35, 35, 64)   192         conv2d_400[0][0]                 \n",
            "__________________________________________________________________________________________________\n",
            "batch_normalization_390 (BatchN (None, 35, 35, 64)   192         conv2d_402[0][0]                 \n",
            "__________________________________________________________________________________________________\n",
            "batch_normalization_393 (BatchN (None, 35, 35, 96)   288         conv2d_405[0][0]                 \n",
            "__________________________________________________________________________________________________\n",
            "batch_normalization_394 (BatchN (None, 35, 35, 64)   192         conv2d_406[0][0]                 \n",
            "__________________________________________________________________________________________________\n",
            "activation_388 (Activation)     (None, 35, 35, 64)   0           batch_normalization_388[0][0]    \n",
            "__________________________________________________________________________________________________\n",
            "activation_390 (Activation)     (None, 35, 35, 64)   0           batch_normalization_390[0][0]    \n",
            "__________________________________________________________________________________________________\n",
            "activation_393 (Activation)     (None, 35, 35, 96)   0           batch_normalization_393[0][0]    \n",
            "__________________________________________________________________________________________________\n",
            "activation_394 (Activation)     (None, 35, 35, 64)   0           batch_normalization_394[0][0]    \n",
            "__________________________________________________________________________________________________\n",
            "mixed1 (Concatenate)            (None, 35, 35, 288)  0           activation_388[0][0]             \n",
            "                                                                 activation_390[0][0]             \n",
            "                                                                 activation_393[0][0]             \n",
            "                                                                 activation_394[0][0]             \n",
            "__________________________________________________________________________________________________\n",
            "conv2d_410 (Conv2D)             (None, 35, 35, 64)   18432       mixed1[0][0]                     \n",
            "__________________________________________________________________________________________________\n",
            "batch_normalization_398 (BatchN (None, 35, 35, 64)   192         conv2d_410[0][0]                 \n",
            "__________________________________________________________________________________________________\n",
            "activation_398 (Activation)     (None, 35, 35, 64)   0           batch_normalization_398[0][0]    \n",
            "__________________________________________________________________________________________________\n",
            "conv2d_408 (Conv2D)             (None, 35, 35, 48)   13824       mixed1[0][0]                     \n",
            "__________________________________________________________________________________________________\n",
            "conv2d_411 (Conv2D)             (None, 35, 35, 96)   55296       activation_398[0][0]             \n",
            "__________________________________________________________________________________________________\n",
            "batch_normalization_396 (BatchN (None, 35, 35, 48)   144         conv2d_408[0][0]                 \n",
            "__________________________________________________________________________________________________\n",
            "batch_normalization_399 (BatchN (None, 35, 35, 96)   288         conv2d_411[0][0]                 \n",
            "__________________________________________________________________________________________________\n",
            "activation_396 (Activation)     (None, 35, 35, 48)   0           batch_normalization_396[0][0]    \n",
            "__________________________________________________________________________________________________\n",
            "activation_399 (Activation)     (None, 35, 35, 96)   0           batch_normalization_399[0][0]    \n",
            "__________________________________________________________________________________________________\n",
            "average_pooling2d_38 (AveragePo (None, 35, 35, 288)  0           mixed1[0][0]                     \n",
            "__________________________________________________________________________________________________\n",
            "conv2d_407 (Conv2D)             (None, 35, 35, 64)   18432       mixed1[0][0]                     \n",
            "__________________________________________________________________________________________________\n",
            "conv2d_409 (Conv2D)             (None, 35, 35, 64)   76800       activation_396[0][0]             \n",
            "__________________________________________________________________________________________________\n",
            "conv2d_412 (Conv2D)             (None, 35, 35, 96)   82944       activation_399[0][0]             \n",
            "__________________________________________________________________________________________________\n",
            "conv2d_413 (Conv2D)             (None, 35, 35, 64)   18432       average_pooling2d_38[0][0]       \n",
            "__________________________________________________________________________________________________\n",
            "batch_normalization_395 (BatchN (None, 35, 35, 64)   192         conv2d_407[0][0]                 \n",
            "__________________________________________________________________________________________________\n",
            "batch_normalization_397 (BatchN (None, 35, 35, 64)   192         conv2d_409[0][0]                 \n",
            "__________________________________________________________________________________________________\n",
            "batch_normalization_400 (BatchN (None, 35, 35, 96)   288         conv2d_412[0][0]                 \n",
            "__________________________________________________________________________________________________\n",
            "batch_normalization_401 (BatchN (None, 35, 35, 64)   192         conv2d_413[0][0]                 \n",
            "__________________________________________________________________________________________________\n",
            "activation_395 (Activation)     (None, 35, 35, 64)   0           batch_normalization_395[0][0]    \n",
            "__________________________________________________________________________________________________\n",
            "activation_397 (Activation)     (None, 35, 35, 64)   0           batch_normalization_397[0][0]    \n",
            "__________________________________________________________________________________________________\n",
            "activation_400 (Activation)     (None, 35, 35, 96)   0           batch_normalization_400[0][0]    \n",
            "__________________________________________________________________________________________________\n",
            "activation_401 (Activation)     (None, 35, 35, 64)   0           batch_normalization_401[0][0]    \n",
            "__________________________________________________________________________________________________\n",
            "mixed2 (Concatenate)            (None, 35, 35, 288)  0           activation_395[0][0]             \n",
            "                                                                 activation_397[0][0]             \n",
            "                                                                 activation_400[0][0]             \n",
            "                                                                 activation_401[0][0]             \n",
            "__________________________________________________________________________________________________\n",
            "conv2d_415 (Conv2D)             (None, 35, 35, 64)   18432       mixed2[0][0]                     \n",
            "__________________________________________________________________________________________________\n",
            "batch_normalization_403 (BatchN (None, 35, 35, 64)   192         conv2d_415[0][0]                 \n",
            "__________________________________________________________________________________________________\n",
            "activation_403 (Activation)     (None, 35, 35, 64)   0           batch_normalization_403[0][0]    \n",
            "__________________________________________________________________________________________________\n",
            "conv2d_416 (Conv2D)             (None, 35, 35, 96)   55296       activation_403[0][0]             \n",
            "__________________________________________________________________________________________________\n",
            "batch_normalization_404 (BatchN (None, 35, 35, 96)   288         conv2d_416[0][0]                 \n",
            "__________________________________________________________________________________________________\n",
            "activation_404 (Activation)     (None, 35, 35, 96)   0           batch_normalization_404[0][0]    \n",
            "__________________________________________________________________________________________________\n",
            "conv2d_414 (Conv2D)             (None, 17, 17, 384)  995328      mixed2[0][0]                     \n",
            "__________________________________________________________________________________________________\n",
            "conv2d_417 (Conv2D)             (None, 17, 17, 96)   82944       activation_404[0][0]             \n",
            "__________________________________________________________________________________________________\n",
            "batch_normalization_402 (BatchN (None, 17, 17, 384)  1152        conv2d_414[0][0]                 \n",
            "__________________________________________________________________________________________________\n",
            "batch_normalization_405 (BatchN (None, 17, 17, 96)   288         conv2d_417[0][0]                 \n",
            "__________________________________________________________________________________________________\n",
            "activation_402 (Activation)     (None, 17, 17, 384)  0           batch_normalization_402[0][0]    \n",
            "__________________________________________________________________________________________________\n",
            "activation_405 (Activation)     (None, 17, 17, 96)   0           batch_normalization_405[0][0]    \n",
            "__________________________________________________________________________________________________\n",
            "max_pooling2d_24 (MaxPooling2D) (None, 17, 17, 288)  0           mixed2[0][0]                     \n",
            "__________________________________________________________________________________________________\n",
            "mixed3 (Concatenate)            (None, 17, 17, 768)  0           activation_402[0][0]             \n",
            "                                                                 activation_405[0][0]             \n",
            "                                                                 max_pooling2d_24[0][0]           \n",
            "__________________________________________________________________________________________________\n",
            "conv2d_422 (Conv2D)             (None, 17, 17, 128)  98304       mixed3[0][0]                     \n",
            "__________________________________________________________________________________________________\n",
            "batch_normalization_410 (BatchN (None, 17, 17, 128)  384         conv2d_422[0][0]                 \n",
            "__________________________________________________________________________________________________\n",
            "activation_410 (Activation)     (None, 17, 17, 128)  0           batch_normalization_410[0][0]    \n",
            "__________________________________________________________________________________________________\n",
            "conv2d_423 (Conv2D)             (None, 17, 17, 128)  114688      activation_410[0][0]             \n",
            "__________________________________________________________________________________________________\n",
            "batch_normalization_411 (BatchN (None, 17, 17, 128)  384         conv2d_423[0][0]                 \n",
            "__________________________________________________________________________________________________\n",
            "activation_411 (Activation)     (None, 17, 17, 128)  0           batch_normalization_411[0][0]    \n",
            "__________________________________________________________________________________________________\n",
            "conv2d_419 (Conv2D)             (None, 17, 17, 128)  98304       mixed3[0][0]                     \n",
            "__________________________________________________________________________________________________\n",
            "conv2d_424 (Conv2D)             (None, 17, 17, 128)  114688      activation_411[0][0]             \n",
            "__________________________________________________________________________________________________\n",
            "batch_normalization_407 (BatchN (None, 17, 17, 128)  384         conv2d_419[0][0]                 \n",
            "__________________________________________________________________________________________________\n",
            "batch_normalization_412 (BatchN (None, 17, 17, 128)  384         conv2d_424[0][0]                 \n",
            "__________________________________________________________________________________________________\n",
            "activation_407 (Activation)     (None, 17, 17, 128)  0           batch_normalization_407[0][0]    \n",
            "__________________________________________________________________________________________________\n",
            "activation_412 (Activation)     (None, 17, 17, 128)  0           batch_normalization_412[0][0]    \n",
            "__________________________________________________________________________________________________\n",
            "conv2d_420 (Conv2D)             (None, 17, 17, 128)  114688      activation_407[0][0]             \n",
            "__________________________________________________________________________________________________\n",
            "conv2d_425 (Conv2D)             (None, 17, 17, 128)  114688      activation_412[0][0]             \n",
            "__________________________________________________________________________________________________\n",
            "batch_normalization_408 (BatchN (None, 17, 17, 128)  384         conv2d_420[0][0]                 \n",
            "__________________________________________________________________________________________________\n",
            "batch_normalization_413 (BatchN (None, 17, 17, 128)  384         conv2d_425[0][0]                 \n",
            "__________________________________________________________________________________________________\n",
            "activation_408 (Activation)     (None, 17, 17, 128)  0           batch_normalization_408[0][0]    \n",
            "__________________________________________________________________________________________________\n",
            "activation_413 (Activation)     (None, 17, 17, 128)  0           batch_normalization_413[0][0]    \n",
            "__________________________________________________________________________________________________\n",
            "average_pooling2d_39 (AveragePo (None, 17, 17, 768)  0           mixed3[0][0]                     \n",
            "__________________________________________________________________________________________________\n",
            "conv2d_418 (Conv2D)             (None, 17, 17, 192)  147456      mixed3[0][0]                     \n",
            "__________________________________________________________________________________________________\n",
            "conv2d_421 (Conv2D)             (None, 17, 17, 192)  172032      activation_408[0][0]             \n",
            "__________________________________________________________________________________________________\n",
            "conv2d_426 (Conv2D)             (None, 17, 17, 192)  172032      activation_413[0][0]             \n",
            "__________________________________________________________________________________________________\n",
            "conv2d_427 (Conv2D)             (None, 17, 17, 192)  147456      average_pooling2d_39[0][0]       \n",
            "__________________________________________________________________________________________________\n",
            "batch_normalization_406 (BatchN (None, 17, 17, 192)  576         conv2d_418[0][0]                 \n",
            "__________________________________________________________________________________________________\n",
            "batch_normalization_409 (BatchN (None, 17, 17, 192)  576         conv2d_421[0][0]                 \n",
            "__________________________________________________________________________________________________\n",
            "batch_normalization_414 (BatchN (None, 17, 17, 192)  576         conv2d_426[0][0]                 \n",
            "__________________________________________________________________________________________________\n",
            "batch_normalization_415 (BatchN (None, 17, 17, 192)  576         conv2d_427[0][0]                 \n",
            "__________________________________________________________________________________________________\n",
            "activation_406 (Activation)     (None, 17, 17, 192)  0           batch_normalization_406[0][0]    \n",
            "__________________________________________________________________________________________________\n",
            "activation_409 (Activation)     (None, 17, 17, 192)  0           batch_normalization_409[0][0]    \n",
            "__________________________________________________________________________________________________\n",
            "activation_414 (Activation)     (None, 17, 17, 192)  0           batch_normalization_414[0][0]    \n",
            "__________________________________________________________________________________________________\n",
            "activation_415 (Activation)     (None, 17, 17, 192)  0           batch_normalization_415[0][0]    \n",
            "__________________________________________________________________________________________________\n",
            "mixed4 (Concatenate)            (None, 17, 17, 768)  0           activation_406[0][0]             \n",
            "                                                                 activation_409[0][0]             \n",
            "                                                                 activation_414[0][0]             \n",
            "                                                                 activation_415[0][0]             \n",
            "__________________________________________________________________________________________________\n",
            "conv2d_432 (Conv2D)             (None, 17, 17, 160)  122880      mixed4[0][0]                     \n",
            "__________________________________________________________________________________________________\n",
            "batch_normalization_420 (BatchN (None, 17, 17, 160)  480         conv2d_432[0][0]                 \n",
            "__________________________________________________________________________________________________\n",
            "activation_420 (Activation)     (None, 17, 17, 160)  0           batch_normalization_420[0][0]    \n",
            "__________________________________________________________________________________________________\n",
            "conv2d_433 (Conv2D)             (None, 17, 17, 160)  179200      activation_420[0][0]             \n",
            "__________________________________________________________________________________________________\n",
            "batch_normalization_421 (BatchN (None, 17, 17, 160)  480         conv2d_433[0][0]                 \n",
            "__________________________________________________________________________________________________\n",
            "activation_421 (Activation)     (None, 17, 17, 160)  0           batch_normalization_421[0][0]    \n",
            "__________________________________________________________________________________________________\n",
            "conv2d_429 (Conv2D)             (None, 17, 17, 160)  122880      mixed4[0][0]                     \n",
            "__________________________________________________________________________________________________\n",
            "conv2d_434 (Conv2D)             (None, 17, 17, 160)  179200      activation_421[0][0]             \n",
            "__________________________________________________________________________________________________\n",
            "batch_normalization_417 (BatchN (None, 17, 17, 160)  480         conv2d_429[0][0]                 \n",
            "__________________________________________________________________________________________________\n",
            "batch_normalization_422 (BatchN (None, 17, 17, 160)  480         conv2d_434[0][0]                 \n",
            "__________________________________________________________________________________________________\n",
            "activation_417 (Activation)     (None, 17, 17, 160)  0           batch_normalization_417[0][0]    \n",
            "__________________________________________________________________________________________________\n",
            "activation_422 (Activation)     (None, 17, 17, 160)  0           batch_normalization_422[0][0]    \n",
            "__________________________________________________________________________________________________\n",
            "conv2d_430 (Conv2D)             (None, 17, 17, 160)  179200      activation_417[0][0]             \n",
            "__________________________________________________________________________________________________\n",
            "conv2d_435 (Conv2D)             (None, 17, 17, 160)  179200      activation_422[0][0]             \n",
            "__________________________________________________________________________________________________\n",
            "batch_normalization_418 (BatchN (None, 17, 17, 160)  480         conv2d_430[0][0]                 \n",
            "__________________________________________________________________________________________________\n",
            "batch_normalization_423 (BatchN (None, 17, 17, 160)  480         conv2d_435[0][0]                 \n",
            "__________________________________________________________________________________________________\n",
            "activation_418 (Activation)     (None, 17, 17, 160)  0           batch_normalization_418[0][0]    \n",
            "__________________________________________________________________________________________________\n",
            "activation_423 (Activation)     (None, 17, 17, 160)  0           batch_normalization_423[0][0]    \n",
            "__________________________________________________________________________________________________\n",
            "average_pooling2d_40 (AveragePo (None, 17, 17, 768)  0           mixed4[0][0]                     \n",
            "__________________________________________________________________________________________________\n",
            "conv2d_428 (Conv2D)             (None, 17, 17, 192)  147456      mixed4[0][0]                     \n",
            "__________________________________________________________________________________________________\n",
            "conv2d_431 (Conv2D)             (None, 17, 17, 192)  215040      activation_418[0][0]             \n",
            "__________________________________________________________________________________________________\n",
            "conv2d_436 (Conv2D)             (None, 17, 17, 192)  215040      activation_423[0][0]             \n",
            "__________________________________________________________________________________________________\n",
            "conv2d_437 (Conv2D)             (None, 17, 17, 192)  147456      average_pooling2d_40[0][0]       \n",
            "__________________________________________________________________________________________________\n",
            "batch_normalization_416 (BatchN (None, 17, 17, 192)  576         conv2d_428[0][0]                 \n",
            "__________________________________________________________________________________________________\n",
            "batch_normalization_419 (BatchN (None, 17, 17, 192)  576         conv2d_431[0][0]                 \n",
            "__________________________________________________________________________________________________\n",
            "batch_normalization_424 (BatchN (None, 17, 17, 192)  576         conv2d_436[0][0]                 \n",
            "__________________________________________________________________________________________________\n",
            "batch_normalization_425 (BatchN (None, 17, 17, 192)  576         conv2d_437[0][0]                 \n",
            "__________________________________________________________________________________________________\n",
            "activation_416 (Activation)     (None, 17, 17, 192)  0           batch_normalization_416[0][0]    \n",
            "__________________________________________________________________________________________________\n",
            "activation_419 (Activation)     (None, 17, 17, 192)  0           batch_normalization_419[0][0]    \n",
            "__________________________________________________________________________________________________\n",
            "activation_424 (Activation)     (None, 17, 17, 192)  0           batch_normalization_424[0][0]    \n",
            "__________________________________________________________________________________________________\n",
            "activation_425 (Activation)     (None, 17, 17, 192)  0           batch_normalization_425[0][0]    \n",
            "__________________________________________________________________________________________________\n",
            "mixed5 (Concatenate)            (None, 17, 17, 768)  0           activation_416[0][0]             \n",
            "                                                                 activation_419[0][0]             \n",
            "                                                                 activation_424[0][0]             \n",
            "                                                                 activation_425[0][0]             \n",
            "__________________________________________________________________________________________________\n",
            "conv2d_442 (Conv2D)             (None, 17, 17, 160)  122880      mixed5[0][0]                     \n",
            "__________________________________________________________________________________________________\n",
            "batch_normalization_430 (BatchN (None, 17, 17, 160)  480         conv2d_442[0][0]                 \n",
            "__________________________________________________________________________________________________\n",
            "activation_430 (Activation)     (None, 17, 17, 160)  0           batch_normalization_430[0][0]    \n",
            "__________________________________________________________________________________________________\n",
            "conv2d_443 (Conv2D)             (None, 17, 17, 160)  179200      activation_430[0][0]             \n",
            "__________________________________________________________________________________________________\n",
            "batch_normalization_431 (BatchN (None, 17, 17, 160)  480         conv2d_443[0][0]                 \n",
            "__________________________________________________________________________________________________\n",
            "activation_431 (Activation)     (None, 17, 17, 160)  0           batch_normalization_431[0][0]    \n",
            "__________________________________________________________________________________________________\n",
            "conv2d_439 (Conv2D)             (None, 17, 17, 160)  122880      mixed5[0][0]                     \n",
            "__________________________________________________________________________________________________\n",
            "conv2d_444 (Conv2D)             (None, 17, 17, 160)  179200      activation_431[0][0]             \n",
            "__________________________________________________________________________________________________\n",
            "batch_normalization_427 (BatchN (None, 17, 17, 160)  480         conv2d_439[0][0]                 \n",
            "__________________________________________________________________________________________________\n",
            "batch_normalization_432 (BatchN (None, 17, 17, 160)  480         conv2d_444[0][0]                 \n",
            "__________________________________________________________________________________________________\n",
            "activation_427 (Activation)     (None, 17, 17, 160)  0           batch_normalization_427[0][0]    \n",
            "__________________________________________________________________________________________________\n",
            "activation_432 (Activation)     (None, 17, 17, 160)  0           batch_normalization_432[0][0]    \n",
            "__________________________________________________________________________________________________\n",
            "conv2d_440 (Conv2D)             (None, 17, 17, 160)  179200      activation_427[0][0]             \n",
            "__________________________________________________________________________________________________\n",
            "conv2d_445 (Conv2D)             (None, 17, 17, 160)  179200      activation_432[0][0]             \n",
            "__________________________________________________________________________________________________\n",
            "batch_normalization_428 (BatchN (None, 17, 17, 160)  480         conv2d_440[0][0]                 \n",
            "__________________________________________________________________________________________________\n",
            "batch_normalization_433 (BatchN (None, 17, 17, 160)  480         conv2d_445[0][0]                 \n",
            "__________________________________________________________________________________________________\n",
            "activation_428 (Activation)     (None, 17, 17, 160)  0           batch_normalization_428[0][0]    \n",
            "__________________________________________________________________________________________________\n",
            "activation_433 (Activation)     (None, 17, 17, 160)  0           batch_normalization_433[0][0]    \n",
            "__________________________________________________________________________________________________\n",
            "average_pooling2d_41 (AveragePo (None, 17, 17, 768)  0           mixed5[0][0]                     \n",
            "__________________________________________________________________________________________________\n",
            "conv2d_438 (Conv2D)             (None, 17, 17, 192)  147456      mixed5[0][0]                     \n",
            "__________________________________________________________________________________________________\n",
            "conv2d_441 (Conv2D)             (None, 17, 17, 192)  215040      activation_428[0][0]             \n",
            "__________________________________________________________________________________________________\n",
            "conv2d_446 (Conv2D)             (None, 17, 17, 192)  215040      activation_433[0][0]             \n",
            "__________________________________________________________________________________________________\n",
            "conv2d_447 (Conv2D)             (None, 17, 17, 192)  147456      average_pooling2d_41[0][0]       \n",
            "__________________________________________________________________________________________________\n",
            "batch_normalization_426 (BatchN (None, 17, 17, 192)  576         conv2d_438[0][0]                 \n",
            "__________________________________________________________________________________________________\n",
            "batch_normalization_429 (BatchN (None, 17, 17, 192)  576         conv2d_441[0][0]                 \n",
            "__________________________________________________________________________________________________\n",
            "batch_normalization_434 (BatchN (None, 17, 17, 192)  576         conv2d_446[0][0]                 \n",
            "__________________________________________________________________________________________________\n",
            "batch_normalization_435 (BatchN (None, 17, 17, 192)  576         conv2d_447[0][0]                 \n",
            "__________________________________________________________________________________________________\n",
            "activation_426 (Activation)     (None, 17, 17, 192)  0           batch_normalization_426[0][0]    \n",
            "__________________________________________________________________________________________________\n",
            "activation_429 (Activation)     (None, 17, 17, 192)  0           batch_normalization_429[0][0]    \n",
            "__________________________________________________________________________________________________\n",
            "activation_434 (Activation)     (None, 17, 17, 192)  0           batch_normalization_434[0][0]    \n",
            "__________________________________________________________________________________________________\n",
            "activation_435 (Activation)     (None, 17, 17, 192)  0           batch_normalization_435[0][0]    \n",
            "__________________________________________________________________________________________________\n",
            "mixed6 (Concatenate)            (None, 17, 17, 768)  0           activation_426[0][0]             \n",
            "                                                                 activation_429[0][0]             \n",
            "                                                                 activation_434[0][0]             \n",
            "                                                                 activation_435[0][0]             \n",
            "__________________________________________________________________________________________________\n",
            "conv2d_452 (Conv2D)             (None, 17, 17, 192)  147456      mixed6[0][0]                     \n",
            "__________________________________________________________________________________________________\n",
            "batch_normalization_440 (BatchN (None, 17, 17, 192)  576         conv2d_452[0][0]                 \n",
            "__________________________________________________________________________________________________\n",
            "activation_440 (Activation)     (None, 17, 17, 192)  0           batch_normalization_440[0][0]    \n",
            "__________________________________________________________________________________________________\n",
            "conv2d_453 (Conv2D)             (None, 17, 17, 192)  258048      activation_440[0][0]             \n",
            "__________________________________________________________________________________________________\n",
            "batch_normalization_441 (BatchN (None, 17, 17, 192)  576         conv2d_453[0][0]                 \n",
            "__________________________________________________________________________________________________\n",
            "activation_441 (Activation)     (None, 17, 17, 192)  0           batch_normalization_441[0][0]    \n",
            "__________________________________________________________________________________________________\n",
            "conv2d_449 (Conv2D)             (None, 17, 17, 192)  147456      mixed6[0][0]                     \n",
            "__________________________________________________________________________________________________\n",
            "conv2d_454 (Conv2D)             (None, 17, 17, 192)  258048      activation_441[0][0]             \n",
            "__________________________________________________________________________________________________\n",
            "batch_normalization_437 (BatchN (None, 17, 17, 192)  576         conv2d_449[0][0]                 \n",
            "__________________________________________________________________________________________________\n",
            "batch_normalization_442 (BatchN (None, 17, 17, 192)  576         conv2d_454[0][0]                 \n",
            "__________________________________________________________________________________________________\n",
            "activation_437 (Activation)     (None, 17, 17, 192)  0           batch_normalization_437[0][0]    \n",
            "__________________________________________________________________________________________________\n",
            "activation_442 (Activation)     (None, 17, 17, 192)  0           batch_normalization_442[0][0]    \n",
            "__________________________________________________________________________________________________\n",
            "conv2d_450 (Conv2D)             (None, 17, 17, 192)  258048      activation_437[0][0]             \n",
            "__________________________________________________________________________________________________\n",
            "conv2d_455 (Conv2D)             (None, 17, 17, 192)  258048      activation_442[0][0]             \n",
            "__________________________________________________________________________________________________\n",
            "batch_normalization_438 (BatchN (None, 17, 17, 192)  576         conv2d_450[0][0]                 \n",
            "__________________________________________________________________________________________________\n",
            "batch_normalization_443 (BatchN (None, 17, 17, 192)  576         conv2d_455[0][0]                 \n",
            "__________________________________________________________________________________________________\n",
            "activation_438 (Activation)     (None, 17, 17, 192)  0           batch_normalization_438[0][0]    \n",
            "__________________________________________________________________________________________________\n",
            "activation_443 (Activation)     (None, 17, 17, 192)  0           batch_normalization_443[0][0]    \n",
            "__________________________________________________________________________________________________\n",
            "average_pooling2d_42 (AveragePo (None, 17, 17, 768)  0           mixed6[0][0]                     \n",
            "__________________________________________________________________________________________________\n",
            "conv2d_448 (Conv2D)             (None, 17, 17, 192)  147456      mixed6[0][0]                     \n",
            "__________________________________________________________________________________________________\n",
            "conv2d_451 (Conv2D)             (None, 17, 17, 192)  258048      activation_438[0][0]             \n",
            "__________________________________________________________________________________________________\n",
            "conv2d_456 (Conv2D)             (None, 17, 17, 192)  258048      activation_443[0][0]             \n",
            "__________________________________________________________________________________________________\n",
            "conv2d_457 (Conv2D)             (None, 17, 17, 192)  147456      average_pooling2d_42[0][0]       \n",
            "__________________________________________________________________________________________________\n",
            "batch_normalization_436 (BatchN (None, 17, 17, 192)  576         conv2d_448[0][0]                 \n",
            "__________________________________________________________________________________________________\n",
            "batch_normalization_439 (BatchN (None, 17, 17, 192)  576         conv2d_451[0][0]                 \n",
            "__________________________________________________________________________________________________\n",
            "batch_normalization_444 (BatchN (None, 17, 17, 192)  576         conv2d_456[0][0]                 \n",
            "__________________________________________________________________________________________________\n",
            "batch_normalization_445 (BatchN (None, 17, 17, 192)  576         conv2d_457[0][0]                 \n",
            "__________________________________________________________________________________________________\n",
            "activation_436 (Activation)     (None, 17, 17, 192)  0           batch_normalization_436[0][0]    \n",
            "__________________________________________________________________________________________________\n",
            "activation_439 (Activation)     (None, 17, 17, 192)  0           batch_normalization_439[0][0]    \n",
            "__________________________________________________________________________________________________\n",
            "activation_444 (Activation)     (None, 17, 17, 192)  0           batch_normalization_444[0][0]    \n",
            "__________________________________________________________________________________________________\n",
            "activation_445 (Activation)     (None, 17, 17, 192)  0           batch_normalization_445[0][0]    \n",
            "__________________________________________________________________________________________________\n",
            "mixed7 (Concatenate)            (None, 17, 17, 768)  0           activation_436[0][0]             \n",
            "                                                                 activation_439[0][0]             \n",
            "                                                                 activation_444[0][0]             \n",
            "                                                                 activation_445[0][0]             \n",
            "__________________________________________________________________________________________________\n",
            "conv2d_460 (Conv2D)             (None, 17, 17, 192)  147456      mixed7[0][0]                     \n",
            "__________________________________________________________________________________________________\n",
            "batch_normalization_448 (BatchN (None, 17, 17, 192)  576         conv2d_460[0][0]                 \n",
            "__________________________________________________________________________________________________\n",
            "activation_448 (Activation)     (None, 17, 17, 192)  0           batch_normalization_448[0][0]    \n",
            "__________________________________________________________________________________________________\n",
            "conv2d_461 (Conv2D)             (None, 17, 17, 192)  258048      activation_448[0][0]             \n",
            "__________________________________________________________________________________________________\n",
            "batch_normalization_449 (BatchN (None, 17, 17, 192)  576         conv2d_461[0][0]                 \n",
            "__________________________________________________________________________________________________\n",
            "activation_449 (Activation)     (None, 17, 17, 192)  0           batch_normalization_449[0][0]    \n",
            "__________________________________________________________________________________________________\n",
            "conv2d_458 (Conv2D)             (None, 17, 17, 192)  147456      mixed7[0][0]                     \n",
            "__________________________________________________________________________________________________\n",
            "conv2d_462 (Conv2D)             (None, 17, 17, 192)  258048      activation_449[0][0]             \n",
            "__________________________________________________________________________________________________\n",
            "batch_normalization_446 (BatchN (None, 17, 17, 192)  576         conv2d_458[0][0]                 \n",
            "__________________________________________________________________________________________________\n",
            "batch_normalization_450 (BatchN (None, 17, 17, 192)  576         conv2d_462[0][0]                 \n",
            "__________________________________________________________________________________________________\n",
            "activation_446 (Activation)     (None, 17, 17, 192)  0           batch_normalization_446[0][0]    \n",
            "__________________________________________________________________________________________________\n",
            "activation_450 (Activation)     (None, 17, 17, 192)  0           batch_normalization_450[0][0]    \n",
            "__________________________________________________________________________________________________\n",
            "conv2d_459 (Conv2D)             (None, 8, 8, 320)    552960      activation_446[0][0]             \n",
            "__________________________________________________________________________________________________\n",
            "conv2d_463 (Conv2D)             (None, 8, 8, 192)    331776      activation_450[0][0]             \n",
            "__________________________________________________________________________________________________\n",
            "batch_normalization_447 (BatchN (None, 8, 8, 320)    960         conv2d_459[0][0]                 \n",
            "__________________________________________________________________________________________________\n",
            "batch_normalization_451 (BatchN (None, 8, 8, 192)    576         conv2d_463[0][0]                 \n",
            "__________________________________________________________________________________________________\n",
            "activation_447 (Activation)     (None, 8, 8, 320)    0           batch_normalization_447[0][0]    \n",
            "__________________________________________________________________________________________________\n",
            "activation_451 (Activation)     (None, 8, 8, 192)    0           batch_normalization_451[0][0]    \n",
            "__________________________________________________________________________________________________\n",
            "max_pooling2d_25 (MaxPooling2D) (None, 8, 8, 768)    0           mixed7[0][0]                     \n",
            "__________________________________________________________________________________________________\n",
            "mixed8 (Concatenate)            (None, 8, 8, 1280)   0           activation_447[0][0]             \n",
            "                                                                 activation_451[0][0]             \n",
            "                                                                 max_pooling2d_25[0][0]           \n",
            "__________________________________________________________________________________________________\n",
            "conv2d_468 (Conv2D)             (None, 8, 8, 448)    573440      mixed8[0][0]                     \n",
            "__________________________________________________________________________________________________\n",
            "batch_normalization_456 (BatchN (None, 8, 8, 448)    1344        conv2d_468[0][0]                 \n",
            "__________________________________________________________________________________________________\n",
            "activation_456 (Activation)     (None, 8, 8, 448)    0           batch_normalization_456[0][0]    \n",
            "__________________________________________________________________________________________________\n",
            "conv2d_465 (Conv2D)             (None, 8, 8, 384)    491520      mixed8[0][0]                     \n",
            "__________________________________________________________________________________________________\n",
            "conv2d_469 (Conv2D)             (None, 8, 8, 384)    1548288     activation_456[0][0]             \n",
            "__________________________________________________________________________________________________\n",
            "batch_normalization_453 (BatchN (None, 8, 8, 384)    1152        conv2d_465[0][0]                 \n",
            "__________________________________________________________________________________________________\n",
            "batch_normalization_457 (BatchN (None, 8, 8, 384)    1152        conv2d_469[0][0]                 \n",
            "__________________________________________________________________________________________________\n",
            "activation_453 (Activation)     (None, 8, 8, 384)    0           batch_normalization_453[0][0]    \n",
            "__________________________________________________________________________________________________\n",
            "activation_457 (Activation)     (None, 8, 8, 384)    0           batch_normalization_457[0][0]    \n",
            "__________________________________________________________________________________________________\n",
            "conv2d_466 (Conv2D)             (None, 8, 8, 384)    442368      activation_453[0][0]             \n",
            "__________________________________________________________________________________________________\n",
            "conv2d_467 (Conv2D)             (None, 8, 8, 384)    442368      activation_453[0][0]             \n",
            "__________________________________________________________________________________________________\n",
            "conv2d_470 (Conv2D)             (None, 8, 8, 384)    442368      activation_457[0][0]             \n",
            "__________________________________________________________________________________________________\n",
            "conv2d_471 (Conv2D)             (None, 8, 8, 384)    442368      activation_457[0][0]             \n",
            "__________________________________________________________________________________________________\n",
            "average_pooling2d_43 (AveragePo (None, 8, 8, 1280)   0           mixed8[0][0]                     \n",
            "__________________________________________________________________________________________________\n",
            "conv2d_464 (Conv2D)             (None, 8, 8, 320)    409600      mixed8[0][0]                     \n",
            "__________________________________________________________________________________________________\n",
            "batch_normalization_454 (BatchN (None, 8, 8, 384)    1152        conv2d_466[0][0]                 \n",
            "__________________________________________________________________________________________________\n",
            "batch_normalization_455 (BatchN (None, 8, 8, 384)    1152        conv2d_467[0][0]                 \n",
            "__________________________________________________________________________________________________\n",
            "batch_normalization_458 (BatchN (None, 8, 8, 384)    1152        conv2d_470[0][0]                 \n",
            "__________________________________________________________________________________________________\n",
            "batch_normalization_459 (BatchN (None, 8, 8, 384)    1152        conv2d_471[0][0]                 \n",
            "__________________________________________________________________________________________________\n",
            "conv2d_472 (Conv2D)             (None, 8, 8, 192)    245760      average_pooling2d_43[0][0]       \n",
            "__________________________________________________________________________________________________\n",
            "batch_normalization_452 (BatchN (None, 8, 8, 320)    960         conv2d_464[0][0]                 \n",
            "__________________________________________________________________________________________________\n",
            "activation_454 (Activation)     (None, 8, 8, 384)    0           batch_normalization_454[0][0]    \n",
            "__________________________________________________________________________________________________\n",
            "activation_455 (Activation)     (None, 8, 8, 384)    0           batch_normalization_455[0][0]    \n",
            "__________________________________________________________________________________________________\n",
            "activation_458 (Activation)     (None, 8, 8, 384)    0           batch_normalization_458[0][0]    \n",
            "__________________________________________________________________________________________________\n",
            "activation_459 (Activation)     (None, 8, 8, 384)    0           batch_normalization_459[0][0]    \n",
            "__________________________________________________________________________________________________\n",
            "batch_normalization_460 (BatchN (None, 8, 8, 192)    576         conv2d_472[0][0]                 \n",
            "__________________________________________________________________________________________________\n",
            "activation_452 (Activation)     (None, 8, 8, 320)    0           batch_normalization_452[0][0]    \n",
            "__________________________________________________________________________________________________\n",
            "mixed9_0 (Concatenate)          (None, 8, 8, 768)    0           activation_454[0][0]             \n",
            "                                                                 activation_455[0][0]             \n",
            "__________________________________________________________________________________________________\n",
            "concatenate_8 (Concatenate)     (None, 8, 8, 768)    0           activation_458[0][0]             \n",
            "                                                                 activation_459[0][0]             \n",
            "__________________________________________________________________________________________________\n",
            "activation_460 (Activation)     (None, 8, 8, 192)    0           batch_normalization_460[0][0]    \n",
            "__________________________________________________________________________________________________\n",
            "mixed9 (Concatenate)            (None, 8, 8, 2048)   0           activation_452[0][0]             \n",
            "                                                                 mixed9_0[0][0]                   \n",
            "                                                                 concatenate_8[0][0]              \n",
            "                                                                 activation_460[0][0]             \n",
            "__________________________________________________________________________________________________\n",
            "conv2d_477 (Conv2D)             (None, 8, 8, 448)    917504      mixed9[0][0]                     \n",
            "__________________________________________________________________________________________________\n",
            "batch_normalization_465 (BatchN (None, 8, 8, 448)    1344        conv2d_477[0][0]                 \n",
            "__________________________________________________________________________________________________\n",
            "activation_465 (Activation)     (None, 8, 8, 448)    0           batch_normalization_465[0][0]    \n",
            "__________________________________________________________________________________________________\n",
            "conv2d_474 (Conv2D)             (None, 8, 8, 384)    786432      mixed9[0][0]                     \n",
            "__________________________________________________________________________________________________\n",
            "conv2d_478 (Conv2D)             (None, 8, 8, 384)    1548288     activation_465[0][0]             \n",
            "__________________________________________________________________________________________________\n",
            "batch_normalization_462 (BatchN (None, 8, 8, 384)    1152        conv2d_474[0][0]                 \n",
            "__________________________________________________________________________________________________\n",
            "batch_normalization_466 (BatchN (None, 8, 8, 384)    1152        conv2d_478[0][0]                 \n",
            "__________________________________________________________________________________________________\n",
            "activation_462 (Activation)     (None, 8, 8, 384)    0           batch_normalization_462[0][0]    \n",
            "__________________________________________________________________________________________________\n",
            "activation_466 (Activation)     (None, 8, 8, 384)    0           batch_normalization_466[0][0]    \n",
            "__________________________________________________________________________________________________\n",
            "conv2d_475 (Conv2D)             (None, 8, 8, 384)    442368      activation_462[0][0]             \n",
            "__________________________________________________________________________________________________\n",
            "conv2d_476 (Conv2D)             (None, 8, 8, 384)    442368      activation_462[0][0]             \n",
            "__________________________________________________________________________________________________\n",
            "conv2d_479 (Conv2D)             (None, 8, 8, 384)    442368      activation_466[0][0]             \n",
            "__________________________________________________________________________________________________\n",
            "conv2d_480 (Conv2D)             (None, 8, 8, 384)    442368      activation_466[0][0]             \n",
            "__________________________________________________________________________________________________\n",
            "average_pooling2d_44 (AveragePo (None, 8, 8, 2048)   0           mixed9[0][0]                     \n",
            "__________________________________________________________________________________________________\n",
            "conv2d_473 (Conv2D)             (None, 8, 8, 320)    655360      mixed9[0][0]                     \n",
            "__________________________________________________________________________________________________\n",
            "batch_normalization_463 (BatchN (None, 8, 8, 384)    1152        conv2d_475[0][0]                 \n",
            "__________________________________________________________________________________________________\n",
            "batch_normalization_464 (BatchN (None, 8, 8, 384)    1152        conv2d_476[0][0]                 \n",
            "__________________________________________________________________________________________________\n",
            "batch_normalization_467 (BatchN (None, 8, 8, 384)    1152        conv2d_479[0][0]                 \n",
            "__________________________________________________________________________________________________\n",
            "batch_normalization_468 (BatchN (None, 8, 8, 384)    1152        conv2d_480[0][0]                 \n",
            "__________________________________________________________________________________________________\n",
            "conv2d_481 (Conv2D)             (None, 8, 8, 192)    393216      average_pooling2d_44[0][0]       \n",
            "__________________________________________________________________________________________________\n",
            "batch_normalization_461 (BatchN (None, 8, 8, 320)    960         conv2d_473[0][0]                 \n",
            "__________________________________________________________________________________________________\n",
            "activation_463 (Activation)     (None, 8, 8, 384)    0           batch_normalization_463[0][0]    \n",
            "__________________________________________________________________________________________________\n",
            "activation_464 (Activation)     (None, 8, 8, 384)    0           batch_normalization_464[0][0]    \n",
            "__________________________________________________________________________________________________\n",
            "activation_467 (Activation)     (None, 8, 8, 384)    0           batch_normalization_467[0][0]    \n",
            "__________________________________________________________________________________________________\n",
            "activation_468 (Activation)     (None, 8, 8, 384)    0           batch_normalization_468[0][0]    \n",
            "__________________________________________________________________________________________________\n",
            "batch_normalization_469 (BatchN (None, 8, 8, 192)    576         conv2d_481[0][0]                 \n",
            "__________________________________________________________________________________________________\n",
            "activation_461 (Activation)     (None, 8, 8, 320)    0           batch_normalization_461[0][0]    \n",
            "__________________________________________________________________________________________________\n",
            "mixed9_1 (Concatenate)          (None, 8, 8, 768)    0           activation_463[0][0]             \n",
            "                                                                 activation_464[0][0]             \n",
            "__________________________________________________________________________________________________\n",
            "concatenate_9 (Concatenate)     (None, 8, 8, 768)    0           activation_467[0][0]             \n",
            "                                                                 activation_468[0][0]             \n",
            "__________________________________________________________________________________________________\n",
            "activation_469 (Activation)     (None, 8, 8, 192)    0           batch_normalization_469[0][0]    \n",
            "__________________________________________________________________________________________________\n",
            "mixed10 (Concatenate)           (None, 8, 8, 2048)   0           activation_461[0][0]             \n",
            "                                                                 mixed9_1[0][0]                   \n",
            "                                                                 concatenate_9[0][0]              \n",
            "                                                                 activation_469[0][0]             \n",
            "__________________________________________________________________________________________________\n",
            "avg_pool (GlobalAveragePooling2 (None, 2048)         0           mixed10[0][0]                    \n",
            "__________________________________________________________________________________________________\n",
            "predictions (Dense)             (None, 1000)         2049000     avg_pool[0][0]                   \n",
            "==================================================================================================\n",
            "Total params: 23,851,784\n",
            "Trainable params: 23,817,352\n",
            "Non-trainable params: 34,432\n",
            "__________________________________________________________________________________________________\n"
          ],
          "name": "stdout"
        }
      ]
    },
    {
      "cell_type": "code",
      "metadata": {
        "id": "KDhwbxurdAZx",
        "colab_type": "code",
        "colab": {}
      },
      "source": [
        "pred_prob = model2b.predict(tf.expand_dims(image, 0), steps = 1)"
      ],
      "execution_count": 0,
      "outputs": []
    },
    {
      "cell_type": "code",
      "metadata": {
        "id": "XTRgH1LVdwm8",
        "colab_type": "code",
        "colab": {}
      },
      "source": [
        "import numpy as np\n",
        "top3class = np.argsort(pred_prob)[0][::-1][0:3]"
      ],
      "execution_count": 0,
      "outputs": []
    },
    {
      "cell_type": "code",
      "metadata": {
        "id": "8v-C-JMHe1Pp",
        "colab_type": "code",
        "outputId": "b2040b38-0732-4049-883f-8ad84dac5982",
        "colab": {
          "base_uri": "https://localhost:8080/",
          "height": 224
        }
      },
      "source": [
        "#get label names of imagenet \n",
        "!wget https://gist.githubusercontent.com/yrevar/942d3a0ac09ec9e5eb3a/raw/238f720ff059c1f82f368259d1ca4ffa5dd8f9f5/imagenet1000_clsidx_to_labels.txt"
      ],
      "execution_count": 81,
      "outputs": [
        {
          "output_type": "stream",
          "text": [
            "--2020-03-16 18:58:37--  https://gist.githubusercontent.com/yrevar/942d3a0ac09ec9e5eb3a/raw/238f720ff059c1f82f368259d1ca4ffa5dd8f9f5/imagenet1000_clsidx_to_labels.txt\n",
            "Resolving gist.githubusercontent.com (gist.githubusercontent.com)... 151.101.0.133, 151.101.64.133, 151.101.128.133, ...\n",
            "Connecting to gist.githubusercontent.com (gist.githubusercontent.com)|151.101.0.133|:443... connected.\n",
            "HTTP request sent, awaiting response... 200 OK\n",
            "Length: 30564 (30K) [text/plain]\n",
            "Saving to: ‘imagenet1000_clsidx_to_labels.txt.5’\n",
            "\n",
            "\r          imagenet1   0%[                    ]       0  --.-KB/s               \rimagenet1000_clsidx 100%[===================>]  29.85K  --.-KB/s    in 0.005s  \n",
            "\n",
            "2020-03-16 18:58:37 (6.41 MB/s) - ‘imagenet1000_clsidx_to_labels.txt.5’ saved [30564/30564]\n",
            "\n"
          ],
          "name": "stdout"
        }
      ]
    },
    {
      "cell_type": "code",
      "metadata": {
        "id": "Ak_Tgv6sfWGY",
        "colab_type": "code",
        "colab": {}
      },
      "source": [
        "label_name = open('/content/imagenet1000_clsidx_to_labels.txt')\n",
        "label_dict = {}\n",
        "for lines in label_name.readlines():\n",
        "  key = int(lines.split(\":\")[0][1:])\n",
        "  val = lines.split(\":\")[1][2:].split(\",\")[0]\n",
        "  if val[len(val)-1]=='\\'':\n",
        "    val = val[:(len(val)-1)]\n",
        "  label_dict[key] = val"
      ],
      "execution_count": 0,
      "outputs": []
    },
    {
      "cell_type": "code",
      "metadata": {
        "id": "z0xE__HIhAvN",
        "colab_type": "code",
        "outputId": "0e66dab8-65d0-420f-9383-cfea4ccdcb2a",
        "colab": {
          "base_uri": "https://localhost:8080/",
          "height": 85
        }
      },
      "source": [
        "#TOP 3 predicted classes\n",
        "print('Top 3 classes are:')\n",
        "print(top3class[0],label_dict[top3class[0]], pred_prob[0][top3class[0]])\n",
        "print(top3class[1],label_dict[top3class[1]],pred_prob[0][top3class[1]])\n",
        "print(top3class[2],label_dict[top3class[2]],pred_prob[0][top3class[2]])"
      ],
      "execution_count": 83,
      "outputs": [
        {
          "output_type": "stream",
          "text": [
            "Top 3 classes are:\n",
            "162 beagle 0.8657647\n",
            "167 English foxhound 0.007300014\n",
            "428 barrow 0.0041064657\n"
          ],
          "name": "stdout"
        }
      ]
    },
    {
      "cell_type": "code",
      "metadata": {
        "id": "nRQfO4VGlQPw",
        "colab_type": "code",
        "outputId": "be0cd0ba-682a-4ed1-b3f0-383a1b0cff65",
        "colab": {
          "base_uri": "https://localhost:8080/",
          "height": 34
        }
      },
      "source": [
        "from lime import lime_image\n",
        "explainer = lime_image.LimeImageExplainer()\n",
        "\n",
        "image_np = image.numpy()\n",
        "explanation = explainer.explain_instance(image_np, model2b.predict, top_labels=3, hide_color=0, num_samples=1000)"
      ],
      "execution_count": 84,
      "outputs": [
        {
          "output_type": "stream",
          "text": [
            "\n"
          ],
          "name": "stderr"
        }
      ]
    },
    {
      "cell_type": "code",
      "metadata": {
        "id": "CEArSc41nHdu",
        "colab_type": "code",
        "colab": {}
      },
      "source": [
        "from skimage.segmentation import mark_boundaries\n",
        "def show_explain(rank, label_num, label_name, label_prob, num_feat = 5):\n",
        "  temp, mask = explanation.get_image_and_mask(label_num, positive_only=True, num_features=num_feat, hide_rest=True)\n",
        "  plt.imshow(mark_boundaries(temp / 2 + 0.5, mask))\n",
        "  plt.title('Top'+ str(rank) +'class:'+ label_name + 'prob =' + str(label_prob))\n",
        "  plt.xticks([])\n",
        "  plt.yticks([])\n",
        "  plt.show()"
      ],
      "execution_count": 0,
      "outputs": []
    },
    {
      "cell_type": "code",
      "metadata": {
        "id": "xgF1XS5DnXCz",
        "colab_type": "code",
        "outputId": "36dfcfbe-6769-4147-ba81-47e8cfd84058",
        "colab": {
          "base_uri": "https://localhost:8080/",
          "height": 770
        }
      },
      "source": [
        "show_explain(1, top3class[0],label_dict[top3class[0]], pred_prob[0][top3class[0]])\n",
        "show_explain(2, top3class[1],label_dict[top3class[1]], pred_prob[0][top3class[1]])\n",
        "show_explain(3, top3class[2],label_dict[top3class[2]], pred_prob[0][top3class[2]])"
      ],
      "execution_count": 86,
      "outputs": [
        {
          "output_type": "display_data",
          "data": {
            "image/png": "[encoded data removed]",
            "text/plain": [
              "<Figure size 432x288 with 1 Axes>"
            ]
          },
          "metadata": {
            "tags": []
          }
        },
        {
          "output_type": "display_data",
          "data": {
            "image/png": "[encoded data removed]",
            "text/plain": [
              "<Figure size 432x288 with 1 Axes>"
            ]
          },
          "metadata": {
            "tags": []
          }
        },
        {
          "output_type": "display_data",
          "data": {
            "image/png": "[encoded data removed]",
            "text/plain": [
              "<Figure size 432x288 with 1 Axes>"
            ]
          },
          "metadata": {
            "tags": []
          }
        }
      ]
    },
    {
      "cell_type": "markdown",
      "metadata": {
        "id": "N5nneSAAuLB3",
        "colab_type": "text"
      },
      "source": [
        "**Comment**\n",
        "This picture contains both a cat and a dog. However, the mode InceptionV3 only detected the dog in top 2 classes (beagle and English foxhound). Also, pixels found by LIME shows that the model has captured the dog area when predicting on those 2 classes. The model didn't recogonize cat probability because there is not too many cat samples when training."
      ]
    },
    {
      "cell_type": "markdown",
      "metadata": {
        "id": "nXbHV3Gdk7i8",
        "colab_type": "text"
      },
      "source": [
        "**Optional**\n",
        "\n",
        "If you like to learn about another promising approach to explaining NNs, you can read the paper [Axiomatic Attribution for Deep Networks](https://arxiv.org/abs/1703.01365)."
      ]
    },
    {
      "cell_type": "markdown",
      "metadata": {
        "id": "me6ZYCN2eoC7",
        "colab_type": "text"
      },
      "source": [
        "# Section 3: Use Keras Tuner to optimize a small model\n",
        "\n",
        "\n",
        "## Written answers\n",
        "\n",
        "## 3a) When and why might Grid Search be less effective than Random Search when searching for useful hyperparameters for a Deep Learning model?\n"
      ]
    },
    {
      "cell_type": "markdown",
      "metadata": {
        "id": "JKQXRhCblS-J",
        "colab_type": "text"
      },
      "source": [
        "### TODO: your answer here\n",
        "- When the dimension of the hyperparameters ($p$) is really high. The search space will grow exponetially as $p$ increases, which makes grid search extremely time consuming. \n",
        "- When some hyperparameter's searching space is very range, the options will be too many, leading to expensive searching cost. \n"
      ]
    },
    {
      "cell_type": "markdown",
      "metadata": {
        "id": "2km45q83lVcV",
        "colab_type": "text"
      },
      "source": [
        "## Programming questions\n",
        "\n",
        "**3b) Add one or more code cells below in which you complete the following:**\n",
        "- Install Keras Tuner\n",
        "- Write a CNN to classify images from CIFAR-10 \n",
        "- Use Keras Tuner to search for at least three optimal hyperpameters for your model (eg, number of layers, number of filters per layer, dropout rate, etc)\n",
        "\n",
        "Save your output in this notebook.\n"
      ]
    },
    {
      "cell_type": "code",
      "metadata": {
        "id": "Cth4UWZelU9p",
        "colab_type": "code",
        "outputId": "47ffc91f-f371-4a3f-dc08-cdea14c9263a",
        "colab": {
          "base_uri": "https://localhost:8080/",
          "height": 292
        }
      },
      "source": [
        "# TODO: your code here\n",
        "# You may add additional code cells if helpful\n",
        "!pip install keras-tuner"
      ],
      "execution_count": 4,
      "outputs": [
        {
          "output_type": "stream",
          "text": [
            "Requirement already satisfied: keras-tuner in /usr/local/lib/python3.6/dist-packages (1.0.1)\n",
            "Requirement already satisfied: requests in /tensorflow-2.1.0/python3.6 (from keras-tuner) (2.23.0)\n",
            "Requirement already satisfied: colorama in /usr/local/lib/python3.6/dist-packages (from keras-tuner) (0.4.3)\n",
            "Requirement already satisfied: terminaltables in /usr/local/lib/python3.6/dist-packages (from keras-tuner) (3.1.0)\n",
            "Requirement already satisfied: scikit-learn in /usr/local/lib/python3.6/dist-packages (from keras-tuner) (0.22.1)\n",
            "Requirement already satisfied: tabulate in /usr/local/lib/python3.6/dist-packages (from keras-tuner) (0.8.6)\n",
            "Requirement already satisfied: scipy in /tensorflow-2.1.0/python3.6 (from keras-tuner) (1.4.1)\n",
            "Requirement already satisfied: tqdm in /usr/local/lib/python3.6/dist-packages (from keras-tuner) (4.28.1)\n",
            "Requirement already satisfied: future in /usr/local/lib/python3.6/dist-packages (from keras-tuner) (0.16.0)\n",
            "Requirement already satisfied: numpy in /tensorflow-2.1.0/python3.6 (from keras-tuner) (1.18.1)\n",
            "Requirement already satisfied: chardet<4,>=3.0.2 in /tensorflow-2.1.0/python3.6 (from requests->keras-tuner) (3.0.4)\n",
            "Requirement already satisfied: idna<3,>=2.5 in /tensorflow-2.1.0/python3.6 (from requests->keras-tuner) (2.9)\n",
            "Requirement already satisfied: certifi>=2017.4.17 in /tensorflow-2.1.0/python3.6 (from requests->keras-tuner) (2019.11.28)\n",
            "Requirement already satisfied: urllib3!=1.25.0,!=1.25.1,<1.26,>=1.21.1 in /tensorflow-2.1.0/python3.6 (from requests->keras-tuner) (1.25.8)\n",
            "Requirement already satisfied: joblib>=0.11 in /usr/local/lib/python3.6/dist-packages (from scikit-learn->keras-tuner) (0.14.1)\n"
          ],
          "name": "stdout"
        }
      ]
    },
    {
      "cell_type": "code",
      "metadata": {
        "id": "gHy7B26K1pNG",
        "colab_type": "code",
        "colab": {}
      },
      "source": [
        "from tensorflow import keras\n",
        "from tensorflow.keras import layers\n",
        "from kerastuner.tuners import RandomSearch\n"
      ],
      "execution_count": 0,
      "outputs": []
    },
    {
      "cell_type": "code",
      "metadata": {
        "id": "YMQvF95Kac3s",
        "colab_type": "code",
        "colab": {}
      },
      "source": [
        "#def our model based different activation function\n",
        "act_fun = 'relu'\n",
        "def create_model_fortune(hp):\n",
        "  model = tf.keras.models.Sequential()\n",
        "  filter_size = hp.Int('filter size', min_value=3, max_value=7, step=2)\n",
        "  model.add(tf.keras.layers.Conv2D(16, (filter_size, filter_size), activation=act_fun, \n",
        "                          input_shape=(32, 32, 3)))\n",
        "  model.add(tf.keras.layers.Conv2D(16, (filter_size, filter_size), activation=act_fun))\n",
        "  model.add(tf.keras.layers.MaxPooling2D())\n",
        "  model.add(tf.keras.layers.Flatten())\n",
        "  dense_layer_size = 128\n",
        "  drop_out = hp.Float('Drop out', min_value = 0.2, max_value = 0.6, step = 0.15)\n",
        "  model.add(tf.keras.layers.Dense(dense_layer_size, activation=act_fun))\n",
        "  model.add(tf.keras.layers.Dense(dense_layer_size, activation=act_fun))\n",
        "  model.add(tf.keras.layers.Dropout(drop_out))\n",
        "  model.add(tf.keras.layers.Dense(10, activation='softmax'))\n",
        "\n",
        "  model.compile(optimizer='adam',\n",
        "                loss='sparse_categorical_crossentropy',\n",
        "                metrics=['accuracy'])\n",
        "  return model"
      ],
      "execution_count": 0,
      "outputs": []
    },
    {
      "cell_type": "code",
      "metadata": {
        "id": "Wa23ExOEac1w",
        "colab_type": "code",
        "colab": {}
      },
      "source": [
        "tuner = RandomSearch(\n",
        "    create_model_fortune,\n",
        "    objective='val_accuracy',\n",
        "    max_trials=100,\n",
        "    executions_per_trial=3,\n",
        "    project_name='hw3')"
      ],
      "execution_count": 0,
      "outputs": []
    },
    {
      "cell_type": "code",
      "metadata": {
        "id": "qWqs4kEL2j8D",
        "colab_type": "code",
        "outputId": "5c5998a0-4f84-4dc3-c38b-add41d033427",
        "colab": {
          "base_uri": "https://localhost:8080/",
          "height": 1000
        }
      },
      "source": [
        "tuner.search_space_summary()\n",
        "tuner.search(x_train, y_train,\n",
        "             epochs=20,\n",
        "             validation_data=(x_test, y_test))"
      ],
      "execution_count": 28,
      "outputs": [
        {
          "output_type": "display_data",
          "data": {
            "text/html": [
              "<span style=\"color:#4527A0\"><h1 style=\"font-size:18px\">Search space summary</h1></span>"
            ],
            "text/plain": [
              "<IPython.core.display.HTML object>"
            ]
          },
          "metadata": {
            "tags": []
          }
        },
        {
          "output_type": "display_data",
          "data": {
            "text/html": [
              "<span style=\"color:cyan\"> |-Default search space size: 2</span>"
            ],
            "text/plain": [
              "<IPython.core.display.HTML object>"
            ]
          },
          "metadata": {
            "tags": []
          }
        },
        {
          "output_type": "display_data",
          "data": {
            "text/html": [
              "<span style=\"color:#7E57C2\"><h2 style=\"font-size:16px\">filter size (Int)</h2></span>"
            ],
            "text/plain": [
              "<IPython.core.display.HTML object>"
            ]
          },
          "metadata": {
            "tags": []
          }
        },
        {
          "output_type": "display_data",
          "data": {
            "text/html": [
              "<span style=\"color:cyan\"> |-default: None</span>"
            ],
            "text/plain": [
              "<IPython.core.display.HTML object>"
            ]
          },
          "metadata": {
            "tags": []
          }
        },
        {
          "output_type": "display_data",
          "data": {
            "text/html": [
              "<span style=\"color:blue\"> |-max_value: 7</span>"
            ],
            "text/plain": [
              "<IPython.core.display.HTML object>"
            ]
          },
          "metadata": {
            "tags": []
          }
        },
        {
          "output_type": "display_data",
          "data": {
            "text/html": [
              "<span style=\"color:cyan\"> |-min_value: 3</span>"
            ],
            "text/plain": [
              "<IPython.core.display.HTML object>"
            ]
          },
          "metadata": {
            "tags": []
          }
        },
        {
          "output_type": "display_data",
          "data": {
            "text/html": [
              "<span style=\"color:blue\"> |-sampling: None</span>"
            ],
            "text/plain": [
              "<IPython.core.display.HTML object>"
            ]
          },
          "metadata": {
            "tags": []
          }
        },
        {
          "output_type": "display_data",
          "data": {
            "text/html": [
              "<span style=\"color:cyan\"> |-step: 2</span>"
            ],
            "text/plain": [
              "<IPython.core.display.HTML object>"
            ]
          },
          "metadata": {
            "tags": []
          }
        },
        {
          "output_type": "display_data",
          "data": {
            "text/html": [
              "<span style=\"color:#7E57C2\"><h2 style=\"font-size:16px\">Drop out (Float)</h2></span>"
            ],
            "text/plain": [
              "<IPython.core.display.HTML object>"
            ]
          },
          "metadata": {
            "tags": []
          }
        },
        {
          "output_type": "display_data",
          "data": {
            "text/html": [
              "<span style=\"color:cyan\"> |-default: 0.2</span>"
            ],
            "text/plain": [
              "<IPython.core.display.HTML object>"
            ]
          },
          "metadata": {
            "tags": []
          }
        },
        {
          "output_type": "display_data",
          "data": {
            "text/html": [
              "<span style=\"color:blue\"> |-max_value: 0.6</span>"
            ],
            "text/plain": [
              "<IPython.core.display.HTML object>"
            ]
          },
          "metadata": {
            "tags": []
          }
        },
        {
          "output_type": "display_data",
          "data": {
            "text/html": [
              "<span style=\"color:cyan\"> |-min_value: 0.2</span>"
            ],
            "text/plain": [
              "<IPython.core.display.HTML object>"
            ]
          },
          "metadata": {
            "tags": []
          }
        },
        {
          "output_type": "display_data",
          "data": {
            "text/html": [
              "<span style=\"color:blue\"> |-sampling: None</span>"
            ],
            "text/plain": [
              "<IPython.core.display.HTML object>"
            ]
          },
          "metadata": {
            "tags": []
          }
        },
        {
          "output_type": "display_data",
          "data": {
            "text/html": [
              "<span style=\"color:cyan\"> |-step: 0.15</span>"
            ],
            "text/plain": [
              "<IPython.core.display.HTML object>"
            ]
          },
          "metadata": {
            "tags": []
          }
        },
        {
          "output_type": "stream",
          "text": [
            "Train on 50000 samples, validate on 10000 samples\n",
            "Epoch 1/20\n",
            "50000/50000 [==============================] - 7s 141us/sample - loss: 2.4175 - accuracy: 0.2806 - val_loss: 1.6470 - val_accuracy: 0.4079\n",
            "Epoch 2/20\n",
            "50000/50000 [==============================] - 6s 127us/sample - loss: 1.4582 - accuracy: 0.4819 - val_loss: 1.3106 - val_accuracy: 0.5377\n",
            "Epoch 3/20\n",
            "50000/50000 [==============================] - 6s 126us/sample - loss: 1.2055 - accuracy: 0.5762 - val_loss: 1.2272 - val_accuracy: 0.5786\n",
            "Epoch 4/20\n",
            "50000/50000 [==============================] - 6s 130us/sample - loss: 1.0470 - accuracy: 0.6303 - val_loss: 1.2004 - val_accuracy: 0.5992\n",
            "Epoch 5/20\n",
            "50000/50000 [==============================] - 6s 130us/sample - loss: 0.9215 - accuracy: 0.6766 - val_loss: 1.2737 - val_accuracy: 0.5983\n",
            "Epoch 6/20\n",
            "50000/50000 [==============================] - 6s 128us/sample - loss: 0.8030 - accuracy: 0.7209 - val_loss: 1.2693 - val_accuracy: 0.6025\n",
            "Epoch 7/20\n",
            "50000/50000 [==============================] - 6s 125us/sample - loss: 0.6868 - accuracy: 0.7596 - val_loss: 1.4076 - val_accuracy: 0.5913\n",
            "Epoch 8/20\n",
            "50000/50000 [==============================] - 6s 125us/sample - loss: 0.6005 - accuracy: 0.7908 - val_loss: 1.3888 - val_accuracy: 0.6106\n",
            "Epoch 9/20\n",
            "50000/50000 [==============================] - 6s 129us/sample - loss: 0.5109 - accuracy: 0.8228 - val_loss: 1.5575 - val_accuracy: 0.5979\n",
            "Epoch 10/20\n",
            "50000/50000 [==============================] - 6s 128us/sample - loss: 0.4499 - accuracy: 0.8463 - val_loss: 1.6659 - val_accuracy: 0.5928\n",
            "Epoch 11/20\n",
            "50000/50000 [==============================] - 6s 125us/sample - loss: 0.3965 - accuracy: 0.8654 - val_loss: 1.8470 - val_accuracy: 0.5957\n",
            "Epoch 12/20\n",
            "50000/50000 [==============================] - 6s 125us/sample - loss: 0.3560 - accuracy: 0.8807 - val_loss: 2.0048 - val_accuracy: 0.5974\n",
            "Epoch 13/20\n",
            "50000/50000 [==============================] - 6s 126us/sample - loss: 0.3206 - accuracy: 0.8929 - val_loss: 2.2288 - val_accuracy: 0.5884\n",
            "Epoch 14/20\n",
            "50000/50000 [==============================] - 6s 127us/sample - loss: 0.2995 - accuracy: 0.9020 - val_loss: 2.2629 - val_accuracy: 0.5919\n",
            "Epoch 15/20\n",
            "50000/50000 [==============================] - 7s 131us/sample - loss: 0.2747 - accuracy: 0.9120 - val_loss: 2.2251 - val_accuracy: 0.5911\n",
            "Epoch 16/20\n",
            "50000/50000 [==============================] - 7s 132us/sample - loss: 0.2513 - accuracy: 0.9204 - val_loss: 2.7221 - val_accuracy: 0.5682\n",
            "Epoch 17/20\n",
            "50000/50000 [==============================] - 7s 134us/sample - loss: 0.2279 - accuracy: 0.9271 - val_loss: 2.5325 - val_accuracy: 0.5968\n",
            "Epoch 18/20\n",
            "50000/50000 [==============================] - 6s 128us/sample - loss: 0.2353 - accuracy: 0.9263 - val_loss: 2.8510 - val_accuracy: 0.5837\n",
            "Epoch 19/20\n",
            "50000/50000 [==============================] - 6s 128us/sample - loss: 0.2146 - accuracy: 0.9344 - val_loss: 2.7522 - val_accuracy: 0.5858\n",
            "Epoch 20/20\n",
            "50000/50000 [==============================] - 6s 126us/sample - loss: 0.2016 - accuracy: 0.9385 - val_loss: 2.8349 - val_accuracy: 0.5927\n",
            "Train on 50000 samples, validate on 10000 samples\n",
            "Epoch 1/20\n",
            "50000/50000 [==============================] - 7s 132us/sample - loss: 1.9853 - accuracy: 0.3542 - val_loss: 1.3863 - val_accuracy: 0.4997\n",
            "Epoch 2/20\n",
            "50000/50000 [==============================] - 6s 123us/sample - loss: 1.2954 - accuracy: 0.5421 - val_loss: 1.2518 - val_accuracy: 0.5671\n",
            "Epoch 3/20\n",
            "50000/50000 [==============================] - 6s 127us/sample - loss: 1.0915 - accuracy: 0.6178 - val_loss: 1.1684 - val_accuracy: 0.5999\n",
            "Epoch 4/20\n",
            "50000/50000 [==============================] - 7s 134us/sample - loss: 0.9464 - accuracy: 0.6692 - val_loss: 1.1958 - val_accuracy: 0.6016\n",
            "Epoch 5/20\n",
            "50000/50000 [==============================] - 7s 131us/sample - loss: 0.8148 - accuracy: 0.7140 - val_loss: 1.1889 - val_accuracy: 0.6083\n",
            "Epoch 6/20\n",
            "50000/50000 [==============================] - 6s 124us/sample - loss: 0.7079 - accuracy: 0.7528 - val_loss: 1.3304 - val_accuracy: 0.6019\n",
            "Epoch 7/20\n",
            "50000/50000 [==============================] - 6s 129us/sample - loss: 0.5980 - accuracy: 0.7924 - val_loss: 1.3352 - val_accuracy: 0.6131\n",
            "Epoch 8/20\n",
            "50000/50000 [==============================] - 6s 130us/sample - loss: 0.5134 - accuracy: 0.8240 - val_loss: 1.6173 - val_accuracy: 0.6071\n",
            "Epoch 9/20\n",
            "50000/50000 [==============================] - 6s 128us/sample - loss: 0.4515 - accuracy: 0.8464 - val_loss: 1.6484 - val_accuracy: 0.5996\n",
            "Epoch 10/20\n",
            "50000/50000 [==============================] - 6s 126us/sample - loss: 0.3993 - accuracy: 0.8649 - val_loss: 1.6504 - val_accuracy: 0.6042\n",
            "Epoch 11/20\n",
            "50000/50000 [==============================] - 6s 125us/sample - loss: 0.3494 - accuracy: 0.8828 - val_loss: 1.8857 - val_accuracy: 0.6081\n",
            "Epoch 12/20\n",
            "50000/50000 [==============================] - 6s 128us/sample - loss: 0.3069 - accuracy: 0.8990 - val_loss: 2.0213 - val_accuracy: 0.6099\n",
            "Epoch 13/20\n",
            "50000/50000 [==============================] - 6s 128us/sample - loss: 0.2839 - accuracy: 0.9072 - val_loss: 2.1004 - val_accuracy: 0.6022\n",
            "Epoch 14/20\n",
            "50000/50000 [==============================] - 6s 126us/sample - loss: 0.2651 - accuracy: 0.9148 - val_loss: 2.2256 - val_accuracy: 0.6014\n",
            "Epoch 15/20\n",
            "50000/50000 [==============================] - 6s 125us/sample - loss: 0.2468 - accuracy: 0.9218 - val_loss: 2.5358 - val_accuracy: 0.6019\n",
            "Epoch 16/20\n",
            "50000/50000 [==============================] - 6s 124us/sample - loss: 0.2345 - accuracy: 0.9247 - val_loss: 2.5363 - val_accuracy: 0.5869\n",
            "Epoch 17/20\n",
            "50000/50000 [==============================] - 6s 127us/sample - loss: 0.2211 - accuracy: 0.9305 - val_loss: 2.6197 - val_accuracy: 0.6041\n",
            "Epoch 18/20\n",
            "50000/50000 [==============================] - 6s 128us/sample - loss: 0.2004 - accuracy: 0.9380 - val_loss: 2.8456 - val_accuracy: 0.5788\n",
            "Epoch 19/20\n",
            "50000/50000 [==============================] - 6s 125us/sample - loss: 0.2050 - accuracy: 0.9374 - val_loss: 2.8483 - val_accuracy: 0.5979\n",
            "Epoch 20/20\n",
            "50000/50000 [==============================] - 6s 125us/sample - loss: 0.1865 - accuracy: 0.9429 - val_loss: 2.8419 - val_accuracy: 0.5943\n",
            "Train on 50000 samples, validate on 10000 samples\n",
            "Epoch 1/20\n",
            "50000/50000 [==============================] - 7s 134us/sample - loss: 1.9872 - accuracy: 0.3117 - val_loss: 1.5574 - val_accuracy: 0.4331\n",
            "Epoch 2/20\n",
            "50000/50000 [==============================] - 6s 129us/sample - loss: 1.4034 - accuracy: 0.5006 - val_loss: 1.2937 - val_accuracy: 0.5466\n",
            "Epoch 3/20\n",
            "50000/50000 [==============================] - 7s 131us/sample - loss: 1.1581 - accuracy: 0.5949 - val_loss: 1.2285 - val_accuracy: 0.5792\n",
            "Epoch 4/20\n",
            "50000/50000 [==============================] - 6s 124us/sample - loss: 0.9929 - accuracy: 0.6515 - val_loss: 1.1972 - val_accuracy: 0.5907\n",
            "Epoch 5/20\n",
            "50000/50000 [==============================] - 6s 124us/sample - loss: 0.8645 - accuracy: 0.6949 - val_loss: 1.1825 - val_accuracy: 0.6062\n",
            "Epoch 6/20\n",
            "50000/50000 [==============================] - 6s 127us/sample - loss: 0.7399 - accuracy: 0.7402 - val_loss: 1.3357 - val_accuracy: 0.5963\n",
            "Epoch 7/20\n",
            "50000/50000 [==============================] - 6s 126us/sample - loss: 0.6368 - accuracy: 0.7757 - val_loss: 1.3871 - val_accuracy: 0.6018\n",
            "Epoch 8/20\n",
            "50000/50000 [==============================] - 6s 125us/sample - loss: 0.5418 - accuracy: 0.8094 - val_loss: 1.4248 - val_accuracy: 0.6093\n",
            "Epoch 9/20\n",
            "50000/50000 [==============================] - 6s 124us/sample - loss: 0.4726 - accuracy: 0.8356 - val_loss: 1.7311 - val_accuracy: 0.5964\n",
            "Epoch 10/20\n",
            "50000/50000 [==============================] - 6s 123us/sample - loss: 0.4060 - accuracy: 0.8604 - val_loss: 1.8353 - val_accuracy: 0.5961\n",
            "Epoch 11/20\n",
            "50000/50000 [==============================] - 6s 127us/sample - loss: 0.3677 - accuracy: 0.8750 - val_loss: 1.9128 - val_accuracy: 0.5895\n",
            "Epoch 12/20\n",
            "50000/50000 [==============================] - 6s 129us/sample - loss: 0.3313 - accuracy: 0.8886 - val_loss: 2.1697 - val_accuracy: 0.5894\n",
            "Epoch 13/20\n",
            "50000/50000 [==============================] - 6s 125us/sample - loss: 0.3028 - accuracy: 0.8989 - val_loss: 2.3305 - val_accuracy: 0.5835\n",
            "Epoch 14/20\n",
            "50000/50000 [==============================] - 6s 125us/sample - loss: 0.2736 - accuracy: 0.9107 - val_loss: 2.2297 - val_accuracy: 0.5918\n",
            "Epoch 15/20\n",
            "50000/50000 [==============================] - 6s 127us/sample - loss: 0.2565 - accuracy: 0.9163 - val_loss: 2.4151 - val_accuracy: 0.5818\n",
            "Epoch 16/20\n",
            "50000/50000 [==============================] - 6s 127us/sample - loss: 0.2479 - accuracy: 0.9216 - val_loss: 2.6203 - val_accuracy: 0.5892\n",
            "Epoch 17/20\n",
            "50000/50000 [==============================] - 6s 128us/sample - loss: 0.2327 - accuracy: 0.9262 - val_loss: 2.6963 - val_accuracy: 0.5907\n",
            "Epoch 18/20\n",
            "50000/50000 [==============================] - 6s 125us/sample - loss: 0.2187 - accuracy: 0.9317 - val_loss: 2.9051 - val_accuracy: 0.5822\n",
            "Epoch 19/20\n",
            "50000/50000 [==============================] - 6s 125us/sample - loss: 0.2097 - accuracy: 0.9357 - val_loss: 2.7229 - val_accuracy: 0.5947\n",
            "Epoch 20/20\n",
            "50000/50000 [==============================] - 6s 125us/sample - loss: 0.2103 - accuracy: 0.9367 - val_loss: 2.7750 - val_accuracy: 0.5905\n"
          ],
          "name": "stdout"
        },
        {
          "output_type": "display_data",
          "data": {
            "text/html": [
              "<span style=\"color:#4527A0\"><h1 style=\"font-size:18px\">Trial complete</h1></span>"
            ],
            "text/plain": [
              "<IPython.core.display.HTML object>"
            ]
          },
          "metadata": {
            "tags": []
          }
        },
        {
          "output_type": "display_data",
          "data": {
            "text/html": [
              "<span style=\"color:#4527A0\"><h1 style=\"font-size:18px\">Trial summary</h1></span>"
            ],
            "text/plain": [
              "<IPython.core.display.HTML object>"
            ]
          },
          "metadata": {
            "tags": []
          }
        },
        {
          "output_type": "display_data",
          "data": {
            "text/html": [
              "<span style=\"color:cyan\"> |-Trial ID: 2f1d8b3a57ae307ca31f344481c8a1b5</span>"
            ],
            "text/plain": [
              "<IPython.core.display.HTML object>"
            ]
          },
          "metadata": {
            "tags": []
          }
        },
        {
          "output_type": "display_data",
          "data": {
            "text/html": [
              "<span style=\"color:cyan\"> |-Score: 0.6110000014305115</span>"
            ],
            "text/plain": [
              "<IPython.core.display.HTML object>"
            ]
          },
          "metadata": {
            "tags": []
          }
        },
        {
          "output_type": "display_data",
          "data": {
            "text/html": [
              "<span style=\"color:cyan\"> |-Best step: 0</span>"
            ],
            "text/plain": [
              "<IPython.core.display.HTML object>"
            ]
          },
          "metadata": {
            "tags": []
          }
        },
        {
          "output_type": "display_data",
          "data": {
            "text/html": [
              "<span style=\"color:#7E57C2\"><h2 style=\"font-size:16px\">Hyperparameters:</h2></span>"
            ],
            "text/plain": [
              "<IPython.core.display.HTML object>"
            ]
          },
          "metadata": {
            "tags": []
          }
        },
        {
          "output_type": "display_data",
          "data": {
            "text/html": [
              "<span style=\"color:cyan\"> |-Drop out: 0.2</span>"
            ],
            "text/plain": [
              "<IPython.core.display.HTML object>"
            ]
          },
          "metadata": {
            "tags": []
          }
        },
        {
          "output_type": "display_data",
          "data": {
            "text/html": [
              "<span style=\"color:blue\"> |-filter size: 3</span>"
            ],
            "text/plain": [
              "<IPython.core.display.HTML object>"
            ]
          },
          "metadata": {
            "tags": []
          }
        },
        {
          "output_type": "stream",
          "text": [
            "Train on 50000 samples, validate on 10000 samples\n",
            "Epoch 1/20\n",
            "50000/50000 [==============================] - 7s 139us/sample - loss: 2.1508 - accuracy: 0.2601 - val_loss: 1.6247 - val_accuracy: 0.4045\n",
            "Epoch 2/20\n",
            "50000/50000 [==============================] - 7s 131us/sample - loss: 1.5363 - accuracy: 0.4513 - val_loss: 1.3671 - val_accuracy: 0.5182\n",
            "Epoch 3/20\n",
            "50000/50000 [==============================] - 6s 129us/sample - loss: 1.3449 - accuracy: 0.5321 - val_loss: 1.3256 - val_accuracy: 0.5402\n",
            "Epoch 4/20\n",
            "50000/50000 [==============================] - 6s 128us/sample - loss: 1.2287 - accuracy: 0.5763 - val_loss: 1.2856 - val_accuracy: 0.5514\n",
            "Epoch 5/20\n",
            "50000/50000 [==============================] - 7s 131us/sample - loss: 1.1364 - accuracy: 0.6055 - val_loss: 1.1938 - val_accuracy: 0.5864\n",
            "Epoch 6/20\n",
            "50000/50000 [==============================] - 7s 131us/sample - loss: 1.0609 - accuracy: 0.6323 - val_loss: 1.3028 - val_accuracy: 0.5683\n",
            "Epoch 7/20\n",
            "50000/50000 [==============================] - 6s 129us/sample - loss: 0.9834 - accuracy: 0.6610 - val_loss: 1.2985 - val_accuracy: 0.5802\n",
            "Epoch 8/20\n",
            "50000/50000 [==============================] - 6s 128us/sample - loss: 0.9073 - accuracy: 0.6849 - val_loss: 1.2772 - val_accuracy: 0.5943\n",
            "Epoch 9/20\n",
            "50000/50000 [==============================] - 6s 128us/sample - loss: 0.8502 - accuracy: 0.7069 - val_loss: 1.3345 - val_accuracy: 0.5805\n",
            "Epoch 10/20\n",
            "50000/50000 [==============================] - 6s 129us/sample - loss: 0.7913 - accuracy: 0.7255 - val_loss: 1.4037 - val_accuracy: 0.5896\n",
            "Epoch 11/20\n",
            "50000/50000 [==============================] - 7s 130us/sample - loss: 0.7367 - accuracy: 0.7454 - val_loss: 1.4559 - val_accuracy: 0.5849\n",
            "Epoch 12/20\n",
            "50000/50000 [==============================] - 6s 129us/sample - loss: 0.7072 - accuracy: 0.7578 - val_loss: 1.5024 - val_accuracy: 0.5824\n",
            "Epoch 13/20\n",
            "50000/50000 [==============================] - 7s 135us/sample - loss: 0.6500 - accuracy: 0.7748 - val_loss: 1.6153 - val_accuracy: 0.5657\n",
            "Epoch 14/20\n",
            "50000/50000 [==============================] - 7s 135us/sample - loss: 0.6133 - accuracy: 0.7905 - val_loss: 1.6566 - val_accuracy: 0.5781\n",
            "Epoch 15/20\n",
            "50000/50000 [==============================] - 7s 132us/sample - loss: 0.5841 - accuracy: 0.8018 - val_loss: 1.7634 - val_accuracy: 0.5655\n",
            "Epoch 16/20\n",
            "50000/50000 [==============================] - 6s 129us/sample - loss: 0.5560 - accuracy: 0.8124 - val_loss: 1.8080 - val_accuracy: 0.5743\n",
            "Epoch 17/20\n",
            "50000/50000 [==============================] - 6s 127us/sample - loss: 0.5315 - accuracy: 0.8222 - val_loss: 1.9435 - val_accuracy: 0.5724\n",
            "Epoch 18/20\n",
            "50000/50000 [==============================] - 6s 128us/sample - loss: 0.4990 - accuracy: 0.8321 - val_loss: 1.9626 - val_accuracy: 0.5789\n",
            "Epoch 19/20\n",
            "50000/50000 [==============================] - 7s 131us/sample - loss: 0.4729 - accuracy: 0.8421 - val_loss: 2.1527 - val_accuracy: 0.5794\n",
            "Epoch 20/20\n",
            "50000/50000 [==============================] - 7s 132us/sample - loss: 0.4565 - accuracy: 0.8471 - val_loss: 2.1383 - val_accuracy: 0.5641\n",
            "Train on 50000 samples, validate on 10000 samples\n",
            "Epoch 1/20\n",
            "50000/50000 [==============================] - 7s 135us/sample - loss: 2.4154 - accuracy: 0.1298 - val_loss: 2.0639 - val_accuracy: 0.2301\n",
            "Epoch 2/20\n",
            "50000/50000 [==============================] - 6s 128us/sample - loss: 1.7873 - accuracy: 0.3363 - val_loss: 1.6333 - val_accuracy: 0.4009\n",
            "Epoch 3/20\n",
            "50000/50000 [==============================] - 6s 128us/sample - loss: 1.5122 - accuracy: 0.4533 - val_loss: 1.3944 - val_accuracy: 0.4997\n",
            "Epoch 4/20\n",
            "50000/50000 [==============================] - 7s 131us/sample - loss: 1.3752 - accuracy: 0.5116 - val_loss: 1.3744 - val_accuracy: 0.5179\n",
            "Epoch 5/20\n",
            "50000/50000 [==============================] - 6s 128us/sample - loss: 1.2589 - accuracy: 0.5571 - val_loss: 1.2484 - val_accuracy: 0.5643\n",
            "Epoch 6/20\n",
            "50000/50000 [==============================] - 6s 128us/sample - loss: 1.1671 - accuracy: 0.5900 - val_loss: 1.2479 - val_accuracy: 0.5747\n",
            "Epoch 7/20\n",
            "50000/50000 [==============================] - 6s 127us/sample - loss: 1.0772 - accuracy: 0.6263 - val_loss: 1.2895 - val_accuracy: 0.5753\n",
            "Epoch 8/20\n",
            "50000/50000 [==============================] - 6s 129us/sample - loss: 0.9988 - accuracy: 0.6476 - val_loss: 1.3137 - val_accuracy: 0.5818\n",
            "Epoch 9/20\n",
            "50000/50000 [==============================] - 6s 129us/sample - loss: 0.9284 - accuracy: 0.6766 - val_loss: 1.2724 - val_accuracy: 0.5751\n",
            "Epoch 10/20\n",
            "50000/50000 [==============================] - 6s 128us/sample - loss: 0.8612 - accuracy: 0.6984 - val_loss: 1.3381 - val_accuracy: 0.5809\n",
            "Epoch 11/20\n",
            "50000/50000 [==============================] - 6s 128us/sample - loss: 0.8056 - accuracy: 0.7178 - val_loss: 1.3628 - val_accuracy: 0.5879\n",
            "Epoch 12/20\n",
            "50000/50000 [==============================] - 7s 130us/sample - loss: 0.7475 - accuracy: 0.7406 - val_loss: 1.4401 - val_accuracy: 0.5859\n",
            "Epoch 13/20\n",
            "50000/50000 [==============================] - 6s 129us/sample - loss: 0.7129 - accuracy: 0.7537 - val_loss: 1.5246 - val_accuracy: 0.5809\n",
            "Epoch 14/20\n",
            "50000/50000 [==============================] - 6s 128us/sample - loss: 0.6627 - accuracy: 0.7721 - val_loss: 1.7468 - val_accuracy: 0.5750\n",
            "Epoch 15/20\n",
            "50000/50000 [==============================] - 6s 127us/sample - loss: 0.6139 - accuracy: 0.7873 - val_loss: 1.6647 - val_accuracy: 0.5846\n",
            "Epoch 16/20\n",
            "50000/50000 [==============================] - 6s 128us/sample - loss: 0.5932 - accuracy: 0.7963 - val_loss: 1.7360 - val_accuracy: 0.5839\n",
            "Epoch 17/20\n",
            "50000/50000 [==============================] - 6s 130us/sample - loss: 0.5514 - accuracy: 0.8126 - val_loss: 1.8553 - val_accuracy: 0.5761\n",
            "Epoch 18/20\n",
            "50000/50000 [==============================] - 7s 131us/sample - loss: 0.5206 - accuracy: 0.8242 - val_loss: 1.9120 - val_accuracy: 0.5641\n",
            "Epoch 19/20\n",
            "50000/50000 [==============================] - 6s 127us/sample - loss: 0.5144 - accuracy: 0.8276 - val_loss: 1.9464 - val_accuracy: 0.5752\n",
            "Epoch 20/20\n",
            "50000/50000 [==============================] - 6s 127us/sample - loss: 0.4854 - accuracy: 0.8399 - val_loss: 1.9831 - val_accuracy: 0.5695\n",
            "Train on 50000 samples, validate on 10000 samples\n",
            "Epoch 1/20\n",
            "50000/50000 [==============================] - 7s 136us/sample - loss: 2.0334 - accuracy: 0.3026 - val_loss: 1.5106 - val_accuracy: 0.4493\n",
            "Epoch 2/20\n",
            "50000/50000 [==============================] - 6s 129us/sample - loss: 1.4984 - accuracy: 0.4639 - val_loss: 1.4656 - val_accuracy: 0.4882\n",
            "Epoch 3/20\n",
            "50000/50000 [==============================] - 6s 129us/sample - loss: 1.3418 - accuracy: 0.5286 - val_loss: 1.2989 - val_accuracy: 0.5386\n",
            "Epoch 4/20\n",
            "50000/50000 [==============================] - 6s 129us/sample - loss: 1.2154 - accuracy: 0.5737 - val_loss: 1.2677 - val_accuracy: 0.5619\n",
            "Epoch 5/20\n",
            "50000/50000 [==============================] - 6s 129us/sample - loss: 1.1218 - accuracy: 0.6049 - val_loss: 1.2632 - val_accuracy: 0.5763\n",
            "Epoch 6/20\n",
            "50000/50000 [==============================] - 6s 127us/sample - loss: 1.0336 - accuracy: 0.6379 - val_loss: 1.2639 - val_accuracy: 0.5783\n",
            "Epoch 7/20\n",
            "50000/50000 [==============================] - 7s 131us/sample - loss: 0.9473 - accuracy: 0.6686 - val_loss: 1.4598 - val_accuracy: 0.5532\n",
            "Epoch 8/20\n",
            "50000/50000 [==============================] - 6s 130us/sample - loss: 0.8675 - accuracy: 0.6946 - val_loss: 1.3797 - val_accuracy: 0.5757\n",
            "Epoch 9/20\n",
            "50000/50000 [==============================] - 7s 130us/sample - loss: 0.7900 - accuracy: 0.7245 - val_loss: 1.4182 - val_accuracy: 0.5772\n",
            "Epoch 10/20\n",
            "50000/50000 [==============================] - 6s 128us/sample - loss: 0.7369 - accuracy: 0.7431 - val_loss: 1.5082 - val_accuracy: 0.5583\n",
            "Epoch 11/20\n",
            "50000/50000 [==============================] - 7s 131us/sample - loss: 0.6826 - accuracy: 0.7610 - val_loss: 1.5933 - val_accuracy: 0.5726\n",
            "Epoch 12/20\n",
            "50000/50000 [==============================] - 6s 130us/sample - loss: 0.6366 - accuracy: 0.7782 - val_loss: 1.6403 - val_accuracy: 0.5760\n",
            "Epoch 13/20\n",
            "50000/50000 [==============================] - 6s 127us/sample - loss: 0.5787 - accuracy: 0.7996 - val_loss: 1.7176 - val_accuracy: 0.5729\n",
            "Epoch 14/20\n",
            "50000/50000 [==============================] - 6s 129us/sample - loss: 0.5543 - accuracy: 0.8101 - val_loss: 1.9223 - val_accuracy: 0.5729\n",
            "Epoch 15/20\n",
            "50000/50000 [==============================] - 6s 128us/sample - loss: 0.5048 - accuracy: 0.8269 - val_loss: 2.0350 - val_accuracy: 0.5633\n",
            "Epoch 16/20\n",
            "50000/50000 [==============================] - 7s 131us/sample - loss: 0.4763 - accuracy: 0.8388 - val_loss: 2.0652 - val_accuracy: 0.5670\n",
            "Epoch 17/20\n",
            "50000/50000 [==============================] - 7s 131us/sample - loss: 0.4565 - accuracy: 0.8461 - val_loss: 2.0722 - val_accuracy: 0.5589\n",
            "Epoch 18/20\n",
            "50000/50000 [==============================] - 7s 130us/sample - loss: 0.4241 - accuracy: 0.8578 - val_loss: 2.1506 - val_accuracy: 0.5674\n",
            "Epoch 19/20\n",
            "50000/50000 [==============================] - 6s 129us/sample - loss: 0.4215 - accuracy: 0.8601 - val_loss: 2.3423 - val_accuracy: 0.5609\n",
            "Epoch 20/20\n",
            "50000/50000 [==============================] - 7s 134us/sample - loss: 0.3952 - accuracy: 0.8693 - val_loss: 2.4213 - val_accuracy: 0.5566\n"
          ],
          "name": "stdout"
        },
        {
          "output_type": "display_data",
          "data": {
            "text/html": [
              "<span style=\"color:#4527A0\"><h1 style=\"font-size:18px\">Trial complete</h1></span>"
            ],
            "text/plain": [
              "<IPython.core.display.HTML object>"
            ]
          },
          "metadata": {
            "tags": []
          }
        },
        {
          "output_type": "display_data",
          "data": {
            "text/html": [
              "<span style=\"color:#4527A0\"><h1 style=\"font-size:18px\">Trial summary</h1></span>"
            ],
            "text/plain": [
              "<IPython.core.display.HTML object>"
            ]
          },
          "metadata": {
            "tags": []
          }
        },
        {
          "output_type": "display_data",
          "data": {
            "text/html": [
              "<span style=\"color:cyan\"> |-Trial ID: 5708ad22a69a94d7beb0af20562c9e4e</span>"
            ],
            "text/plain": [
              "<IPython.core.display.HTML object>"
            ]
          },
          "metadata": {
            "tags": []
          }
        },
        {
          "output_type": "display_data",
          "data": {
            "text/html": [
              "<span style=\"color:cyan\"> |-Score: 0.5868332982063293</span>"
            ],
            "text/plain": [
              "<IPython.core.display.HTML object>"
            ]
          },
          "metadata": {
            "tags": []
          }
        },
        {
          "output_type": "display_data",
          "data": {
            "text/html": [
              "<span style=\"color:cyan\"> |-Best step: 0</span>"
            ],
            "text/plain": [
              "<IPython.core.display.HTML object>"
            ]
          },
          "metadata": {
            "tags": []
          }
        },
        {
          "output_type": "display_data",
          "data": {
            "text/html": [
              "<span style=\"color:#7E57C2\"><h2 style=\"font-size:16px\">Hyperparameters:</h2></span>"
            ],
            "text/plain": [
              "<IPython.core.display.HTML object>"
            ]
          },
          "metadata": {
            "tags": []
          }
        },
        {
          "output_type": "display_data",
          "data": {
            "text/html": [
              "<span style=\"color:cyan\"> |-Drop out: 0.35</span>"
            ],
            "text/plain": [
              "<IPython.core.display.HTML object>"
            ]
          },
          "metadata": {
            "tags": []
          }
        },
        {
          "output_type": "display_data",
          "data": {
            "text/html": [
              "<span style=\"color:blue\"> |-filter size: 5</span>"
            ],
            "text/plain": [
              "<IPython.core.display.HTML object>"
            ]
          },
          "metadata": {
            "tags": []
          }
        },
        {
          "output_type": "stream",
          "text": [
            "Train on 50000 samples, validate on 10000 samples\n",
            "Epoch 1/20\n",
            "50000/50000 [==============================] - 7s 145us/sample - loss: 2.4290 - accuracy: 0.1388 - val_loss: 2.1223 - val_accuracy: 0.1998\n",
            "Epoch 2/20\n",
            "50000/50000 [==============================] - 6s 129us/sample - loss: 2.0308 - accuracy: 0.2401 - val_loss: 1.8467 - val_accuracy: 0.3056\n",
            "Epoch 3/20\n",
            "50000/50000 [==============================] - 6s 128us/sample - loss: 1.7116 - accuracy: 0.3743 - val_loss: 1.5269 - val_accuracy: 0.4437\n",
            "Epoch 4/20\n",
            "50000/50000 [==============================] - 6s 127us/sample - loss: 1.5131 - accuracy: 0.4585 - val_loss: 1.4451 - val_accuracy: 0.4861\n",
            "Epoch 5/20\n",
            "50000/50000 [==============================] - 7s 131us/sample - loss: 1.3814 - accuracy: 0.5118 - val_loss: 1.3663 - val_accuracy: 0.5069\n",
            "Epoch 6/20\n",
            "50000/50000 [==============================] - 7s 131us/sample - loss: 1.2820 - accuracy: 0.5468 - val_loss: 1.4106 - val_accuracy: 0.5128\n",
            "Epoch 7/20\n",
            "50000/50000 [==============================] - 6s 129us/sample - loss: 1.1915 - accuracy: 0.5845 - val_loss: 1.2813 - val_accuracy: 0.5684\n",
            "Epoch 8/20\n",
            "50000/50000 [==============================] - 6s 129us/sample - loss: 1.1094 - accuracy: 0.6159 - val_loss: 1.3436 - val_accuracy: 0.5575\n",
            "Epoch 9/20\n",
            "50000/50000 [==============================] - 7s 130us/sample - loss: 1.0375 - accuracy: 0.6409 - val_loss: 1.2903 - val_accuracy: 0.5791\n",
            "Epoch 10/20\n",
            "50000/50000 [==============================] - 6s 130us/sample - loss: 0.9749 - accuracy: 0.6595 - val_loss: 1.3654 - val_accuracy: 0.5627\n",
            "Epoch 11/20\n",
            "50000/50000 [==============================] - 6s 128us/sample - loss: 0.9315 - accuracy: 0.6769 - val_loss: 1.3322 - val_accuracy: 0.5724\n",
            "Epoch 12/20\n",
            "50000/50000 [==============================] - 6s 128us/sample - loss: 0.8538 - accuracy: 0.7044 - val_loss: 1.4053 - val_accuracy: 0.5724\n",
            "Epoch 13/20\n",
            "50000/50000 [==============================] - 6s 127us/sample - loss: 0.8163 - accuracy: 0.7193 - val_loss: 1.4427 - val_accuracy: 0.5789\n",
            "Epoch 14/20\n",
            "50000/50000 [==============================] - 6s 129us/sample - loss: 0.7555 - accuracy: 0.7386 - val_loss: 1.4902 - val_accuracy: 0.5828\n",
            "Epoch 15/20\n",
            "50000/50000 [==============================] - 6s 129us/sample - loss: 0.7089 - accuracy: 0.7537 - val_loss: 1.5822 - val_accuracy: 0.5795\n",
            "Epoch 16/20\n",
            "50000/50000 [==============================] - 6s 128us/sample - loss: 0.6801 - accuracy: 0.7633 - val_loss: 1.6892 - val_accuracy: 0.5646\n",
            "Epoch 17/20\n",
            "50000/50000 [==============================] - 6s 127us/sample - loss: 0.6455 - accuracy: 0.7789 - val_loss: 1.7926 - val_accuracy: 0.5736\n",
            "Epoch 18/20\n",
            "50000/50000 [==============================] - 6s 128us/sample - loss: 0.6162 - accuracy: 0.7917 - val_loss: 1.7875 - val_accuracy: 0.5772\n",
            "Epoch 19/20\n",
            "50000/50000 [==============================] - 7s 130us/sample - loss: 0.5820 - accuracy: 0.8018 - val_loss: 1.9631 - val_accuracy: 0.5579\n",
            "Epoch 20/20\n",
            "50000/50000 [==============================] - 6s 129us/sample - loss: 0.5722 - accuracy: 0.8071 - val_loss: 2.1060 - val_accuracy: 0.5537\n",
            "Train on 50000 samples, validate on 10000 samples\n",
            "Epoch 1/20\n",
            "50000/50000 [==============================] - 7s 136us/sample - loss: 2.5767 - accuracy: 0.1082 - val_loss: 2.2900 - val_accuracy: 0.1139\n",
            "Epoch 2/20\n",
            "50000/50000 [==============================] - 6s 129us/sample - loss: 2.0987 - accuracy: 0.2046 - val_loss: 1.9277 - val_accuracy: 0.2919\n",
            "Epoch 3/20\n",
            "50000/50000 [==============================] - 7s 130us/sample - loss: 1.8224 - accuracy: 0.3202 - val_loss: 1.6518 - val_accuracy: 0.3893\n",
            "Epoch 4/20\n",
            "50000/50000 [==============================] - 6s 130us/sample - loss: 1.6026 - accuracy: 0.4163 - val_loss: 1.5048 - val_accuracy: 0.4603\n",
            "Epoch 5/20\n",
            "50000/50000 [==============================] - 6s 127us/sample - loss: 1.4615 - accuracy: 0.4816 - val_loss: 1.3983 - val_accuracy: 0.5035\n",
            "Epoch 6/20\n",
            "50000/50000 [==============================] - 6s 129us/sample - loss: 1.3620 - accuracy: 0.5242 - val_loss: 1.3354 - val_accuracy: 0.5257\n",
            "Epoch 7/20\n",
            "50000/50000 [==============================] - 6s 127us/sample - loss: 1.2692 - accuracy: 0.5549 - val_loss: 1.3153 - val_accuracy: 0.5485\n",
            "Epoch 8/20\n",
            "50000/50000 [==============================] - 7s 133us/sample - loss: 1.1932 - accuracy: 0.5851 - val_loss: 1.3873 - val_accuracy: 0.5294\n",
            "Epoch 9/20\n",
            "50000/50000 [==============================] - 6s 129us/sample - loss: 1.1114 - accuracy: 0.6120 - val_loss: 1.3634 - val_accuracy: 0.5409\n",
            "Epoch 10/20\n",
            "50000/50000 [==============================] - 6s 127us/sample - loss: 1.0413 - accuracy: 0.6379 - val_loss: 1.3463 - val_accuracy: 0.5545\n",
            "Epoch 11/20\n",
            "50000/50000 [==============================] - 6s 128us/sample - loss: 0.9790 - accuracy: 0.6617 - val_loss: 1.4178 - val_accuracy: 0.5528\n",
            "Epoch 12/20\n",
            "50000/50000 [==============================] - 7s 130us/sample - loss: 0.9142 - accuracy: 0.6846 - val_loss: 1.3906 - val_accuracy: 0.5628\n",
            "Epoch 13/20\n",
            "50000/50000 [==============================] - 6s 129us/sample - loss: 0.8526 - accuracy: 0.7042 - val_loss: 1.4826 - val_accuracy: 0.5542\n",
            "Epoch 14/20\n",
            "50000/50000 [==============================] - 6s 129us/sample - loss: 0.8057 - accuracy: 0.7241 - val_loss: 1.5544 - val_accuracy: 0.5575\n",
            "Epoch 15/20\n",
            "50000/50000 [==============================] - 6s 130us/sample - loss: 0.7555 - accuracy: 0.7417 - val_loss: 1.6494 - val_accuracy: 0.5396\n",
            "Epoch 16/20\n",
            "50000/50000 [==============================] - 6s 129us/sample - loss: 0.7217 - accuracy: 0.7524 - val_loss: 1.7412 - val_accuracy: 0.5486\n",
            "Epoch 17/20\n",
            "50000/50000 [==============================] - 7s 130us/sample - loss: 0.6767 - accuracy: 0.7692 - val_loss: 1.8390 - val_accuracy: 0.5419\n",
            "Epoch 18/20\n",
            "50000/50000 [==============================] - 6s 128us/sample - loss: 0.6405 - accuracy: 0.7824 - val_loss: 1.8462 - val_accuracy: 0.5548\n",
            "Epoch 19/20\n",
            "50000/50000 [==============================] - 6s 129us/sample - loss: 0.6183 - accuracy: 0.7906 - val_loss: 1.9653 - val_accuracy: 0.5464\n",
            "Epoch 20/20\n",
            "50000/50000 [==============================] - 6s 129us/sample - loss: 0.5806 - accuracy: 0.8034 - val_loss: 2.1390 - val_accuracy: 0.5486\n",
            "Train on 50000 samples, validate on 10000 samples\n",
            "Epoch 1/20\n",
            "50000/50000 [==============================] - 7s 135us/sample - loss: 2.2451 - accuracy: 0.2339 - val_loss: 1.7515 - val_accuracy: 0.3587\n",
            "Epoch 2/20\n",
            "50000/50000 [==============================] - 6s 129us/sample - loss: 1.7145 - accuracy: 0.3783 - val_loss: 1.5540 - val_accuracy: 0.4375\n",
            "Epoch 3/20\n",
            "50000/50000 [==============================] - 6s 129us/sample - loss: 1.5350 - accuracy: 0.4531 - val_loss: 1.4265 - val_accuracy: 0.4880\n",
            "Epoch 4/20\n",
            "50000/50000 [==============================] - 6s 128us/sample - loss: 1.4106 - accuracy: 0.5070 - val_loss: 1.4403 - val_accuracy: 0.4885\n",
            "Epoch 5/20\n",
            "50000/50000 [==============================] - 6s 130us/sample - loss: 1.3062 - accuracy: 0.5425 - val_loss: 1.3100 - val_accuracy: 0.5369\n",
            "Epoch 6/20\n",
            "50000/50000 [==============================] - 7s 131us/sample - loss: 1.2163 - accuracy: 0.5725 - val_loss: 1.3366 - val_accuracy: 0.5388\n",
            "Epoch 7/20\n",
            "50000/50000 [==============================] - 7s 132us/sample - loss: 1.1426 - accuracy: 0.5994 - val_loss: 1.3192 - val_accuracy: 0.5516\n",
            "Epoch 8/20\n",
            "50000/50000 [==============================] - 7s 136us/sample - loss: 1.0655 - accuracy: 0.6268 - val_loss: 1.4065 - val_accuracy: 0.5302\n",
            "Epoch 9/20\n",
            "50000/50000 [==============================] - 7s 130us/sample - loss: 1.0037 - accuracy: 0.6478 - val_loss: 1.3254 - val_accuracy: 0.5643\n",
            "Epoch 10/20\n",
            "50000/50000 [==============================] - 6s 127us/sample - loss: 0.9394 - accuracy: 0.6711 - val_loss: 1.5145 - val_accuracy: 0.5354\n",
            "Epoch 11/20\n",
            "50000/50000 [==============================] - 7s 132us/sample - loss: 0.8769 - accuracy: 0.6909 - val_loss: 1.4233 - val_accuracy: 0.5649\n",
            "Epoch 12/20\n",
            "50000/50000 [==============================] - 6s 128us/sample - loss: 0.8212 - accuracy: 0.7140 - val_loss: 1.5067 - val_accuracy: 0.5544\n",
            "Epoch 13/20\n",
            "50000/50000 [==============================] - 6s 128us/sample - loss: 0.7624 - accuracy: 0.7345 - val_loss: 1.6053 - val_accuracy: 0.5585\n",
            "Epoch 14/20\n",
            "50000/50000 [==============================] - 6s 128us/sample - loss: 0.7161 - accuracy: 0.7500 - val_loss: 1.7988 - val_accuracy: 0.5480\n",
            "Epoch 15/20\n",
            "50000/50000 [==============================] - 6s 128us/sample - loss: 0.6792 - accuracy: 0.7645 - val_loss: 1.7386 - val_accuracy: 0.5639\n",
            "Epoch 16/20\n",
            "50000/50000 [==============================] - 6s 129us/sample - loss: 0.6344 - accuracy: 0.7819 - val_loss: 1.8595 - val_accuracy: 0.5564\n",
            "Epoch 17/20\n",
            "50000/50000 [==============================] - 6s 128us/sample - loss: 0.6236 - accuracy: 0.7844 - val_loss: 1.9296 - val_accuracy: 0.5442\n",
            "Epoch 18/20\n",
            "50000/50000 [==============================] - 6s 127us/sample - loss: 0.5854 - accuracy: 0.8004 - val_loss: 2.0858 - val_accuracy: 0.5604\n",
            "Epoch 19/20\n",
            "50000/50000 [==============================] - 6s 129us/sample - loss: 0.5588 - accuracy: 0.8093 - val_loss: 2.2037 - val_accuracy: 0.5442\n",
            "Epoch 20/20\n",
            "50000/50000 [==============================] - 6s 129us/sample - loss: 0.5338 - accuracy: 0.8193 - val_loss: 2.1710 - val_accuracy: 0.5424\n"
          ],
          "name": "stdout"
        },
        {
          "output_type": "display_data",
          "data": {
            "text/html": [
              "<span style=\"color:#4527A0\"><h1 style=\"font-size:18px\">Trial complete</h1></span>"
            ],
            "text/plain": [
              "<IPython.core.display.HTML object>"
            ]
          },
          "metadata": {
            "tags": []
          }
        },
        {
          "output_type": "display_data",
          "data": {
            "text/html": [
              "<span style=\"color:#4527A0\"><h1 style=\"font-size:18px\">Trial summary</h1></span>"
            ],
            "text/plain": [
              "<IPython.core.display.HTML object>"
            ]
          },
          "metadata": {
            "tags": []
          }
        },
        {
          "output_type": "display_data",
          "data": {
            "text/html": [
              "<span style=\"color:cyan\"> |-Trial ID: 031f190bddee701fb11250a663c425b4</span>"
            ],
            "text/plain": [
              "<IPython.core.display.HTML object>"
            ]
          },
          "metadata": {
            "tags": []
          }
        },
        {
          "output_type": "display_data",
          "data": {
            "text/html": [
              "<span style=\"color:cyan\"> |-Score: 0.5701666474342346</span>"
            ],
            "text/plain": [
              "<IPython.core.display.HTML object>"
            ]
          },
          "metadata": {
            "tags": []
          }
        },
        {
          "output_type": "display_data",
          "data": {
            "text/html": [
              "<span style=\"color:cyan\"> |-Best step: 0</span>"
            ],
            "text/plain": [
              "<IPython.core.display.HTML object>"
            ]
          },
          "metadata": {
            "tags": []
          }
        },
        {
          "output_type": "display_data",
          "data": {
            "text/html": [
              "<span style=\"color:#7E57C2\"><h2 style=\"font-size:16px\">Hyperparameters:</h2></span>"
            ],
            "text/plain": [
              "<IPython.core.display.HTML object>"
            ]
          },
          "metadata": {
            "tags": []
          }
        },
        {
          "output_type": "display_data",
          "data": {
            "text/html": [
              "<span style=\"color:cyan\"> |-Drop out: 0.49999999999999994</span>"
            ],
            "text/plain": [
              "<IPython.core.display.HTML object>"
            ]
          },
          "metadata": {
            "tags": []
          }
        },
        {
          "output_type": "display_data",
          "data": {
            "text/html": [
              "<span style=\"color:blue\"> |-filter size: 5</span>"
            ],
            "text/plain": [
              "<IPython.core.display.HTML object>"
            ]
          },
          "metadata": {
            "tags": []
          }
        },
        {
          "output_type": "stream",
          "text": [
            "Train on 50000 samples, validate on 10000 samples\n",
            "Epoch 1/20\n",
            "50000/50000 [==============================] - 7s 134us/sample - loss: 2.4558 - accuracy: 0.2210 - val_loss: 1.7856 - val_accuracy: 0.3473\n",
            "Epoch 2/20\n",
            "50000/50000 [==============================] - 6s 126us/sample - loss: 1.7043 - accuracy: 0.3838 - val_loss: 1.4709 - val_accuracy: 0.4678\n",
            "Epoch 3/20\n",
            "50000/50000 [==============================] - 6s 126us/sample - loss: 1.4246 - accuracy: 0.4992 - val_loss: 1.2848 - val_accuracy: 0.5392\n",
            "Epoch 4/20\n",
            "50000/50000 [==============================] - 6s 126us/sample - loss: 1.2564 - accuracy: 0.5624 - val_loss: 1.2135 - val_accuracy: 0.5802\n",
            "Epoch 5/20\n",
            "50000/50000 [==============================] - 7s 130us/sample - loss: 1.1171 - accuracy: 0.6113 - val_loss: 1.2269 - val_accuracy: 0.5821\n",
            "Epoch 6/20\n",
            "50000/50000 [==============================] - 6s 128us/sample - loss: 1.0113 - accuracy: 0.6502 - val_loss: 1.1813 - val_accuracy: 0.6007\n",
            "Epoch 7/20\n",
            "50000/50000 [==============================] - 6s 125us/sample - loss: 0.9037 - accuracy: 0.6854 - val_loss: 1.2990 - val_accuracy: 0.5940\n",
            "Epoch 8/20\n",
            "50000/50000 [==============================] - 6s 125us/sample - loss: 0.8161 - accuracy: 0.7191 - val_loss: 1.3309 - val_accuracy: 0.5958\n",
            "Epoch 9/20\n",
            "50000/50000 [==============================] - 6s 126us/sample - loss: 0.7383 - accuracy: 0.7449 - val_loss: 1.3221 - val_accuracy: 0.6022\n",
            "Epoch 10/20\n",
            "50000/50000 [==============================] - 6s 128us/sample - loss: 0.6590 - accuracy: 0.7723 - val_loss: 1.3895 - val_accuracy: 0.6009\n",
            "Epoch 11/20\n",
            "50000/50000 [==============================] - 6s 127us/sample - loss: 0.5974 - accuracy: 0.7970 - val_loss: 1.5557 - val_accuracy: 0.5978\n",
            "Epoch 12/20\n",
            "50000/50000 [==============================] - 6s 126us/sample - loss: 0.5361 - accuracy: 0.8171 - val_loss: 1.7132 - val_accuracy: 0.5959\n",
            "Epoch 13/20\n",
            "50000/50000 [==============================] - 6s 125us/sample - loss: 0.4919 - accuracy: 0.8328 - val_loss: 1.8999 - val_accuracy: 0.5918\n",
            "Epoch 14/20\n",
            "50000/50000 [==============================] - 6s 127us/sample - loss: 0.4495 - accuracy: 0.8500 - val_loss: 1.8462 - val_accuracy: 0.5944\n",
            "Epoch 15/20\n",
            "50000/50000 [==============================] - 6s 127us/sample - loss: 0.4178 - accuracy: 0.8619 - val_loss: 2.0199 - val_accuracy: 0.5909\n",
            "Epoch 16/20\n",
            "50000/50000 [==============================] - 6s 126us/sample - loss: 0.3919 - accuracy: 0.8714 - val_loss: 2.1229 - val_accuracy: 0.6006\n",
            "Epoch 17/20\n",
            "50000/50000 [==============================] - 6s 125us/sample - loss: 0.3672 - accuracy: 0.8805 - val_loss: 2.2819 - val_accuracy: 0.5798\n",
            "Epoch 18/20\n",
            "50000/50000 [==============================] - 6s 125us/sample - loss: 0.3424 - accuracy: 0.8889 - val_loss: 2.2366 - val_accuracy: 0.5806\n",
            "Epoch 19/20\n",
            "50000/50000 [==============================] - 6s 127us/sample - loss: 0.3297 - accuracy: 0.8948 - val_loss: 2.3710 - val_accuracy: 0.5728\n",
            "Epoch 20/20\n",
            "50000/50000 [==============================] - 6s 127us/sample - loss: 0.3091 - accuracy: 0.9034 - val_loss: 2.4936 - val_accuracy: 0.5916\n",
            "Train on 50000 samples, validate on 10000 samples\n",
            "Epoch 1/20\n",
            "50000/50000 [==============================] - 7s 133us/sample - loss: 2.2301 - accuracy: 0.2744 - val_loss: 1.5457 - val_accuracy: 0.4215\n",
            "Epoch 2/20\n",
            "50000/50000 [==============================] - 6s 124us/sample - loss: 1.4979 - accuracy: 0.4518 - val_loss: 1.3754 - val_accuracy: 0.5071\n",
            "Epoch 3/20\n",
            "50000/50000 [==============================] - 6s 127us/sample - loss: 1.3194 - accuracy: 0.5302 - val_loss: 1.3196 - val_accuracy: 0.5378\n",
            "Epoch 4/20\n",
            "50000/50000 [==============================] - 7s 130us/sample - loss: 1.2058 - accuracy: 0.5791 - val_loss: 1.2367 - val_accuracy: 0.5669\n",
            "Epoch 5/20\n",
            "50000/50000 [==============================] - 6s 126us/sample - loss: 1.1121 - accuracy: 0.6130 - val_loss: 1.1903 - val_accuracy: 0.5858\n",
            "Epoch 6/20\n",
            "50000/50000 [==============================] - 6s 125us/sample - loss: 1.0414 - accuracy: 0.6404 - val_loss: 1.2615 - val_accuracy: 0.5723\n",
            "Epoch 7/20\n",
            "50000/50000 [==============================] - 6s 124us/sample - loss: 0.9804 - accuracy: 0.6651 - val_loss: 1.2939 - val_accuracy: 0.5661\n",
            "Epoch 8/20\n",
            "50000/50000 [==============================] - 6s 125us/sample - loss: 0.9146 - accuracy: 0.6888 - val_loss: 1.1999 - val_accuracy: 0.6072\n",
            "Epoch 9/20\n",
            "50000/50000 [==============================] - 6s 127us/sample - loss: 0.8514 - accuracy: 0.7076 - val_loss: 1.2669 - val_accuracy: 0.6052\n",
            "Epoch 10/20\n",
            "50000/50000 [==============================] - 6s 124us/sample - loss: 0.8037 - accuracy: 0.7265 - val_loss: 1.2806 - val_accuracy: 0.6031\n",
            "Epoch 11/20\n",
            "50000/50000 [==============================] - 6s 124us/sample - loss: 0.7606 - accuracy: 0.7432 - val_loss: 1.3472 - val_accuracy: 0.6062\n",
            "Epoch 12/20\n",
            "50000/50000 [==============================] - 6s 127us/sample - loss: 0.7185 - accuracy: 0.7560 - val_loss: 1.3474 - val_accuracy: 0.6081\n",
            "Epoch 13/20\n",
            "50000/50000 [==============================] - 6s 127us/sample - loss: 0.6933 - accuracy: 0.7680 - val_loss: 1.4241 - val_accuracy: 0.5990\n",
            "Epoch 14/20\n",
            "50000/50000 [==============================] - 6s 128us/sample - loss: 0.6644 - accuracy: 0.7770 - val_loss: 1.4602 - val_accuracy: 0.6082\n",
            "Epoch 15/20\n",
            "50000/50000 [==============================] - 6s 126us/sample - loss: 0.6310 - accuracy: 0.7886 - val_loss: 1.5577 - val_accuracy: 0.5894\n",
            "Epoch 16/20\n",
            "50000/50000 [==============================] - 7s 133us/sample - loss: 0.6048 - accuracy: 0.7949 - val_loss: 1.4621 - val_accuracy: 0.6165\n",
            "Epoch 17/20\n",
            "50000/50000 [==============================] - 7s 131us/sample - loss: 0.5915 - accuracy: 0.8027 - val_loss: 1.5953 - val_accuracy: 0.5908\n",
            "Epoch 18/20\n",
            "50000/50000 [==============================] - 6s 128us/sample - loss: 0.5663 - accuracy: 0.8100 - val_loss: 1.6533 - val_accuracy: 0.5875\n",
            "Epoch 19/20\n",
            "50000/50000 [==============================] - 6s 127us/sample - loss: 0.5329 - accuracy: 0.8218 - val_loss: 1.8150 - val_accuracy: 0.5928\n",
            "Epoch 20/20\n",
            "50000/50000 [==============================] - 6s 123us/sample - loss: 0.5277 - accuracy: 0.8244 - val_loss: 1.6656 - val_accuracy: 0.5951\n",
            "Train on 50000 samples, validate on 10000 samples\n",
            "Epoch 1/20\n",
            "50000/50000 [==============================] - 7s 133us/sample - loss: 2.5331 - accuracy: 0.2405 - val_loss: 1.7107 - val_accuracy: 0.3756\n",
            "Epoch 2/20\n",
            "50000/50000 [==============================] - 6s 126us/sample - loss: 1.6145 - accuracy: 0.4138 - val_loss: 1.3833 - val_accuracy: 0.5027\n",
            "Epoch 3/20\n",
            "50000/50000 [==============================] - 6s 128us/sample - loss: 1.3745 - accuracy: 0.5141 - val_loss: 1.2841 - val_accuracy: 0.5344\n",
            "Epoch 4/20\n",
            "50000/50000 [==============================] - 6s 126us/sample - loss: 1.2089 - accuracy: 0.5753 - val_loss: 1.2119 - val_accuracy: 0.5772\n",
            "Epoch 5/20\n",
            "50000/50000 [==============================] - 6s 125us/sample - loss: 1.0811 - accuracy: 0.6229 - val_loss: 1.1833 - val_accuracy: 0.5960\n",
            "Epoch 6/20\n",
            "50000/50000 [==============================] - 6s 124us/sample - loss: 0.9622 - accuracy: 0.6657 - val_loss: 1.2256 - val_accuracy: 0.5916\n",
            "Epoch 7/20\n",
            "50000/50000 [==============================] - 6s 127us/sample - loss: 0.8580 - accuracy: 0.7019 - val_loss: 1.2741 - val_accuracy: 0.5948\n",
            "Epoch 8/20\n",
            "50000/50000 [==============================] - 6s 128us/sample - loss: 0.7718 - accuracy: 0.7329 - val_loss: 1.4448 - val_accuracy: 0.5883\n",
            "Epoch 9/20\n",
            "50000/50000 [==============================] - 6s 128us/sample - loss: 0.6825 - accuracy: 0.7676 - val_loss: 1.4653 - val_accuracy: 0.5892\n",
            "Epoch 10/20\n",
            "50000/50000 [==============================] - 6s 126us/sample - loss: 0.6045 - accuracy: 0.7925 - val_loss: 1.5213 - val_accuracy: 0.5963\n",
            "Epoch 11/20\n",
            "50000/50000 [==============================] - 6s 125us/sample - loss: 0.5415 - accuracy: 0.8146 - val_loss: 1.5917 - val_accuracy: 0.5923\n",
            "Epoch 12/20\n",
            "50000/50000 [==============================] - 6s 127us/sample - loss: 0.4911 - accuracy: 0.8350 - val_loss: 1.7860 - val_accuracy: 0.5875\n",
            "Epoch 13/20\n",
            "50000/50000 [==============================] - 6s 128us/sample - loss: 0.4349 - accuracy: 0.8541 - val_loss: 1.7625 - val_accuracy: 0.5959\n",
            "Epoch 14/20\n",
            "50000/50000 [==============================] - 6s 126us/sample - loss: 0.3941 - accuracy: 0.8697 - val_loss: 2.0173 - val_accuracy: 0.5886\n",
            "Epoch 15/20\n",
            "50000/50000 [==============================] - 6s 126us/sample - loss: 0.3695 - accuracy: 0.8771 - val_loss: 2.1637 - val_accuracy: 0.5851\n",
            "Epoch 16/20\n",
            "50000/50000 [==============================] - 6s 126us/sample - loss: 0.3388 - accuracy: 0.8898 - val_loss: 2.1762 - val_accuracy: 0.5839\n",
            "Epoch 17/20\n",
            "50000/50000 [==============================] - 6s 127us/sample - loss: 0.3293 - accuracy: 0.8954 - val_loss: 2.4978 - val_accuracy: 0.5846\n",
            "Epoch 18/20\n",
            "50000/50000 [==============================] - 6s 127us/sample - loss: 0.2996 - accuracy: 0.9047 - val_loss: 2.4661 - val_accuracy: 0.5826\n",
            "Epoch 19/20\n",
            "50000/50000 [==============================] - 6s 126us/sample - loss: 0.2926 - accuracy: 0.9077 - val_loss: 2.4854 - val_accuracy: 0.5830\n",
            "Epoch 20/20\n",
            "50000/50000 [==============================] - 6s 125us/sample - loss: 0.2712 - accuracy: 0.9157 - val_loss: 2.6750 - val_accuracy: 0.5858\n"
          ],
          "name": "stdout"
        },
        {
          "output_type": "display_data",
          "data": {
            "text/html": [
              "<span style=\"color:#4527A0\"><h1 style=\"font-size:18px\">Trial complete</h1></span>"
            ],
            "text/plain": [
              "<IPython.core.display.HTML object>"
            ]
          },
          "metadata": {
            "tags": []
          }
        },
        {
          "output_type": "display_data",
          "data": {
            "text/html": [
              "<span style=\"color:#4527A0\"><h1 style=\"font-size:18px\">Trial summary</h1></span>"
            ],
            "text/plain": [
              "<IPython.core.display.HTML object>"
            ]
          },
          "metadata": {
            "tags": []
          }
        },
        {
          "output_type": "display_data",
          "data": {
            "text/html": [
              "<span style=\"color:cyan\"> |-Trial ID: ad263245a15c626d63cc7628444161f4</span>"
            ],
            "text/plain": [
              "<IPython.core.display.HTML object>"
            ]
          },
          "metadata": {
            "tags": []
          }
        },
        {
          "output_type": "display_data",
          "data": {
            "text/html": [
              "<span style=\"color:cyan\"> |-Score: 0.6049999594688416</span>"
            ],
            "text/plain": [
              "<IPython.core.display.HTML object>"
            ]
          },
          "metadata": {
            "tags": []
          }
        },
        {
          "output_type": "display_data",
          "data": {
            "text/html": [
              "<span style=\"color:cyan\"> |-Best step: 0</span>"
            ],
            "text/plain": [
              "<IPython.core.display.HTML object>"
            ]
          },
          "metadata": {
            "tags": []
          }
        },
        {
          "output_type": "display_data",
          "data": {
            "text/html": [
              "<span style=\"color:#7E57C2\"><h2 style=\"font-size:16px\">Hyperparameters:</h2></span>"
            ],
            "text/plain": [
              "<IPython.core.display.HTML object>"
            ]
          },
          "metadata": {
            "tags": []
          }
        },
        {
          "output_type": "display_data",
          "data": {
            "text/html": [
              "<span style=\"color:cyan\"> |-Drop out: 0.49999999999999994</span>"
            ],
            "text/plain": [
              "<IPython.core.display.HTML object>"
            ]
          },
          "metadata": {
            "tags": []
          }
        },
        {
          "output_type": "display_data",
          "data": {
            "text/html": [
              "<span style=\"color:blue\"> |-filter size: 3</span>"
            ],
            "text/plain": [
              "<IPython.core.display.HTML object>"
            ]
          },
          "metadata": {
            "tags": []
          }
        },
        {
          "output_type": "stream",
          "text": [
            "Train on 50000 samples, validate on 10000 samples\n",
            "Epoch 1/20\n",
            "50000/50000 [==============================] - 7s 136us/sample - loss: 2.4040 - accuracy: 0.0991 - val_loss: 2.3026 - val_accuracy: 0.1005\n",
            "Epoch 2/20\n",
            "50000/50000 [==============================] - 6s 129us/sample - loss: 2.3025 - accuracy: 0.0983 - val_loss: 2.3001 - val_accuracy: 0.1031\n",
            "Epoch 3/20\n",
            "50000/50000 [==============================] - 6s 125us/sample - loss: 2.3024 - accuracy: 0.1004 - val_loss: 2.3025 - val_accuracy: 0.1007\n",
            "Epoch 4/20\n",
            "50000/50000 [==============================] - 6s 125us/sample - loss: 2.3029 - accuracy: 0.1005 - val_loss: 2.3027 - val_accuracy: 0.1006\n",
            "Epoch 5/20\n",
            "50000/50000 [==============================] - 6s 125us/sample - loss: 2.3029 - accuracy: 0.0991 - val_loss: 2.3026 - val_accuracy: 0.1003\n",
            "Epoch 6/20\n",
            "50000/50000 [==============================] - 6s 127us/sample - loss: 2.3035 - accuracy: 0.0983 - val_loss: 2.3024 - val_accuracy: 0.1004\n",
            "Epoch 7/20\n",
            "50000/50000 [==============================] - 6s 127us/sample - loss: 2.3023 - accuracy: 0.0976 - val_loss: 2.3042 - val_accuracy: 0.1006\n",
            "Epoch 8/20\n",
            "50000/50000 [==============================] - 6s 127us/sample - loss: 2.3042 - accuracy: 0.1000 - val_loss: 2.3054 - val_accuracy: 0.1001\n",
            "Epoch 9/20\n",
            "50000/50000 [==============================] - 6s 125us/sample - loss: 2.3028 - accuracy: 0.0955 - val_loss: 2.3062 - val_accuracy: 0.1001\n",
            "Epoch 10/20\n",
            "50000/50000 [==============================] - 6s 126us/sample - loss: 2.3027 - accuracy: 0.0975 - val_loss: 2.3029 - val_accuracy: 0.1000\n",
            "Epoch 11/20\n",
            "50000/50000 [==============================] - 6s 128us/sample - loss: 2.3029 - accuracy: 0.0988 - val_loss: 2.3028 - val_accuracy: 0.0997\n",
            "Epoch 12/20\n",
            "50000/50000 [==============================] - 6s 127us/sample - loss: 2.3029 - accuracy: 0.0987 - val_loss: 2.3025 - val_accuracy: 0.0999\n",
            "Epoch 13/20\n",
            "50000/50000 [==============================] - 6s 125us/sample - loss: 2.3028 - accuracy: 0.0980 - val_loss: 2.3033 - val_accuracy: 0.1003\n",
            "Epoch 14/20\n",
            "50000/50000 [==============================] - 6s 128us/sample - loss: 2.3024 - accuracy: 0.0998 - val_loss: 2.3041 - val_accuracy: 0.1003\n",
            "Epoch 15/20\n",
            "50000/50000 [==============================] - 6s 128us/sample - loss: 2.3024 - accuracy: 0.0990 - val_loss: 2.3028 - val_accuracy: 0.1001\n",
            "Epoch 16/20\n",
            "50000/50000 [==============================] - 7s 130us/sample - loss: 2.3029 - accuracy: 0.1001 - val_loss: 2.3048 - val_accuracy: 0.1000\n",
            "Epoch 17/20\n",
            "50000/50000 [==============================] - 6s 124us/sample - loss: 2.3023 - accuracy: 0.1000 - val_loss: 2.3168 - val_accuracy: 0.1001\n",
            "Epoch 18/20\n",
            "50000/50000 [==============================] - 6s 126us/sample - loss: 2.3026 - accuracy: 0.0981 - val_loss: 2.3032 - val_accuracy: 0.1001\n",
            "Epoch 19/20\n",
            "50000/50000 [==============================] - 6s 125us/sample - loss: 2.3022 - accuracy: 0.0978 - val_loss: 2.3180 - val_accuracy: 0.1002\n",
            "Epoch 20/20\n",
            "50000/50000 [==============================] - 6s 128us/sample - loss: 2.3024 - accuracy: 0.0993 - val_loss: 2.3068 - val_accuracy: 0.1000\n",
            "Train on 50000 samples, validate on 10000 samples\n",
            "Epoch 1/20\n",
            "50000/50000 [==============================] - 7s 135us/sample - loss: 2.4990 - accuracy: 0.0988 - val_loss: 2.3025 - val_accuracy: 0.1004\n",
            "Epoch 2/20\n",
            "50000/50000 [==============================] - 6s 126us/sample - loss: 2.3029 - accuracy: 0.1014 - val_loss: 2.3027 - val_accuracy: 0.1003\n",
            "Epoch 3/20\n",
            "50000/50000 [==============================] - 6s 129us/sample - loss: 2.3026 - accuracy: 0.0986 - val_loss: 2.3031 - val_accuracy: 0.0998\n",
            "Epoch 4/20\n",
            "50000/50000 [==============================] - 6s 128us/sample - loss: 2.3026 - accuracy: 0.1004 - val_loss: 2.3022 - val_accuracy: 0.1002\n",
            "Epoch 5/20\n",
            "50000/50000 [==============================] - 7s 136us/sample - loss: 2.3034 - accuracy: 0.1001 - val_loss: 2.3026 - val_accuracy: 0.1003\n",
            "Epoch 6/20\n",
            "50000/50000 [==============================] - 7s 132us/sample - loss: 2.3058 - accuracy: 0.0994 - val_loss: 2.3026 - val_accuracy: 0.1003\n",
            "Epoch 7/20\n",
            "50000/50000 [==============================] - 6s 128us/sample - loss: 2.3042 - accuracy: 0.0996 - val_loss: 2.3026 - val_accuracy: 0.1001\n",
            "Epoch 8/20\n",
            "50000/50000 [==============================] - 6s 125us/sample - loss: 2.3030 - accuracy: 0.0993 - val_loss: 2.3026 - val_accuracy: 0.0998\n",
            "Epoch 9/20\n",
            "50000/50000 [==============================] - 6s 127us/sample - loss: 2.3027 - accuracy: 0.0977 - val_loss: 2.3031 - val_accuracy: 0.1001\n",
            "Epoch 10/20\n",
            "50000/50000 [==============================] - 6s 127us/sample - loss: 2.3030 - accuracy: 0.0981 - val_loss: 2.3039 - val_accuracy: 0.1000\n",
            "Epoch 11/20\n",
            "50000/50000 [==============================] - 6s 124us/sample - loss: 2.3031 - accuracy: 0.0983 - val_loss: 2.3023 - val_accuracy: 0.0999\n",
            "Epoch 12/20\n",
            "50000/50000 [==============================] - 6s 125us/sample - loss: 2.3027 - accuracy: 0.0985 - val_loss: 2.3026 - val_accuracy: 0.1001\n",
            "Epoch 13/20\n",
            "50000/50000 [==============================] - 6s 125us/sample - loss: 2.3032 - accuracy: 0.0991 - val_loss: 2.3026 - val_accuracy: 0.0997\n",
            "Epoch 14/20\n",
            "50000/50000 [==============================] - 6s 128us/sample - loss: 2.3026 - accuracy: 0.0988 - val_loss: 2.3027 - val_accuracy: 0.1000\n",
            "Epoch 15/20\n",
            "50000/50000 [==============================] - 6s 128us/sample - loss: 2.3035 - accuracy: 0.0981 - val_loss: 2.3026 - val_accuracy: 0.1000\n",
            "Epoch 16/20\n",
            "50000/50000 [==============================] - 6s 126us/sample - loss: 2.3041 - accuracy: 0.1004 - val_loss: 2.3029 - val_accuracy: 0.0999\n",
            "Epoch 17/20\n",
            "50000/50000 [==============================] - 6s 126us/sample - loss: 2.3036 - accuracy: 0.1010 - val_loss: 2.3034 - val_accuracy: 0.1000\n",
            "Epoch 18/20\n",
            "50000/50000 [==============================] - 6s 126us/sample - loss: 2.3022 - accuracy: 0.0990 - val_loss: 2.3032 - val_accuracy: 0.1000\n",
            "Epoch 19/20\n",
            "50000/50000 [==============================] - 7s 131us/sample - loss: 2.3024 - accuracy: 0.0968 - val_loss: 2.3030 - val_accuracy: 0.1001\n",
            "Epoch 20/20\n",
            "50000/50000 [==============================] - 6s 128us/sample - loss: 2.3025 - accuracy: 0.0988 - val_loss: 2.3030 - val_accuracy: 0.1000\n",
            "Train on 50000 samples, validate on 10000 samples\n",
            "Epoch 1/20\n",
            "50000/50000 [==============================] - 7s 133us/sample - loss: 2.3523 - accuracy: 0.1005 - val_loss: 2.3026 - val_accuracy: 0.1000\n",
            "Epoch 2/20\n",
            "50000/50000 [==============================] - 6s 125us/sample - loss: 2.3031 - accuracy: 0.1024 - val_loss: 2.3026 - val_accuracy: 0.1004\n",
            "Epoch 3/20\n",
            "50000/50000 [==============================] - 6s 126us/sample - loss: 2.3031 - accuracy: 0.1007 - val_loss: 2.3022 - val_accuracy: 0.1008\n",
            "Epoch 4/20\n",
            "50000/50000 [==============================] - 6s 128us/sample - loss: 2.3029 - accuracy: 0.1007 - val_loss: 2.3025 - val_accuracy: 0.1004\n",
            "Epoch 5/20\n",
            "50000/50000 [==============================] - 6s 125us/sample - loss: 2.3031 - accuracy: 0.1000 - val_loss: 2.3027 - val_accuracy: 0.1000\n",
            "Epoch 6/20\n",
            "50000/50000 [==============================] - 6s 126us/sample - loss: 2.3031 - accuracy: 0.1001 - val_loss: 2.3026 - val_accuracy: 0.0999\n",
            "Epoch 7/20\n",
            "50000/50000 [==============================] - 6s 125us/sample - loss: 2.3034 - accuracy: 0.0976 - val_loss: 2.3033 - val_accuracy: 0.1000\n",
            "Epoch 8/20\n",
            "50000/50000 [==============================] - 6s 126us/sample - loss: 2.3036 - accuracy: 0.0992 - val_loss: 2.3029 - val_accuracy: 0.1001\n",
            "Epoch 9/20\n",
            "50000/50000 [==============================] - 6s 127us/sample - loss: 2.3032 - accuracy: 0.0981 - val_loss: 2.3034 - val_accuracy: 0.1001\n",
            "Epoch 10/20\n",
            "50000/50000 [==============================] - 6s 125us/sample - loss: 2.3026 - accuracy: 0.0984 - val_loss: 2.3026 - val_accuracy: 0.1001\n",
            "Epoch 11/20\n",
            "50000/50000 [==============================] - 6s 126us/sample - loss: 2.3250 - accuracy: 0.0972 - val_loss: 2.3037 - val_accuracy: 0.0998\n",
            "Epoch 12/20\n",
            "50000/50000 [==============================] - 6s 126us/sample - loss: 2.3040 - accuracy: 0.0962 - val_loss: 2.3030 - val_accuracy: 0.1001\n",
            "Epoch 13/20\n",
            "50000/50000 [==============================] - 6s 128us/sample - loss: 2.3024 - accuracy: 0.1001 - val_loss: 2.3034 - val_accuracy: 0.1001\n",
            "Epoch 14/20\n",
            "50000/50000 [==============================] - 6s 126us/sample - loss: 2.3058 - accuracy: 0.1009 - val_loss: 2.3057 - val_accuracy: 0.0998\n",
            "Epoch 15/20\n",
            "50000/50000 [==============================] - 6s 126us/sample - loss: 2.3023 - accuracy: 0.0999 - val_loss: 2.3040 - val_accuracy: 0.1001\n",
            "Epoch 16/20\n",
            "50000/50000 [==============================] - 6s 125us/sample - loss: 2.3025 - accuracy: 0.0983 - val_loss: 2.3035 - val_accuracy: 0.1000\n",
            "Epoch 17/20\n",
            "50000/50000 [==============================] - 6s 126us/sample - loss: 2.3026 - accuracy: 0.0980 - val_loss: 2.3041 - val_accuracy: 0.1001\n",
            "Epoch 18/20\n",
            "50000/50000 [==============================] - 7s 130us/sample - loss: 2.3024 - accuracy: 0.0964 - val_loss: 2.3066 - val_accuracy: 0.0999\n",
            "Epoch 19/20\n",
            "50000/50000 [==============================] - 6s 126us/sample - loss: 2.3028 - accuracy: 0.0986 - val_loss: 2.3029 - val_accuracy: 0.1000\n",
            "Epoch 20/20\n",
            "50000/50000 [==============================] - 6s 126us/sample - loss: 2.3048 - accuracy: 0.0993 - val_loss: 2.3030 - val_accuracy: 0.1001\n"
          ],
          "name": "stdout"
        },
        {
          "output_type": "display_data",
          "data": {
            "text/html": [
              "<span style=\"color:#4527A0\"><h1 style=\"font-size:18px\">Trial complete</h1></span>"
            ],
            "text/plain": [
              "<IPython.core.display.HTML object>"
            ]
          },
          "metadata": {
            "tags": []
          }
        },
        {
          "output_type": "display_data",
          "data": {
            "text/html": [
              "<span style=\"color:#4527A0\"><h1 style=\"font-size:18px\">Trial summary</h1></span>"
            ],
            "text/plain": [
              "<IPython.core.display.HTML object>"
            ]
          },
          "metadata": {
            "tags": []
          }
        },
        {
          "output_type": "display_data",
          "data": {
            "text/html": [
              "<span style=\"color:cyan\"> |-Trial ID: 0b2c0456c7563a19a73191d925bce58f</span>"
            ],
            "text/plain": [
              "<IPython.core.display.HTML object>"
            ]
          },
          "metadata": {
            "tags": []
          }
        },
        {
          "output_type": "display_data",
          "data": {
            "text/html": [
              "<span style=\"color:cyan\"> |-Score: 0.10143333673477173</span>"
            ],
            "text/plain": [
              "<IPython.core.display.HTML object>"
            ]
          },
          "metadata": {
            "tags": []
          }
        },
        {
          "output_type": "display_data",
          "data": {
            "text/html": [
              "<span style=\"color:cyan\"> |-Best step: 0</span>"
            ],
            "text/plain": [
              "<IPython.core.display.HTML object>"
            ]
          },
          "metadata": {
            "tags": []
          }
        },
        {
          "output_type": "display_data",
          "data": {
            "text/html": [
              "<span style=\"color:#7E57C2\"><h2 style=\"font-size:16px\">Hyperparameters:</h2></span>"
            ],
            "text/plain": [
              "<IPython.core.display.HTML object>"
            ]
          },
          "metadata": {
            "tags": []
          }
        },
        {
          "output_type": "display_data",
          "data": {
            "text/html": [
              "<span style=\"color:cyan\"> |-Drop out: 0.49999999999999994</span>"
            ],
            "text/plain": [
              "<IPython.core.display.HTML object>"
            ]
          },
          "metadata": {
            "tags": []
          }
        },
        {
          "output_type": "display_data",
          "data": {
            "text/html": [
              "<span style=\"color:blue\"> |-filter size: 7</span>"
            ],
            "text/plain": [
              "<IPython.core.display.HTML object>"
            ]
          },
          "metadata": {
            "tags": []
          }
        },
        {
          "output_type": "stream",
          "text": [
            "Train on 50000 samples, validate on 10000 samples\n",
            "Epoch 1/20\n",
            "50000/50000 [==============================] - 7s 133us/sample - loss: 2.0859 - accuracy: 0.3454 - val_loss: 1.4569 - val_accuracy: 0.4738\n",
            "Epoch 2/20\n",
            "50000/50000 [==============================] - 6s 126us/sample - loss: 1.3518 - accuracy: 0.5225 - val_loss: 1.2356 - val_accuracy: 0.5674\n",
            "Epoch 3/20\n",
            "50000/50000 [==============================] - 7s 130us/sample - loss: 1.1592 - accuracy: 0.6012 - val_loss: 1.2029 - val_accuracy: 0.5838\n",
            "Epoch 4/20\n",
            "50000/50000 [==============================] - 6s 127us/sample - loss: 1.0349 - accuracy: 0.6432 - val_loss: 1.1739 - val_accuracy: 0.6002\n",
            "Epoch 5/20\n",
            "50000/50000 [==============================] - 6s 127us/sample - loss: 0.9326 - accuracy: 0.6801 - val_loss: 1.2081 - val_accuracy: 0.6031\n",
            "Epoch 6/20\n",
            "50000/50000 [==============================] - 6s 125us/sample - loss: 0.8438 - accuracy: 0.7127 - val_loss: 1.1879 - val_accuracy: 0.6185\n",
            "Epoch 7/20\n",
            "50000/50000 [==============================] - 6s 127us/sample - loss: 0.7608 - accuracy: 0.7377 - val_loss: 1.3134 - val_accuracy: 0.6066\n",
            "Epoch 8/20\n",
            "50000/50000 [==============================] - 6s 127us/sample - loss: 0.6810 - accuracy: 0.7659 - val_loss: 1.3699 - val_accuracy: 0.5947\n",
            "Epoch 9/20\n",
            "50000/50000 [==============================] - 6s 126us/sample - loss: 0.6190 - accuracy: 0.7890 - val_loss: 1.4810 - val_accuracy: 0.6047\n",
            "Epoch 10/20\n",
            "50000/50000 [==============================] - 6s 125us/sample - loss: 0.5647 - accuracy: 0.8090 - val_loss: 1.4652 - val_accuracy: 0.6123\n",
            "Epoch 11/20\n",
            "50000/50000 [==============================] - 6s 128us/sample - loss: 0.5183 - accuracy: 0.8232 - val_loss: 1.6666 - val_accuracy: 0.6100\n",
            "Epoch 12/20\n",
            "50000/50000 [==============================] - 6s 128us/sample - loss: 0.4761 - accuracy: 0.8397 - val_loss: 1.7839 - val_accuracy: 0.6050\n",
            "Epoch 13/20\n",
            "50000/50000 [==============================] - 7s 131us/sample - loss: 0.4314 - accuracy: 0.8565 - val_loss: 1.7794 - val_accuracy: 0.6146\n",
            "Epoch 14/20\n",
            "50000/50000 [==============================] - 7s 131us/sample - loss: 0.4147 - accuracy: 0.8632 - val_loss: 1.9373 - val_accuracy: 0.5981\n",
            "Epoch 15/20\n",
            "50000/50000 [==============================] - 6s 127us/sample - loss: 0.3890 - accuracy: 0.8749 - val_loss: 2.0881 - val_accuracy: 0.5953\n",
            "Epoch 16/20\n",
            "50000/50000 [==============================] - 6s 126us/sample - loss: 0.3701 - accuracy: 0.8824 - val_loss: 2.0226 - val_accuracy: 0.6054\n",
            "Epoch 17/20\n",
            "50000/50000 [==============================] - 7s 130us/sample - loss: 0.3446 - accuracy: 0.8895 - val_loss: 2.0367 - val_accuracy: 0.6045\n",
            "Epoch 18/20\n",
            "50000/50000 [==============================] - 6s 125us/sample - loss: 0.3268 - accuracy: 0.8950 - val_loss: 2.2409 - val_accuracy: 0.5992\n",
            "Epoch 19/20\n",
            "50000/50000 [==============================] - 6s 125us/sample - loss: 0.3142 - accuracy: 0.9007 - val_loss: 2.1300 - val_accuracy: 0.6021\n",
            "Epoch 20/20\n",
            "50000/50000 [==============================] - 6s 125us/sample - loss: 0.3099 - accuracy: 0.9030 - val_loss: 2.3627 - val_accuracy: 0.6005\n",
            "Train on 50000 samples, validate on 10000 samples\n",
            "Epoch 1/20\n",
            "50000/50000 [==============================] - 7s 135us/sample - loss: 1.9173 - accuracy: 0.3645 - val_loss: 1.3963 - val_accuracy: 0.5041\n",
            "Epoch 2/20\n",
            "50000/50000 [==============================] - 6s 128us/sample - loss: 1.3107 - accuracy: 0.5419 - val_loss: 1.2245 - val_accuracy: 0.5715\n",
            "Epoch 3/20\n",
            "50000/50000 [==============================] - 6s 124us/sample - loss: 1.1284 - accuracy: 0.6079 - val_loss: 1.2167 - val_accuracy: 0.5818\n",
            "Epoch 4/20\n",
            "50000/50000 [==============================] - 6s 124us/sample - loss: 0.9974 - accuracy: 0.6523 - val_loss: 1.1608 - val_accuracy: 0.6027\n",
            "Epoch 5/20\n",
            "50000/50000 [==============================] - 6s 124us/sample - loss: 0.8957 - accuracy: 0.6886 - val_loss: 1.2462 - val_accuracy: 0.5926\n",
            "Epoch 6/20\n",
            "50000/50000 [==============================] - 6s 128us/sample - loss: 0.8050 - accuracy: 0.7184 - val_loss: 1.2025 - val_accuracy: 0.6113\n",
            "Epoch 7/20\n",
            "50000/50000 [==============================] - 7s 133us/sample - loss: 0.7027 - accuracy: 0.7557 - val_loss: 1.3736 - val_accuracy: 0.5901\n",
            "Epoch 8/20\n",
            "50000/50000 [==============================] - 6s 129us/sample - loss: 0.6323 - accuracy: 0.7826 - val_loss: 1.3607 - val_accuracy: 0.6016\n",
            "Epoch 9/20\n",
            "50000/50000 [==============================] - 6s 129us/sample - loss: 0.5575 - accuracy: 0.8091 - val_loss: 1.5320 - val_accuracy: 0.5911\n",
            "Epoch 10/20\n",
            "50000/50000 [==============================] - 6s 128us/sample - loss: 0.4980 - accuracy: 0.8322 - val_loss: 1.6149 - val_accuracy: 0.5981\n",
            "Epoch 11/20\n",
            "50000/50000 [==============================] - 7s 131us/sample - loss: 0.4505 - accuracy: 0.8476 - val_loss: 1.7358 - val_accuracy: 0.5975\n",
            "Epoch 12/20\n",
            "50000/50000 [==============================] - 6s 129us/sample - loss: 0.4095 - accuracy: 0.8619 - val_loss: 1.8233 - val_accuracy: 0.5970\n",
            "Epoch 13/20\n",
            "50000/50000 [==============================] - 6s 129us/sample - loss: 0.3805 - accuracy: 0.8734 - val_loss: 1.9712 - val_accuracy: 0.5990\n",
            "Epoch 14/20\n",
            "50000/50000 [==============================] - 6s 128us/sample - loss: 0.3530 - accuracy: 0.8830 - val_loss: 2.0412 - val_accuracy: 0.6031\n",
            "Epoch 15/20\n",
            "50000/50000 [==============================] - 7s 130us/sample - loss: 0.3249 - accuracy: 0.8944 - val_loss: 2.1403 - val_accuracy: 0.5955\n",
            "Epoch 16/20\n",
            "50000/50000 [==============================] - 7s 130us/sample - loss: 0.3033 - accuracy: 0.9011 - val_loss: 2.2078 - val_accuracy: 0.5888\n",
            "Epoch 17/20\n",
            "50000/50000 [==============================] - 6s 126us/sample - loss: 0.2949 - accuracy: 0.9057 - val_loss: 2.2312 - val_accuracy: 0.5958\n",
            "Epoch 18/20\n",
            "50000/50000 [==============================] - 6s 125us/sample - loss: 0.2872 - accuracy: 0.9108 - val_loss: 2.4382 - val_accuracy: 0.5873\n",
            "Epoch 19/20\n",
            "50000/50000 [==============================] - 6s 126us/sample - loss: 0.2527 - accuracy: 0.9189 - val_loss: 2.6033 - val_accuracy: 0.5853\n",
            "Epoch 20/20\n",
            "50000/50000 [==============================] - 6s 128us/sample - loss: 0.2574 - accuracy: 0.9197 - val_loss: 2.5325 - val_accuracy: 0.5874\n",
            "Train on 50000 samples, validate on 10000 samples\n",
            "Epoch 1/20\n",
            "50000/50000 [==============================] - 7s 136us/sample - loss: 1.8160 - accuracy: 0.3857 - val_loss: 1.3887 - val_accuracy: 0.5053\n",
            "Epoch 2/20\n",
            "50000/50000 [==============================] - 6s 126us/sample - loss: 1.2906 - accuracy: 0.5458 - val_loss: 1.2079 - val_accuracy: 0.5767\n",
            "Epoch 3/20\n",
            "50000/50000 [==============================] - 6s 125us/sample - loss: 1.1223 - accuracy: 0.6081 - val_loss: 1.1973 - val_accuracy: 0.5889\n",
            "Epoch 4/20\n",
            "50000/50000 [==============================] - 6s 126us/sample - loss: 1.0134 - accuracy: 0.6486 - val_loss: 1.1710 - val_accuracy: 0.6042\n",
            "Epoch 5/20\n",
            "50000/50000 [==============================] - 6s 128us/sample - loss: 0.9188 - accuracy: 0.6819 - val_loss: 1.1462 - val_accuracy: 0.6115\n",
            "Epoch 6/20\n",
            "50000/50000 [==============================] - 6s 127us/sample - loss: 0.8304 - accuracy: 0.7130 - val_loss: 1.2535 - val_accuracy: 0.5950\n",
            "Epoch 7/20\n",
            "50000/50000 [==============================] - 6s 126us/sample - loss: 0.7547 - accuracy: 0.7396 - val_loss: 1.2839 - val_accuracy: 0.5998\n",
            "Epoch 8/20\n",
            "50000/50000 [==============================] - 6s 125us/sample - loss: 0.6929 - accuracy: 0.7618 - val_loss: 1.3734 - val_accuracy: 0.6018\n",
            "Epoch 9/20\n",
            "50000/50000 [==============================] - 6s 129us/sample - loss: 0.6199 - accuracy: 0.7896 - val_loss: 1.3474 - val_accuracy: 0.6036\n",
            "Epoch 10/20\n",
            "50000/50000 [==============================] - 6s 130us/sample - loss: 0.5642 - accuracy: 0.8086 - val_loss: 1.4522 - val_accuracy: 0.5983\n",
            "Epoch 11/20\n",
            "50000/50000 [==============================] - 6s 126us/sample - loss: 0.5170 - accuracy: 0.8251 - val_loss: 1.6545 - val_accuracy: 0.6037\n",
            "Epoch 12/20\n",
            "50000/50000 [==============================] - 6s 127us/sample - loss: 0.4769 - accuracy: 0.8393 - val_loss: 1.6848 - val_accuracy: 0.6057\n",
            "Epoch 13/20\n",
            "50000/50000 [==============================] - 6s 128us/sample - loss: 0.4382 - accuracy: 0.8573 - val_loss: 1.8016 - val_accuracy: 0.5954\n",
            "Epoch 14/20\n",
            "50000/50000 [==============================] - 7s 130us/sample - loss: 0.4103 - accuracy: 0.8646 - val_loss: 1.8748 - val_accuracy: 0.5958\n",
            "Epoch 15/20\n",
            "50000/50000 [==============================] - 6s 130us/sample - loss: 0.3798 - accuracy: 0.8762 - val_loss: 2.0302 - val_accuracy: 0.5950\n",
            "Epoch 16/20\n",
            "50000/50000 [==============================] - 6s 127us/sample - loss: 0.3584 - accuracy: 0.8830 - val_loss: 2.0980 - val_accuracy: 0.5890\n",
            "Epoch 17/20\n",
            "50000/50000 [==============================] - 6s 125us/sample - loss: 0.3447 - accuracy: 0.8889 - val_loss: 2.1842 - val_accuracy: 0.5963\n",
            "Epoch 18/20\n",
            "50000/50000 [==============================] - 6s 127us/sample - loss: 0.3307 - accuracy: 0.8947 - val_loss: 2.2620 - val_accuracy: 0.5927\n",
            "Epoch 19/20\n",
            "50000/50000 [==============================] - 7s 131us/sample - loss: 0.3109 - accuracy: 0.9025 - val_loss: 2.3064 - val_accuracy: 0.5981\n",
            "Epoch 20/20\n",
            "50000/50000 [==============================] - 6s 125us/sample - loss: 0.2989 - accuracy: 0.9069 - val_loss: 2.4607 - val_accuracy: 0.5868\n"
          ],
          "name": "stdout"
        },
        {
          "output_type": "display_data",
          "data": {
            "text/html": [
              "<span style=\"color:#4527A0\"><h1 style=\"font-size:18px\">Trial complete</h1></span>"
            ],
            "text/plain": [
              "<IPython.core.display.HTML object>"
            ]
          },
          "metadata": {
            "tags": []
          }
        },
        {
          "output_type": "display_data",
          "data": {
            "text/html": [
              "<span style=\"color:#4527A0\"><h1 style=\"font-size:18px\">Trial summary</h1></span>"
            ],
            "text/plain": [
              "<IPython.core.display.HTML object>"
            ]
          },
          "metadata": {
            "tags": []
          }
        },
        {
          "output_type": "display_data",
          "data": {
            "text/html": [
              "<span style=\"color:cyan\"> |-Trial ID: 6f56d2ba86f0598c20e5a2188760a0c8</span>"
            ],
            "text/plain": [
              "<IPython.core.display.HTML object>"
            ]
          },
          "metadata": {
            "tags": []
          }
        },
        {
          "output_type": "display_data",
          "data": {
            "text/html": [
              "<span style=\"color:cyan\"> |-Score: 0.6137666702270508</span>"
            ],
            "text/plain": [
              "<IPython.core.display.HTML object>"
            ]
          },
          "metadata": {
            "tags": []
          }
        },
        {
          "output_type": "display_data",
          "data": {
            "text/html": [
              "<span style=\"color:cyan\"> |-Best step: 0</span>"
            ],
            "text/plain": [
              "<IPython.core.display.HTML object>"
            ]
          },
          "metadata": {
            "tags": []
          }
        },
        {
          "output_type": "display_data",
          "data": {
            "text/html": [
              "<span style=\"color:#7E57C2\"><h2 style=\"font-size:16px\">Hyperparameters:</h2></span>"
            ],
            "text/plain": [
              "<IPython.core.display.HTML object>"
            ]
          },
          "metadata": {
            "tags": []
          }
        },
        {
          "output_type": "display_data",
          "data": {
            "text/html": [
              "<span style=\"color:cyan\"> |-Drop out: 0.35</span>"
            ],
            "text/plain": [
              "<IPython.core.display.HTML object>"
            ]
          },
          "metadata": {
            "tags": []
          }
        },
        {
          "output_type": "display_data",
          "data": {
            "text/html": [
              "<span style=\"color:blue\"> |-filter size: 3</span>"
            ],
            "text/plain": [
              "<IPython.core.display.HTML object>"
            ]
          },
          "metadata": {
            "tags": []
          }
        },
        {
          "output_type": "stream",
          "text": [
            "Train on 50000 samples, validate on 10000 samples\n",
            "Epoch 1/20\n",
            "50000/50000 [==============================] - 7s 136us/sample - loss: 1.9946 - accuracy: 0.3227 - val_loss: 1.6453 - val_accuracy: 0.4056\n",
            "Epoch 2/20\n",
            "50000/50000 [==============================] - 7s 133us/sample - loss: 1.5916 - accuracy: 0.4282 - val_loss: 1.5267 - val_accuracy: 0.4480\n",
            "Epoch 3/20\n",
            "50000/50000 [==============================] - 7s 130us/sample - loss: 1.4845 - accuracy: 0.4755 - val_loss: 1.4567 - val_accuracy: 0.4884\n",
            "Epoch 4/20\n",
            "50000/50000 [==============================] - 6s 127us/sample - loss: 1.3828 - accuracy: 0.5127 - val_loss: 1.4457 - val_accuracy: 0.4960\n",
            "Epoch 5/20\n",
            "50000/50000 [==============================] - 6s 126us/sample - loss: 1.3236 - accuracy: 0.5367 - val_loss: 1.3914 - val_accuracy: 0.5236\n",
            "Epoch 6/20\n",
            "50000/50000 [==============================] - 6s 126us/sample - loss: 1.2618 - accuracy: 0.5610 - val_loss: 1.4939 - val_accuracy: 0.4892\n",
            "Epoch 7/20\n",
            "50000/50000 [==============================] - 6s 127us/sample - loss: 1.2164 - accuracy: 0.5778 - val_loss: 1.3607 - val_accuracy: 0.5465\n",
            "Epoch 8/20\n",
            "50000/50000 [==============================] - 7s 131us/sample - loss: 1.1580 - accuracy: 0.6008 - val_loss: 1.2922 - val_accuracy: 0.5640\n",
            "Epoch 9/20\n",
            "50000/50000 [==============================] - 6s 126us/sample - loss: 1.1025 - accuracy: 0.6171 - val_loss: 1.3406 - val_accuracy: 0.5604\n",
            "Epoch 10/20\n",
            "50000/50000 [==============================] - 6s 125us/sample - loss: 1.0533 - accuracy: 0.6347 - val_loss: 1.3519 - val_accuracy: 0.5572\n",
            "Epoch 11/20\n",
            "50000/50000 [==============================] - 6s 126us/sample - loss: 1.0271 - accuracy: 0.6449 - val_loss: 1.3441 - val_accuracy: 0.5741\n",
            "Epoch 12/20\n",
            "50000/50000 [==============================] - 6s 127us/sample - loss: 0.9870 - accuracy: 0.6603 - val_loss: 1.4140 - val_accuracy: 0.5554\n",
            "Epoch 13/20\n",
            "50000/50000 [==============================] - 6s 130us/sample - loss: 0.9399 - accuracy: 0.6772 - val_loss: 1.4691 - val_accuracy: 0.5463\n",
            "Epoch 14/20\n",
            "50000/50000 [==============================] - 6s 125us/sample - loss: 0.9207 - accuracy: 0.6827 - val_loss: 1.4976 - val_accuracy: 0.5389\n",
            "Epoch 15/20\n",
            "50000/50000 [==============================] - 6s 125us/sample - loss: 0.8945 - accuracy: 0.6937 - val_loss: 1.4833 - val_accuracy: 0.5587\n",
            "Epoch 16/20\n",
            "50000/50000 [==============================] - 6s 124us/sample - loss: 0.8650 - accuracy: 0.7044 - val_loss: 1.4996 - val_accuracy: 0.5712\n",
            "Epoch 17/20\n",
            "50000/50000 [==============================] - 6s 127us/sample - loss: 0.8327 - accuracy: 0.7152 - val_loss: 1.5306 - val_accuracy: 0.5598\n",
            "Epoch 18/20\n",
            "50000/50000 [==============================] - 6s 129us/sample - loss: 0.8043 - accuracy: 0.7249 - val_loss: 1.5037 - val_accuracy: 0.5653\n",
            "Epoch 19/20\n",
            "50000/50000 [==============================] - 6s 127us/sample - loss: 0.7865 - accuracy: 0.7320 - val_loss: 1.5178 - val_accuracy: 0.5576\n",
            "Epoch 20/20\n",
            "50000/50000 [==============================] - 6s 127us/sample - loss: 0.7736 - accuracy: 0.7379 - val_loss: 1.6630 - val_accuracy: 0.5579\n",
            "Train on 50000 samples, validate on 10000 samples\n",
            "Epoch 1/20\n",
            "50000/50000 [==============================] - 7s 134us/sample - loss: 2.3042 - accuracy: 0.1667 - val_loss: 1.8440 - val_accuracy: 0.3075\n",
            "Epoch 2/20\n",
            "50000/50000 [==============================] - 6s 128us/sample - loss: 1.8221 - accuracy: 0.3274 - val_loss: 1.7038 - val_accuracy: 0.3649\n",
            "Epoch 3/20\n",
            "50000/50000 [==============================] - 6s 128us/sample - loss: 1.6873 - accuracy: 0.3871 - val_loss: 1.7096 - val_accuracy: 0.3852\n",
            "Epoch 4/20\n",
            "50000/50000 [==============================] - 6s 125us/sample - loss: 1.5949 - accuracy: 0.4253 - val_loss: 1.5371 - val_accuracy: 0.4416\n",
            "Epoch 5/20\n",
            "50000/50000 [==============================] - 6s 125us/sample - loss: 1.5227 - accuracy: 0.4547 - val_loss: 1.5229 - val_accuracy: 0.4539\n",
            "Epoch 6/20\n",
            "50000/50000 [==============================] - 6s 127us/sample - loss: 1.4428 - accuracy: 0.4853 - val_loss: 1.5258 - val_accuracy: 0.4542\n",
            "Epoch 7/20\n",
            "50000/50000 [==============================] - 7s 131us/sample - loss: 1.3842 - accuracy: 0.5032 - val_loss: 1.4819 - val_accuracy: 0.4820\n",
            "Epoch 8/20\n",
            "50000/50000 [==============================] - 6s 127us/sample - loss: 1.3102 - accuracy: 0.5297 - val_loss: 1.5637 - val_accuracy: 0.4703\n",
            "Epoch 9/20\n",
            "50000/50000 [==============================] - 6s 126us/sample - loss: 1.2398 - accuracy: 0.5546 - val_loss: 1.5090 - val_accuracy: 0.4846\n",
            "Epoch 10/20\n",
            "50000/50000 [==============================] - 6s 125us/sample - loss: 1.1866 - accuracy: 0.5730 - val_loss: 1.5607 - val_accuracy: 0.4866\n",
            "Epoch 11/20\n",
            "50000/50000 [==============================] - 6s 129us/sample - loss: 1.1297 - accuracy: 0.5937 - val_loss: 1.6346 - val_accuracy: 0.4595\n",
            "Epoch 12/20\n",
            "50000/50000 [==============================] - 7s 130us/sample - loss: 1.0670 - accuracy: 0.6178 - val_loss: 1.6754 - val_accuracy: 0.4789\n",
            "Epoch 13/20\n",
            "50000/50000 [==============================] - 6s 127us/sample - loss: 1.0125 - accuracy: 0.6364 - val_loss: 1.6728 - val_accuracy: 0.4922\n",
            "Epoch 14/20\n",
            "50000/50000 [==============================] - 6s 126us/sample - loss: 0.9608 - accuracy: 0.6540 - val_loss: 1.8936 - val_accuracy: 0.4536\n",
            "Epoch 15/20\n",
            "50000/50000 [==============================] - 6s 126us/sample - loss: 0.9323 - accuracy: 0.6634 - val_loss: 1.7810 - val_accuracy: 0.4890\n",
            "Epoch 16/20\n",
            "50000/50000 [==============================] - 6s 127us/sample - loss: 0.8854 - accuracy: 0.6840 - val_loss: 1.9205 - val_accuracy: 0.4872\n",
            "Epoch 17/20\n",
            "50000/50000 [==============================] - 6s 128us/sample - loss: 0.8318 - accuracy: 0.7038 - val_loss: 1.9956 - val_accuracy: 0.4811\n",
            "Epoch 18/20\n",
            "50000/50000 [==============================] - 6s 125us/sample - loss: 0.7915 - accuracy: 0.7188 - val_loss: 2.0459 - val_accuracy: 0.4732\n",
            "Epoch 19/20\n",
            "50000/50000 [==============================] - 6s 125us/sample - loss: 0.7583 - accuracy: 0.7297 - val_loss: 2.1519 - val_accuracy: 0.4728\n",
            "Epoch 20/20\n",
            "50000/50000 [==============================] - 6s 126us/sample - loss: 0.7318 - accuracy: 0.7424 - val_loss: 2.1796 - val_accuracy: 0.4652\n",
            "Train on 50000 samples, validate on 10000 samples\n",
            "Epoch 1/20\n",
            "50000/50000 [==============================] - 7s 138us/sample - loss: 2.4460 - accuracy: 0.0982 - val_loss: 2.3032 - val_accuracy: 0.0991\n",
            "Epoch 2/20\n",
            "50000/50000 [==============================] - 6s 126us/sample - loss: 2.3026 - accuracy: 0.0999 - val_loss: 2.3022 - val_accuracy: 0.1007\n",
            "Epoch 3/20\n",
            "50000/50000 [==============================] - 6s 126us/sample - loss: 2.3036 - accuracy: 0.0992 - val_loss: 2.3024 - val_accuracy: 0.1001\n",
            "Epoch 4/20\n",
            "50000/50000 [==============================] - 6s 127us/sample - loss: 2.3029 - accuracy: 0.0997 - val_loss: 2.3025 - val_accuracy: 0.1007\n",
            "Epoch 5/20\n",
            "50000/50000 [==============================] - 6s 129us/sample - loss: 2.3031 - accuracy: 0.0994 - val_loss: 2.3026 - val_accuracy: 0.1004\n",
            "Epoch 6/20\n",
            "50000/50000 [==============================] - 7s 132us/sample - loss: 2.3027 - accuracy: 0.0979 - val_loss: 2.3029 - val_accuracy: 0.1002\n",
            "Epoch 7/20\n",
            "50000/50000 [==============================] - 6s 126us/sample - loss: 2.3026 - accuracy: 0.1003 - val_loss: 2.3033 - val_accuracy: 0.1001\n",
            "Epoch 8/20\n",
            "50000/50000 [==============================] - 6s 125us/sample - loss: 2.3027 - accuracy: 0.0997 - val_loss: 2.3028 - val_accuracy: 0.1001\n",
            "Epoch 9/20\n",
            "50000/50000 [==============================] - 6s 125us/sample - loss: 2.3026 - accuracy: 0.0995 - val_loss: 2.3027 - val_accuracy: 0.0999\n",
            "Epoch 10/20\n",
            "50000/50000 [==============================] - 7s 135us/sample - loss: 2.3031 - accuracy: 0.0985 - val_loss: 2.3029 - val_accuracy: 0.1000\n",
            "Epoch 11/20\n",
            "50000/50000 [==============================] - 7s 134us/sample - loss: 2.3028 - accuracy: 0.0975 - val_loss: 2.3038 - val_accuracy: 0.0999\n",
            "Epoch 12/20\n",
            "50000/50000 [==============================] - 6s 127us/sample - loss: 2.3027 - accuracy: 0.0978 - val_loss: 2.3033 - val_accuracy: 0.0999\n",
            "Epoch 13/20\n",
            "50000/50000 [==============================] - 6s 125us/sample - loss: 2.3027 - accuracy: 0.1005 - val_loss: 2.3032 - val_accuracy: 0.0999\n",
            "Epoch 14/20\n",
            "50000/50000 [==============================] - 6s 125us/sample - loss: 2.3023 - accuracy: 0.0958 - val_loss: 2.3037 - val_accuracy: 0.0998\n",
            "Epoch 15/20\n",
            "50000/50000 [==============================] - 7s 130us/sample - loss: 2.3039 - accuracy: 0.0974 - val_loss: 2.3028 - val_accuracy: 0.0998\n",
            "Epoch 16/20\n",
            "50000/50000 [==============================] - 6s 127us/sample - loss: 2.3040 - accuracy: 0.0987 - val_loss: 2.3035 - val_accuracy: 0.0999\n",
            "Epoch 17/20\n",
            "50000/50000 [==============================] - 6s 127us/sample - loss: 2.3021 - accuracy: 0.0980 - val_loss: 2.3047 - val_accuracy: 0.1000\n",
            "Epoch 18/20\n",
            "50000/50000 [==============================] - 6s 126us/sample - loss: 2.3036 - accuracy: 0.0986 - val_loss: 2.3140 - val_accuracy: 0.0996\n",
            "Epoch 19/20\n",
            "50000/50000 [==============================] - 6s 126us/sample - loss: 2.3058 - accuracy: 0.1010 - val_loss: 2.3079 - val_accuracy: 0.0998\n",
            "Epoch 20/20\n",
            "50000/50000 [==============================] - 6s 129us/sample - loss: 2.3024 - accuracy: 0.1002 - val_loss: 2.3041 - val_accuracy: 0.1002\n"
          ],
          "name": "stdout"
        },
        {
          "output_type": "display_data",
          "data": {
            "text/html": [
              "<span style=\"color:#4527A0\"><h1 style=\"font-size:18px\">Trial complete</h1></span>"
            ],
            "text/plain": [
              "<IPython.core.display.HTML object>"
            ]
          },
          "metadata": {
            "tags": []
          }
        },
        {
          "output_type": "display_data",
          "data": {
            "text/html": [
              "<span style=\"color:#4527A0\"><h1 style=\"font-size:18px\">Trial summary</h1></span>"
            ],
            "text/plain": [
              "<IPython.core.display.HTML object>"
            ]
          },
          "metadata": {
            "tags": []
          }
        },
        {
          "output_type": "display_data",
          "data": {
            "text/html": [
              "<span style=\"color:cyan\"> |-Trial ID: eaa840977c225e2bc4ddd34ef1ace283</span>"
            ],
            "text/plain": [
              "<IPython.core.display.HTML object>"
            ]
          },
          "metadata": {
            "tags": []
          }
        },
        {
          "output_type": "display_data",
          "data": {
            "text/html": [
              "<span style=\"color:cyan\"> |-Score: 0.3890000283718109</span>"
            ],
            "text/plain": [
              "<IPython.core.display.HTML object>"
            ]
          },
          "metadata": {
            "tags": []
          }
        },
        {
          "output_type": "display_data",
          "data": {
            "text/html": [
              "<span style=\"color:cyan\"> |-Best step: 0</span>"
            ],
            "text/plain": [
              "<IPython.core.display.HTML object>"
            ]
          },
          "metadata": {
            "tags": []
          }
        },
        {
          "output_type": "display_data",
          "data": {
            "text/html": [
              "<span style=\"color:#7E57C2\"><h2 style=\"font-size:16px\">Hyperparameters:</h2></span>"
            ],
            "text/plain": [
              "<IPython.core.display.HTML object>"
            ]
          },
          "metadata": {
            "tags": []
          }
        },
        {
          "output_type": "display_data",
          "data": {
            "text/html": [
              "<span style=\"color:cyan\"> |-Drop out: 0.2</span>"
            ],
            "text/plain": [
              "<IPython.core.display.HTML object>"
            ]
          },
          "metadata": {
            "tags": []
          }
        },
        {
          "output_type": "display_data",
          "data": {
            "text/html": [
              "<span style=\"color:blue\"> |-filter size: 7</span>"
            ],
            "text/plain": [
              "<IPython.core.display.HTML object>"
            ]
          },
          "metadata": {
            "tags": []
          }
        },
        {
          "output_type": "stream",
          "text": [
            "Train on 50000 samples, validate on 10000 samples\n",
            "Epoch 1/20\n",
            "50000/50000 [==============================] - 7s 135us/sample - loss: 2.3380 - accuracy: 0.0987 - val_loss: 2.3030 - val_accuracy: 0.1000\n",
            "Epoch 2/20\n",
            "50000/50000 [==============================] - 6s 125us/sample - loss: 2.3025 - accuracy: 0.1004 - val_loss: 2.3026 - val_accuracy: 0.1000\n",
            "Epoch 3/20\n",
            "50000/50000 [==============================] - 6s 125us/sample - loss: 2.3030 - accuracy: 0.0989 - val_loss: 2.3028 - val_accuracy: 0.1006\n",
            "Epoch 4/20\n",
            "50000/50000 [==============================] - 6s 126us/sample - loss: 2.3040 - accuracy: 0.0960 - val_loss: 2.3027 - val_accuracy: 0.1002\n",
            "Epoch 5/20\n",
            "50000/50000 [==============================] - 6s 130us/sample - loss: 2.3031 - accuracy: 0.0975 - val_loss: 2.3027 - val_accuracy: 0.1000\n",
            "Epoch 6/20\n",
            "50000/50000 [==============================] - 6s 126us/sample - loss: 2.3026 - accuracy: 0.0980 - val_loss: 2.3026 - val_accuracy: 0.1000\n",
            "Epoch 7/20\n",
            "50000/50000 [==============================] - 6s 125us/sample - loss: 2.3031 - accuracy: 0.0995 - val_loss: 2.3026 - val_accuracy: 0.1000\n",
            "Epoch 8/20\n",
            "50000/50000 [==============================] - 6s 127us/sample - loss: 2.3048 - accuracy: 0.0982 - val_loss: 2.3027 - val_accuracy: 0.1001\n",
            "Epoch 9/20\n",
            "50000/50000 [==============================] - 6s 130us/sample - loss: 2.3045 - accuracy: 0.0958 - val_loss: 2.3025 - val_accuracy: 0.1001\n",
            "Epoch 10/20\n",
            "50000/50000 [==============================] - 6s 130us/sample - loss: 2.3026 - accuracy: 0.0986 - val_loss: 2.3025 - val_accuracy: 0.1001\n",
            "Epoch 11/20\n",
            "50000/50000 [==============================] - 6s 125us/sample - loss: 2.3024 - accuracy: 0.0998 - val_loss: 2.3026 - val_accuracy: 0.1001\n",
            "Epoch 12/20\n",
            "50000/50000 [==============================] - 6s 124us/sample - loss: 2.3043 - accuracy: 0.0961 - val_loss: 2.3026 - val_accuracy: 0.1000\n",
            "Epoch 13/20\n",
            "50000/50000 [==============================] - 6s 126us/sample - loss: 2.3395 - accuracy: 0.1003 - val_loss: 2.3028 - val_accuracy: 0.1000\n",
            "Epoch 14/20\n",
            "50000/50000 [==============================] - 6s 130us/sample - loss: 2.3027 - accuracy: 0.0987 - val_loss: 2.3028 - val_accuracy: 0.1000\n",
            "Epoch 15/20\n",
            "50000/50000 [==============================] - 6s 128us/sample - loss: 2.3025 - accuracy: 0.0958 - val_loss: 2.3028 - val_accuracy: 0.1001\n",
            "Epoch 16/20\n",
            "50000/50000 [==============================] - 6s 125us/sample - loss: 2.3023 - accuracy: 0.0996 - val_loss: 2.3024 - val_accuracy: 0.1002\n",
            "Epoch 17/20\n",
            "50000/50000 [==============================] - 6s 124us/sample - loss: 2.3037 - accuracy: 0.0985 - val_loss: 2.3026 - val_accuracy: 0.1000\n",
            "Epoch 18/20\n",
            "50000/50000 [==============================] - 6s 127us/sample - loss: 2.3023 - accuracy: 0.0973 - val_loss: 2.3030 - val_accuracy: 0.1001\n",
            "Epoch 19/20\n",
            "50000/50000 [==============================] - 6s 129us/sample - loss: 2.3024 - accuracy: 0.0984 - val_loss: 2.3025 - val_accuracy: 0.1001\n",
            "Epoch 20/20\n",
            "50000/50000 [==============================] - 6s 126us/sample - loss: 2.3027 - accuracy: 0.1011 - val_loss: 2.3029 - val_accuracy: 0.1000\n",
            "Train on 50000 samples, validate on 10000 samples\n",
            "Epoch 1/20\n",
            "50000/50000 [==============================] - 7s 133us/sample - loss: 2.1611 - accuracy: 0.2336 - val_loss: 1.8415 - val_accuracy: 0.3260\n",
            "Epoch 2/20\n",
            "50000/50000 [==============================] - 6s 127us/sample - loss: 1.7980 - accuracy: 0.3505 - val_loss: 1.6369 - val_accuracy: 0.4088\n",
            "Epoch 3/20\n",
            "50000/50000 [==============================] - 7s 131us/sample - loss: 1.6554 - accuracy: 0.4129 - val_loss: 1.5571 - val_accuracy: 0.4384\n",
            "Epoch 4/20\n",
            "50000/50000 [==============================] - 6s 127us/sample - loss: 1.5525 - accuracy: 0.4552 - val_loss: 1.5561 - val_accuracy: 0.4518\n",
            "Epoch 5/20\n",
            "50000/50000 [==============================] - 6s 126us/sample - loss: 1.4726 - accuracy: 0.4842 - val_loss: 1.4612 - val_accuracy: 0.4843\n",
            "Epoch 6/20\n",
            "50000/50000 [==============================] - 6s 125us/sample - loss: 1.3962 - accuracy: 0.5112 - val_loss: 1.4284 - val_accuracy: 0.4997\n",
            "Epoch 7/20\n",
            "50000/50000 [==============================] - 6s 126us/sample - loss: 1.3228 - accuracy: 0.5350 - val_loss: 1.4417 - val_accuracy: 0.4962\n",
            "Epoch 8/20\n",
            "50000/50000 [==============================] - 6s 128us/sample - loss: 1.2656 - accuracy: 0.5556 - val_loss: 1.4567 - val_accuracy: 0.5041\n",
            "Epoch 9/20\n",
            "50000/50000 [==============================] - 6s 127us/sample - loss: 1.1939 - accuracy: 0.5792 - val_loss: 1.4911 - val_accuracy: 0.5052\n",
            "Epoch 10/20\n",
            "50000/50000 [==============================] - 6s 125us/sample - loss: 1.1326 - accuracy: 0.6004 - val_loss: 1.5680 - val_accuracy: 0.4838\n",
            "Epoch 11/20\n",
            "50000/50000 [==============================] - 6s 125us/sample - loss: 1.0798 - accuracy: 0.6193 - val_loss: 1.6569 - val_accuracy: 0.4810\n",
            "Epoch 12/20\n",
            "50000/50000 [==============================] - 6s 125us/sample - loss: 1.0159 - accuracy: 0.6411 - val_loss: 1.6428 - val_accuracy: 0.4949\n",
            "Epoch 13/20\n",
            "50000/50000 [==============================] - 6s 129us/sample - loss: 0.9561 - accuracy: 0.6640 - val_loss: 1.7228 - val_accuracy: 0.4932\n",
            "Epoch 14/20\n",
            "50000/50000 [==============================] - 6s 130us/sample - loss: 0.8968 - accuracy: 0.6843 - val_loss: 1.7414 - val_accuracy: 0.5017\n",
            "Epoch 15/20\n",
            "50000/50000 [==============================] - 6s 127us/sample - loss: 0.8659 - accuracy: 0.6963 - val_loss: 1.8406 - val_accuracy: 0.4944\n",
            "Epoch 16/20\n",
            "50000/50000 [==============================] - 6s 125us/sample - loss: 0.8315 - accuracy: 0.7083 - val_loss: 1.9770 - val_accuracy: 0.4940\n",
            "Epoch 17/20\n",
            "50000/50000 [==============================] - 6s 128us/sample - loss: 0.8016 - accuracy: 0.7194 - val_loss: 1.9714 - val_accuracy: 0.4921\n",
            "Epoch 18/20\n",
            "50000/50000 [==============================] - 6s 128us/sample - loss: 0.7602 - accuracy: 0.7332 - val_loss: 2.1348 - val_accuracy: 0.4782\n",
            "Epoch 19/20\n",
            "50000/50000 [==============================] - 7s 132us/sample - loss: 0.7298 - accuracy: 0.7460 - val_loss: 2.2080 - val_accuracy: 0.4789\n",
            "Epoch 20/20\n",
            "50000/50000 [==============================] - 6s 127us/sample - loss: 0.6966 - accuracy: 0.7587 - val_loss: 2.3151 - val_accuracy: 0.4814\n",
            "Train on 50000 samples, validate on 10000 samples\n",
            "Epoch 1/20\n",
            "50000/50000 [==============================] - 7s 133us/sample - loss: 2.3616 - accuracy: 0.0983 - val_loss: 2.3027 - val_accuracy: 0.1000\n",
            "Epoch 2/20\n",
            "50000/50000 [==============================] - 6s 130us/sample - loss: 2.3029 - accuracy: 0.0987 - val_loss: 2.3048 - val_accuracy: 0.1006\n",
            "Epoch 3/20\n",
            "50000/50000 [==============================] - 6s 126us/sample - loss: 2.3032 - accuracy: 0.0992 - val_loss: 2.3026 - val_accuracy: 0.1002\n",
            "Epoch 4/20\n",
            "50000/50000 [==============================] - 6s 127us/sample - loss: 2.3029 - accuracy: 0.0987 - val_loss: 2.3027 - val_accuracy: 0.0999\n",
            "Epoch 5/20\n",
            "50000/50000 [==============================] - 6s 127us/sample - loss: 2.3029 - accuracy: 0.0983 - val_loss: 2.3031 - val_accuracy: 0.0999\n",
            "Epoch 6/20\n",
            "50000/50000 [==============================] - 6s 130us/sample - loss: 2.3032 - accuracy: 0.0982 - val_loss: 2.3025 - val_accuracy: 0.1000\n",
            "Epoch 7/20\n",
            "50000/50000 [==============================] - 6s 129us/sample - loss: 2.3040 - accuracy: 0.0988 - val_loss: 2.3026 - val_accuracy: 0.1000\n",
            "Epoch 8/20\n",
            "50000/50000 [==============================] - 6s 129us/sample - loss: 2.3031 - accuracy: 0.0979 - val_loss: 2.3027 - val_accuracy: 0.1000\n",
            "Epoch 9/20\n",
            "50000/50000 [==============================] - 6s 126us/sample - loss: 2.3037 - accuracy: 0.0988 - val_loss: 2.3032 - val_accuracy: 0.1000\n",
            "Epoch 10/20\n",
            "50000/50000 [==============================] - 6s 126us/sample - loss: 2.3034 - accuracy: 0.0969 - val_loss: 2.3026 - val_accuracy: 0.1000\n",
            "Epoch 11/20\n",
            "50000/50000 [==============================] - 7s 131us/sample - loss: 2.3026 - accuracy: 0.0974 - val_loss: 2.3032 - val_accuracy: 0.1000\n",
            "Epoch 12/20\n",
            "50000/50000 [==============================] - 6s 126us/sample - loss: 2.3033 - accuracy: 0.0996 - val_loss: 2.3026 - val_accuracy: 0.1001\n",
            "Epoch 13/20\n",
            "50000/50000 [==============================] - 6s 126us/sample - loss: 2.3058 - accuracy: 0.0991 - val_loss: 2.3028 - val_accuracy: 0.1000\n",
            "Epoch 14/20\n",
            "50000/50000 [==============================] - 6s 125us/sample - loss: 2.3031 - accuracy: 0.1002 - val_loss: 2.3027 - val_accuracy: 0.0998\n",
            "Epoch 15/20\n",
            "50000/50000 [==============================] - 6s 126us/sample - loss: 2.3027 - accuracy: 0.0974 - val_loss: 2.3023 - val_accuracy: 0.1002\n",
            "Epoch 16/20\n",
            "50000/50000 [==============================] - 6s 129us/sample - loss: 2.3028 - accuracy: 0.0989 - val_loss: 2.3027 - val_accuracy: 0.1000\n",
            "Epoch 17/20\n",
            "50000/50000 [==============================] - 6s 126us/sample - loss: 2.3025 - accuracy: 0.0989 - val_loss: 2.4125 - val_accuracy: 0.1002\n",
            "Epoch 18/20\n",
            "50000/50000 [==============================] - 6s 127us/sample - loss: 2.3050 - accuracy: 0.0968 - val_loss: 2.3026 - val_accuracy: 0.1000\n",
            "Epoch 19/20\n",
            "50000/50000 [==============================] - 6s 126us/sample - loss: 2.3027 - accuracy: 0.0961 - val_loss: 2.3026 - val_accuracy: 0.0999\n",
            "Epoch 20/20\n",
            "50000/50000 [==============================] - 6s 130us/sample - loss: 2.3026 - accuracy: 0.0984 - val_loss: 2.3034 - val_accuracy: 0.1000\n"
          ],
          "name": "stdout"
        },
        {
          "output_type": "display_data",
          "data": {
            "text/html": [
              "<span style=\"color:#4527A0\"><h1 style=\"font-size:18px\">Trial complete</h1></span>"
            ],
            "text/plain": [
              "<IPython.core.display.HTML object>"
            ]
          },
          "metadata": {
            "tags": []
          }
        },
        {
          "output_type": "display_data",
          "data": {
            "text/html": [
              "<span style=\"color:#4527A0\"><h1 style=\"font-size:18px\">Trial summary</h1></span>"
            ],
            "text/plain": [
              "<IPython.core.display.HTML object>"
            ]
          },
          "metadata": {
            "tags": []
          }
        },
        {
          "output_type": "display_data",
          "data": {
            "text/html": [
              "<span style=\"color:cyan\"> |-Trial ID: 36e18cdeabc0d8a4263801ee8a62143a</span>"
            ],
            "text/plain": [
              "<IPython.core.display.HTML object>"
            ]
          },
          "metadata": {
            "tags": []
          }
        },
        {
          "output_type": "display_data",
          "data": {
            "text/html": [
              "<span style=\"color:cyan\"> |-Score: 0.23546667397022247</span>"
            ],
            "text/plain": [
              "<IPython.core.display.HTML object>"
            ]
          },
          "metadata": {
            "tags": []
          }
        },
        {
          "output_type": "display_data",
          "data": {
            "text/html": [
              "<span style=\"color:cyan\"> |-Best step: 0</span>"
            ],
            "text/plain": [
              "<IPython.core.display.HTML object>"
            ]
          },
          "metadata": {
            "tags": []
          }
        },
        {
          "output_type": "display_data",
          "data": {
            "text/html": [
              "<span style=\"color:#7E57C2\"><h2 style=\"font-size:16px\">Hyperparameters:</h2></span>"
            ],
            "text/plain": [
              "<IPython.core.display.HTML object>"
            ]
          },
          "metadata": {
            "tags": []
          }
        },
        {
          "output_type": "display_data",
          "data": {
            "text/html": [
              "<span style=\"color:cyan\"> |-Drop out: 0.35</span>"
            ],
            "text/plain": [
              "<IPython.core.display.HTML object>"
            ]
          },
          "metadata": {
            "tags": []
          }
        },
        {
          "output_type": "display_data",
          "data": {
            "text/html": [
              "<span style=\"color:blue\"> |-filter size: 7</span>"
            ],
            "text/plain": [
              "<IPython.core.display.HTML object>"
            ]
          },
          "metadata": {
            "tags": []
          }
        },
        {
          "output_type": "stream",
          "text": [
            "Train on 50000 samples, validate on 10000 samples\n",
            "Epoch 1/20\n",
            "50000/50000 [==============================] - 7s 140us/sample - loss: 2.2737 - accuracy: 0.1693 - val_loss: 1.8711 - val_accuracy: 0.2878\n",
            "Epoch 2/20\n",
            "50000/50000 [==============================] - 6s 129us/sample - loss: 1.7358 - accuracy: 0.3608 - val_loss: 1.5543 - val_accuracy: 0.4423\n",
            "Epoch 3/20\n",
            "50000/50000 [==============================] - 6s 130us/sample - loss: 1.4896 - accuracy: 0.4690 - val_loss: 1.4957 - val_accuracy: 0.4811\n",
            "Epoch 4/20\n",
            "50000/50000 [==============================] - 6s 129us/sample - loss: 1.3263 - accuracy: 0.5317 - val_loss: 1.3146 - val_accuracy: 0.5372\n",
            "Epoch 5/20\n",
            "50000/50000 [==============================] - 7s 132us/sample - loss: 1.1979 - accuracy: 0.5771 - val_loss: 1.3397 - val_accuracy: 0.5433\n",
            "Epoch 6/20\n",
            "50000/50000 [==============================] - 6s 129us/sample - loss: 1.0835 - accuracy: 0.6149 - val_loss: 1.3025 - val_accuracy: 0.5524\n",
            "Epoch 7/20\n",
            "50000/50000 [==============================] - 6s 129us/sample - loss: 0.9891 - accuracy: 0.6495 - val_loss: 1.3042 - val_accuracy: 0.5739\n",
            "Epoch 8/20\n",
            "50000/50000 [==============================] - 6s 128us/sample - loss: 0.8894 - accuracy: 0.6863 - val_loss: 1.3340 - val_accuracy: 0.5741\n",
            "Epoch 9/20\n",
            "50000/50000 [==============================] - 7s 130us/sample - loss: 0.8001 - accuracy: 0.7170 - val_loss: 1.4168 - val_accuracy: 0.5776\n",
            "Epoch 10/20\n",
            "50000/50000 [==============================] - 7s 132us/sample - loss: 0.7243 - accuracy: 0.7444 - val_loss: 1.5310 - val_accuracy: 0.5713\n",
            "Epoch 11/20\n",
            "50000/50000 [==============================] - 6s 127us/sample - loss: 0.6686 - accuracy: 0.7651 - val_loss: 1.6270 - val_accuracy: 0.5672\n",
            "Epoch 12/20\n",
            "50000/50000 [==============================] - 7s 130us/sample - loss: 0.6120 - accuracy: 0.7844 - val_loss: 1.6741 - val_accuracy: 0.5687\n",
            "Epoch 13/20\n",
            "50000/50000 [==============================] - 6s 129us/sample - loss: 0.5645 - accuracy: 0.8044 - val_loss: 1.7228 - val_accuracy: 0.5638\n",
            "Epoch 14/20\n",
            "50000/50000 [==============================] - 6s 130us/sample - loss: 0.5151 - accuracy: 0.8217 - val_loss: 1.9790 - val_accuracy: 0.5609\n",
            "Epoch 15/20\n",
            "50000/50000 [==============================] - 6s 130us/sample - loss: 0.4920 - accuracy: 0.8294 - val_loss: 1.9554 - val_accuracy: 0.5604\n",
            "Epoch 16/20\n",
            "50000/50000 [==============================] - 6s 128us/sample - loss: 0.4567 - accuracy: 0.8443 - val_loss: 2.1134 - val_accuracy: 0.5614\n",
            "Epoch 17/20\n",
            "50000/50000 [==============================] - 6s 127us/sample - loss: 0.4313 - accuracy: 0.8529 - val_loss: 2.2165 - val_accuracy: 0.5454\n",
            "Epoch 18/20\n",
            "50000/50000 [==============================] - 6s 128us/sample - loss: 0.4117 - accuracy: 0.8608 - val_loss: 2.3080 - val_accuracy: 0.5507\n",
            "Epoch 19/20\n",
            "50000/50000 [==============================] - 7s 132us/sample - loss: 0.3778 - accuracy: 0.8722 - val_loss: 2.3895 - val_accuracy: 0.5511\n",
            "Epoch 20/20\n",
            "50000/50000 [==============================] - 6s 128us/sample - loss: 0.3684 - accuracy: 0.8787 - val_loss: 2.3709 - val_accuracy: 0.5537\n",
            "Train on 50000 samples, validate on 10000 samples\n",
            "Epoch 1/20\n",
            "50000/50000 [==============================] - 7s 139us/sample - loss: 1.7671 - accuracy: 0.3844 - val_loss: 1.4493 - val_accuracy: 0.4671\n",
            "Epoch 2/20\n",
            "50000/50000 [==============================] - 6s 128us/sample - loss: 1.3571 - accuracy: 0.5231 - val_loss: 1.2736 - val_accuracy: 0.5531\n",
            "Epoch 3/20\n",
            "50000/50000 [==============================] - 7s 131us/sample - loss: 1.2290 - accuracy: 0.5736 - val_loss: 1.2231 - val_accuracy: 0.5725\n",
            "Epoch 4/20\n",
            "50000/50000 [==============================] - 7s 132us/sample - loss: 1.1268 - accuracy: 0.6061 - val_loss: 1.2160 - val_accuracy: 0.5865\n",
            "Epoch 5/20\n",
            "50000/50000 [==============================] - 7s 131us/sample - loss: 1.0629 - accuracy: 0.6315 - val_loss: 1.2605 - val_accuracy: 0.5746\n",
            "Epoch 6/20\n",
            "50000/50000 [==============================] - 7s 133us/sample - loss: 0.9804 - accuracy: 0.6587 - val_loss: 1.2352 - val_accuracy: 0.5908\n",
            "Epoch 7/20\n",
            "50000/50000 [==============================] - 7s 136us/sample - loss: 0.9096 - accuracy: 0.6827 - val_loss: 1.2511 - val_accuracy: 0.5962\n",
            "Epoch 8/20\n",
            "50000/50000 [==============================] - 7s 133us/sample - loss: 0.8436 - accuracy: 0.7053 - val_loss: 1.2964 - val_accuracy: 0.5949\n",
            "Epoch 9/20\n",
            "50000/50000 [==============================] - 6s 128us/sample - loss: 0.7851 - accuracy: 0.7268 - val_loss: 1.3317 - val_accuracy: 0.6022\n",
            "Epoch 10/20\n",
            "50000/50000 [==============================] - 6s 128us/sample - loss: 0.7317 - accuracy: 0.7461 - val_loss: 1.5190 - val_accuracy: 0.5763\n",
            "Epoch 11/20\n",
            "50000/50000 [==============================] - 6s 128us/sample - loss: 0.6826 - accuracy: 0.7619 - val_loss: 1.4975 - val_accuracy: 0.5547\n",
            "Epoch 12/20\n",
            "50000/50000 [==============================] - 6s 128us/sample - loss: 0.6384 - accuracy: 0.7771 - val_loss: 1.5968 - val_accuracy: 0.5874\n",
            "Epoch 13/20\n",
            "50000/50000 [==============================] - 7s 132us/sample - loss: 0.6001 - accuracy: 0.7918 - val_loss: 1.6520 - val_accuracy: 0.5892\n",
            "Epoch 14/20\n",
            "50000/50000 [==============================] - 6s 129us/sample - loss: 0.5844 - accuracy: 0.7998 - val_loss: 1.7215 - val_accuracy: 0.5576\n",
            "Epoch 15/20\n",
            "50000/50000 [==============================] - 6s 128us/sample - loss: 0.5501 - accuracy: 0.8112 - val_loss: 1.8667 - val_accuracy: 0.5788\n",
            "Epoch 16/20\n",
            "50000/50000 [==============================] - 6s 129us/sample - loss: 0.5146 - accuracy: 0.8249 - val_loss: 1.8754 - val_accuracy: 0.5823\n",
            "Epoch 17/20\n",
            "50000/50000 [==============================] - 7s 133us/sample - loss: 0.4928 - accuracy: 0.8334 - val_loss: 1.9079 - val_accuracy: 0.5598\n",
            "Epoch 18/20\n",
            "50000/50000 [==============================] - 7s 131us/sample - loss: 0.4699 - accuracy: 0.8424 - val_loss: 2.0646 - val_accuracy: 0.5723\n",
            "Epoch 19/20\n",
            "50000/50000 [==============================] - 6s 129us/sample - loss: 0.4577 - accuracy: 0.8467 - val_loss: 2.1859 - val_accuracy: 0.5641\n",
            "Epoch 20/20\n",
            "50000/50000 [==============================] - 6s 128us/sample - loss: 0.4414 - accuracy: 0.8517 - val_loss: 2.1483 - val_accuracy: 0.5798\n",
            "Train on 50000 samples, validate on 10000 samples\n",
            "Epoch 1/20\n",
            "50000/50000 [==============================] - 7s 137us/sample - loss: 2.3995 - accuracy: 0.1146 - val_loss: 2.1296 - val_accuracy: 0.2005\n",
            "Epoch 2/20\n",
            "50000/50000 [==============================] - 7s 132us/sample - loss: 1.9134 - accuracy: 0.2736 - val_loss: 1.7942 - val_accuracy: 0.3260\n",
            "Epoch 3/20\n",
            "50000/50000 [==============================] - 6s 128us/sample - loss: 1.6574 - accuracy: 0.3931 - val_loss: 1.5437 - val_accuracy: 0.4409\n",
            "Epoch 4/20\n",
            "50000/50000 [==============================] - 6s 128us/sample - loss: 1.4589 - accuracy: 0.4799 - val_loss: 1.4182 - val_accuracy: 0.4990\n",
            "Epoch 5/20\n",
            "50000/50000 [==============================] - 6s 127us/sample - loss: 1.2892 - accuracy: 0.5422 - val_loss: 1.3538 - val_accuracy: 0.5291\n",
            "Epoch 6/20\n",
            "50000/50000 [==============================] - 6s 129us/sample - loss: 1.1615 - accuracy: 0.5911 - val_loss: 1.3065 - val_accuracy: 0.5449\n",
            "Epoch 7/20\n",
            "50000/50000 [==============================] - 7s 132us/sample - loss: 1.0545 - accuracy: 0.6254 - val_loss: 1.2789 - val_accuracy: 0.5659\n",
            "Epoch 8/20\n",
            "50000/50000 [==============================] - 7s 130us/sample - loss: 0.9629 - accuracy: 0.6587 - val_loss: 1.3263 - val_accuracy: 0.5606\n",
            "Epoch 9/20\n",
            "50000/50000 [==============================] - 6s 129us/sample - loss: 0.8718 - accuracy: 0.6904 - val_loss: 1.4293 - val_accuracy: 0.5594\n",
            "Epoch 10/20\n",
            "50000/50000 [==============================] - 7s 131us/sample - loss: 0.7990 - accuracy: 0.7192 - val_loss: 1.4809 - val_accuracy: 0.5631\n",
            "Epoch 11/20\n",
            "50000/50000 [==============================] - 7s 132us/sample - loss: 0.7202 - accuracy: 0.7459 - val_loss: 1.5246 - val_accuracy: 0.5588\n",
            "Epoch 12/20\n",
            "50000/50000 [==============================] - 7s 132us/sample - loss: 0.6541 - accuracy: 0.7710 - val_loss: 1.7347 - val_accuracy: 0.5544\n",
            "Epoch 13/20\n",
            "50000/50000 [==============================] - 6s 130us/sample - loss: 0.6039 - accuracy: 0.7868 - val_loss: 1.8667 - val_accuracy: 0.5560\n",
            "Epoch 14/20\n",
            "50000/50000 [==============================] - 6s 130us/sample - loss: 0.5614 - accuracy: 0.8039 - val_loss: 1.9060 - val_accuracy: 0.5503\n",
            "Epoch 15/20\n",
            "50000/50000 [==============================] - 7s 131us/sample - loss: 0.5075 - accuracy: 0.8226 - val_loss: 2.0083 - val_accuracy: 0.5480\n",
            "Epoch 16/20\n",
            "50000/50000 [==============================] - 7s 133us/sample - loss: 0.4876 - accuracy: 0.8321 - val_loss: 2.0893 - val_accuracy: 0.5532\n",
            "Epoch 17/20\n",
            "50000/50000 [==============================] - 7s 131us/sample - loss: 0.4460 - accuracy: 0.8461 - val_loss: 2.2529 - val_accuracy: 0.5479\n",
            "Epoch 18/20\n",
            "50000/50000 [==============================] - 7s 131us/sample - loss: 0.4348 - accuracy: 0.8501 - val_loss: 2.4594 - val_accuracy: 0.5409\n",
            "Epoch 19/20\n",
            "50000/50000 [==============================] - 7s 130us/sample - loss: 0.4016 - accuracy: 0.8639 - val_loss: 2.5608 - val_accuracy: 0.5479\n",
            "Epoch 20/20\n",
            "50000/50000 [==============================] - 7s 137us/sample - loss: 0.3910 - accuracy: 0.8673 - val_loss: 2.5809 - val_accuracy: 0.5473\n"
          ],
          "name": "stdout"
        },
        {
          "output_type": "display_data",
          "data": {
            "text/html": [
              "<span style=\"color:#4527A0\"><h1 style=\"font-size:18px\">Trial complete</h1></span>"
            ],
            "text/plain": [
              "<IPython.core.display.HTML object>"
            ]
          },
          "metadata": {
            "tags": []
          }
        },
        {
          "output_type": "display_data",
          "data": {
            "text/html": [
              "<span style=\"color:#4527A0\"><h1 style=\"font-size:18px\">Trial summary</h1></span>"
            ],
            "text/plain": [
              "<IPython.core.display.HTML object>"
            ]
          },
          "metadata": {
            "tags": []
          }
        },
        {
          "output_type": "display_data",
          "data": {
            "text/html": [
              "<span style=\"color:cyan\"> |-Trial ID: 57dde40744b37fe058eb5cf056630042</span>"
            ],
            "text/plain": [
              "<IPython.core.display.HTML object>"
            ]
          },
          "metadata": {
            "tags": []
          }
        },
        {
          "output_type": "display_data",
          "data": {
            "text/html": [
              "<span style=\"color:cyan\"> |-Score: 0.5819000601768494</span>"
            ],
            "text/plain": [
              "<IPython.core.display.HTML object>"
            ]
          },
          "metadata": {
            "tags": []
          }
        },
        {
          "output_type": "display_data",
          "data": {
            "text/html": [
              "<span style=\"color:cyan\"> |-Best step: 0</span>"
            ],
            "text/plain": [
              "<IPython.core.display.HTML object>"
            ]
          },
          "metadata": {
            "tags": []
          }
        },
        {
          "output_type": "display_data",
          "data": {
            "text/html": [
              "<span style=\"color:#7E57C2\"><h2 style=\"font-size:16px\">Hyperparameters:</h2></span>"
            ],
            "text/plain": [
              "<IPython.core.display.HTML object>"
            ]
          },
          "metadata": {
            "tags": []
          }
        },
        {
          "output_type": "display_data",
          "data": {
            "text/html": [
              "<span style=\"color:cyan\"> |-Drop out: 0.2</span>"
            ],
            "text/plain": [
              "<IPython.core.display.HTML object>"
            ]
          },
          "metadata": {
            "tags": []
          }
        },
        {
          "output_type": "display_data",
          "data": {
            "text/html": [
              "<span style=\"color:blue\"> |-filter size: 5</span>"
            ],
            "text/plain": [
              "<IPython.core.display.HTML object>"
            ]
          },
          "metadata": {
            "tags": []
          }
        },
        {
          "output_type": "stream",
          "text": [
            "INFO:tensorflow:Oracle triggered exit\n"
          ],
          "name": "stdout"
        }
      ]
    },
    {
      "cell_type": "code",
      "metadata": {
        "id": "P3Wk9bJM3rdL",
        "colab_type": "code",
        "outputId": "0c5fba85-987d-47c2-ed74-539f5dade780",
        "colab": {
          "base_uri": "https://localhost:8080/",
          "height": 425
        }
      },
      "source": [
        "best_model = tuner.get_best_models(num_models=1)\n",
        "best_model[0].summary()"
      ],
      "execution_count": 29,
      "outputs": [
        {
          "output_type": "stream",
          "text": [
            "Model: \"sequential\"\n",
            "_________________________________________________________________\n",
            "Layer (type)                 Output Shape              Param #   \n",
            "=================================================================\n",
            "conv2d (Conv2D)              (None, 30, 30, 16)        448       \n",
            "_________________________________________________________________\n",
            "conv2d_1 (Conv2D)            (None, 28, 28, 16)        2320      \n",
            "_________________________________________________________________\n",
            "max_pooling2d (MaxPooling2D) (None, 14, 14, 16)        0         \n",
            "_________________________________________________________________\n",
            "flatten (Flatten)            (None, 3136)              0         \n",
            "_________________________________________________________________\n",
            "dense (Dense)                (None, 128)               401536    \n",
            "_________________________________________________________________\n",
            "dense_1 (Dense)              (None, 128)               16512     \n",
            "_________________________________________________________________\n",
            "dropout (Dropout)            (None, 128)               0         \n",
            "_________________________________________________________________\n",
            "dense_2 (Dense)              (None, 10)                1290      \n",
            "=================================================================\n",
            "Total params: 422,106\n",
            "Trainable params: 422,106\n",
            "Non-trainable params: 0\n",
            "_________________________________________________________________\n"
          ],
          "name": "stdout"
        }
      ]
    },
    {
      "cell_type": "code",
      "metadata": {
        "id": "V6Qtx2GWb-w9",
        "colab_type": "code",
        "colab": {
          "base_uri": "https://localhost:8080/",
          "height": 1000
        },
        "outputId": "43d4fca0-2bd5-4ba6-d4bd-f8aeeba337d5"
      },
      "source": [
        "tuner.results_summary()"
      ],
      "execution_count": 35,
      "outputs": [
        {
          "output_type": "display_data",
          "data": {
            "text/html": [
              "<span style=\"color:#4527A0\"><h1 style=\"font-size:18px\">Results summary</h1></span>"
            ],
            "text/plain": [
              "<IPython.core.display.HTML object>"
            ]
          },
          "metadata": {
            "tags": []
          }
        },
        {
          "output_type": "display_data",
          "data": {
            "text/html": [
              "<span style=\"color:cyan\"> |-Results in ./hw3</span>"
            ],
            "text/plain": [
              "<IPython.core.display.HTML object>"
            ]
          },
          "metadata": {
            "tags": []
          }
        },
        {
          "output_type": "display_data",
          "data": {
            "text/html": [
              "<span style=\"color:cyan\"> |-Showing 10 best trials</span>"
            ],
            "text/plain": [
              "<IPython.core.display.HTML object>"
            ]
          },
          "metadata": {
            "tags": []
          }
        },
        {
          "output_type": "display_data",
          "data": {
            "text/html": [
              "<span style=\"color:cyan\"> |-Objective(name='val_accuracy', direction='max')</span>"
            ],
            "text/plain": [
              "<IPython.core.display.HTML object>"
            ]
          },
          "metadata": {
            "tags": []
          }
        },
        {
          "output_type": "display_data",
          "data": {
            "text/html": [
              "<span style=\"color:#4527A0\"><h1 style=\"font-size:18px\">Trial summary</h1></span>"
            ],
            "text/plain": [
              "<IPython.core.display.HTML object>"
            ]
          },
          "metadata": {
            "tags": []
          }
        },
        {
          "output_type": "display_data",
          "data": {
            "text/html": [
              "<span style=\"color:cyan\"> |-Trial ID: 6f56d2ba86f0598c20e5a2188760a0c8</span>"
            ],
            "text/plain": [
              "<IPython.core.display.HTML object>"
            ]
          },
          "metadata": {
            "tags": []
          }
        },
        {
          "output_type": "display_data",
          "data": {
            "text/html": [
              "<span style=\"color:cyan\"> |-Score: 0.6137666702270508</span>"
            ],
            "text/plain": [
              "<IPython.core.display.HTML object>"
            ]
          },
          "metadata": {
            "tags": []
          }
        },
        {
          "output_type": "display_data",
          "data": {
            "text/html": [
              "<span style=\"color:cyan\"> |-Best step: 0</span>"
            ],
            "text/plain": [
              "<IPython.core.display.HTML object>"
            ]
          },
          "metadata": {
            "tags": []
          }
        },
        {
          "output_type": "display_data",
          "data": {
            "text/html": [
              "<span style=\"color:#7E57C2\"><h2 style=\"font-size:16px\">Hyperparameters:</h2></span>"
            ],
            "text/plain": [
              "<IPython.core.display.HTML object>"
            ]
          },
          "metadata": {
            "tags": []
          }
        },
        {
          "output_type": "display_data",
          "data": {
            "text/html": [
              "<span style=\"color:cyan\"> |-Drop out: 0.35</span>"
            ],
            "text/plain": [
              "<IPython.core.display.HTML object>"
            ]
          },
          "metadata": {
            "tags": []
          }
        },
        {
          "output_type": "display_data",
          "data": {
            "text/html": [
              "<span style=\"color:blue\"> |-filter size: 3</span>"
            ],
            "text/plain": [
              "<IPython.core.display.HTML object>"
            ]
          },
          "metadata": {
            "tags": []
          }
        },
        {
          "output_type": "display_data",
          "data": {
            "text/html": [
              "<span style=\"color:#4527A0\"><h1 style=\"font-size:18px\">Trial summary</h1></span>"
            ],
            "text/plain": [
              "<IPython.core.display.HTML object>"
            ]
          },
          "metadata": {
            "tags": []
          }
        },
        {
          "output_type": "display_data",
          "data": {
            "text/html": [
              "<span style=\"color:cyan\"> |-Trial ID: 2f1d8b3a57ae307ca31f344481c8a1b5</span>"
            ],
            "text/plain": [
              "<IPython.core.display.HTML object>"
            ]
          },
          "metadata": {
            "tags": []
          }
        },
        {
          "output_type": "display_data",
          "data": {
            "text/html": [
              "<span style=\"color:cyan\"> |-Score: 0.6110000014305115</span>"
            ],
            "text/plain": [
              "<IPython.core.display.HTML object>"
            ]
          },
          "metadata": {
            "tags": []
          }
        },
        {
          "output_type": "display_data",
          "data": {
            "text/html": [
              "<span style=\"color:cyan\"> |-Best step: 0</span>"
            ],
            "text/plain": [
              "<IPython.core.display.HTML object>"
            ]
          },
          "metadata": {
            "tags": []
          }
        },
        {
          "output_type": "display_data",
          "data": {
            "text/html": [
              "<span style=\"color:#7E57C2\"><h2 style=\"font-size:16px\">Hyperparameters:</h2></span>"
            ],
            "text/plain": [
              "<IPython.core.display.HTML object>"
            ]
          },
          "metadata": {
            "tags": []
          }
        },
        {
          "output_type": "display_data",
          "data": {
            "text/html": [
              "<span style=\"color:cyan\"> |-Drop out: 0.2</span>"
            ],
            "text/plain": [
              "<IPython.core.display.HTML object>"
            ]
          },
          "metadata": {
            "tags": []
          }
        },
        {
          "output_type": "display_data",
          "data": {
            "text/html": [
              "<span style=\"color:blue\"> |-filter size: 3</span>"
            ],
            "text/plain": [
              "<IPython.core.display.HTML object>"
            ]
          },
          "metadata": {
            "tags": []
          }
        },
        {
          "output_type": "display_data",
          "data": {
            "text/html": [
              "<span style=\"color:#4527A0\"><h1 style=\"font-size:18px\">Trial summary</h1></span>"
            ],
            "text/plain": [
              "<IPython.core.display.HTML object>"
            ]
          },
          "metadata": {
            "tags": []
          }
        },
        {
          "output_type": "display_data",
          "data": {
            "text/html": [
              "<span style=\"color:cyan\"> |-Trial ID: ad263245a15c626d63cc7628444161f4</span>"
            ],
            "text/plain": [
              "<IPython.core.display.HTML object>"
            ]
          },
          "metadata": {
            "tags": []
          }
        },
        {
          "output_type": "display_data",
          "data": {
            "text/html": [
              "<span style=\"color:cyan\"> |-Score: 0.6049999594688416</span>"
            ],
            "text/plain": [
              "<IPython.core.display.HTML object>"
            ]
          },
          "metadata": {
            "tags": []
          }
        },
        {
          "output_type": "display_data",
          "data": {
            "text/html": [
              "<span style=\"color:cyan\"> |-Best step: 0</span>"
            ],
            "text/plain": [
              "<IPython.core.display.HTML object>"
            ]
          },
          "metadata": {
            "tags": []
          }
        },
        {
          "output_type": "display_data",
          "data": {
            "text/html": [
              "<span style=\"color:#7E57C2\"><h2 style=\"font-size:16px\">Hyperparameters:</h2></span>"
            ],
            "text/plain": [
              "<IPython.core.display.HTML object>"
            ]
          },
          "metadata": {
            "tags": []
          }
        },
        {
          "output_type": "display_data",
          "data": {
            "text/html": [
              "<span style=\"color:cyan\"> |-Drop out: 0.49999999999999994</span>"
            ],
            "text/plain": [
              "<IPython.core.display.HTML object>"
            ]
          },
          "metadata": {
            "tags": []
          }
        },
        {
          "output_type": "display_data",
          "data": {
            "text/html": [
              "<span style=\"color:blue\"> |-filter size: 3</span>"
            ],
            "text/plain": [
              "<IPython.core.display.HTML object>"
            ]
          },
          "metadata": {
            "tags": []
          }
        },
        {
          "output_type": "display_data",
          "data": {
            "text/html": [
              "<span style=\"color:#4527A0\"><h1 style=\"font-size:18px\">Trial summary</h1></span>"
            ],
            "text/plain": [
              "<IPython.core.display.HTML object>"
            ]
          },
          "metadata": {
            "tags": []
          }
        },
        {
          "output_type": "display_data",
          "data": {
            "text/html": [
              "<span style=\"color:cyan\"> |-Trial ID: 5708ad22a69a94d7beb0af20562c9e4e</span>"
            ],
            "text/plain": [
              "<IPython.core.display.HTML object>"
            ]
          },
          "metadata": {
            "tags": []
          }
        },
        {
          "output_type": "display_data",
          "data": {
            "text/html": [
              "<span style=\"color:cyan\"> |-Score: 0.5868332982063293</span>"
            ],
            "text/plain": [
              "<IPython.core.display.HTML object>"
            ]
          },
          "metadata": {
            "tags": []
          }
        },
        {
          "output_type": "display_data",
          "data": {
            "text/html": [
              "<span style=\"color:cyan\"> |-Best step: 0</span>"
            ],
            "text/plain": [
              "<IPython.core.display.HTML object>"
            ]
          },
          "metadata": {
            "tags": []
          }
        },
        {
          "output_type": "display_data",
          "data": {
            "text/html": [
              "<span style=\"color:#7E57C2\"><h2 style=\"font-size:16px\">Hyperparameters:</h2></span>"
            ],
            "text/plain": [
              "<IPython.core.display.HTML object>"
            ]
          },
          "metadata": {
            "tags": []
          }
        },
        {
          "output_type": "display_data",
          "data": {
            "text/html": [
              "<span style=\"color:cyan\"> |-Drop out: 0.35</span>"
            ],
            "text/plain": [
              "<IPython.core.display.HTML object>"
            ]
          },
          "metadata": {
            "tags": []
          }
        },
        {
          "output_type": "display_data",
          "data": {
            "text/html": [
              "<span style=\"color:blue\"> |-filter size: 5</span>"
            ],
            "text/plain": [
              "<IPython.core.display.HTML object>"
            ]
          },
          "metadata": {
            "tags": []
          }
        },
        {
          "output_type": "display_data",
          "data": {
            "text/html": [
              "<span style=\"color:#4527A0\"><h1 style=\"font-size:18px\">Trial summary</h1></span>"
            ],
            "text/plain": [
              "<IPython.core.display.HTML object>"
            ]
          },
          "metadata": {
            "tags": []
          }
        },
        {
          "output_type": "display_data",
          "data": {
            "text/html": [
              "<span style=\"color:cyan\"> |-Trial ID: 57dde40744b37fe058eb5cf056630042</span>"
            ],
            "text/plain": [
              "<IPython.core.display.HTML object>"
            ]
          },
          "metadata": {
            "tags": []
          }
        },
        {
          "output_type": "display_data",
          "data": {
            "text/html": [
              "<span style=\"color:cyan\"> |-Score: 0.5819000601768494</span>"
            ],
            "text/plain": [
              "<IPython.core.display.HTML object>"
            ]
          },
          "metadata": {
            "tags": []
          }
        },
        {
          "output_type": "display_data",
          "data": {
            "text/html": [
              "<span style=\"color:cyan\"> |-Best step: 0</span>"
            ],
            "text/plain": [
              "<IPython.core.display.HTML object>"
            ]
          },
          "metadata": {
            "tags": []
          }
        },
        {
          "output_type": "display_data",
          "data": {
            "text/html": [
              "<span style=\"color:#7E57C2\"><h2 style=\"font-size:16px\">Hyperparameters:</h2></span>"
            ],
            "text/plain": [
              "<IPython.core.display.HTML object>"
            ]
          },
          "metadata": {
            "tags": []
          }
        },
        {
          "output_type": "display_data",
          "data": {
            "text/html": [
              "<span style=\"color:cyan\"> |-Drop out: 0.2</span>"
            ],
            "text/plain": [
              "<IPython.core.display.HTML object>"
            ]
          },
          "metadata": {
            "tags": []
          }
        },
        {
          "output_type": "display_data",
          "data": {
            "text/html": [
              "<span style=\"color:blue\"> |-filter size: 5</span>"
            ],
            "text/plain": [
              "<IPython.core.display.HTML object>"
            ]
          },
          "metadata": {
            "tags": []
          }
        },
        {
          "output_type": "display_data",
          "data": {
            "text/html": [
              "<span style=\"color:#4527A0\"><h1 style=\"font-size:18px\">Trial summary</h1></span>"
            ],
            "text/plain": [
              "<IPython.core.display.HTML object>"
            ]
          },
          "metadata": {
            "tags": []
          }
        },
        {
          "output_type": "display_data",
          "data": {
            "text/html": [
              "<span style=\"color:cyan\"> |-Trial ID: 031f190bddee701fb11250a663c425b4</span>"
            ],
            "text/plain": [
              "<IPython.core.display.HTML object>"
            ]
          },
          "metadata": {
            "tags": []
          }
        },
        {
          "output_type": "display_data",
          "data": {
            "text/html": [
              "<span style=\"color:cyan\"> |-Score: 0.5701666474342346</span>"
            ],
            "text/plain": [
              "<IPython.core.display.HTML object>"
            ]
          },
          "metadata": {
            "tags": []
          }
        },
        {
          "output_type": "display_data",
          "data": {
            "text/html": [
              "<span style=\"color:cyan\"> |-Best step: 0</span>"
            ],
            "text/plain": [
              "<IPython.core.display.HTML object>"
            ]
          },
          "metadata": {
            "tags": []
          }
        },
        {
          "output_type": "display_data",
          "data": {
            "text/html": [
              "<span style=\"color:#7E57C2\"><h2 style=\"font-size:16px\">Hyperparameters:</h2></span>"
            ],
            "text/plain": [
              "<IPython.core.display.HTML object>"
            ]
          },
          "metadata": {
            "tags": []
          }
        },
        {
          "output_type": "display_data",
          "data": {
            "text/html": [
              "<span style=\"color:cyan\"> |-Drop out: 0.49999999999999994</span>"
            ],
            "text/plain": [
              "<IPython.core.display.HTML object>"
            ]
          },
          "metadata": {
            "tags": []
          }
        },
        {
          "output_type": "display_data",
          "data": {
            "text/html": [
              "<span style=\"color:blue\"> |-filter size: 5</span>"
            ],
            "text/plain": [
              "<IPython.core.display.HTML object>"
            ]
          },
          "metadata": {
            "tags": []
          }
        },
        {
          "output_type": "display_data",
          "data": {
            "text/html": [
              "<span style=\"color:#4527A0\"><h1 style=\"font-size:18px\">Trial summary</h1></span>"
            ],
            "text/plain": [
              "<IPython.core.display.HTML object>"
            ]
          },
          "metadata": {
            "tags": []
          }
        },
        {
          "output_type": "display_data",
          "data": {
            "text/html": [
              "<span style=\"color:cyan\"> |-Trial ID: eaa840977c225e2bc4ddd34ef1ace283</span>"
            ],
            "text/plain": [
              "<IPython.core.display.HTML object>"
            ]
          },
          "metadata": {
            "tags": []
          }
        },
        {
          "output_type": "display_data",
          "data": {
            "text/html": [
              "<span style=\"color:cyan\"> |-Score: 0.3890000283718109</span>"
            ],
            "text/plain": [
              "<IPython.core.display.HTML object>"
            ]
          },
          "metadata": {
            "tags": []
          }
        },
        {
          "output_type": "display_data",
          "data": {
            "text/html": [
              "<span style=\"color:cyan\"> |-Best step: 0</span>"
            ],
            "text/plain": [
              "<IPython.core.display.HTML object>"
            ]
          },
          "metadata": {
            "tags": []
          }
        },
        {
          "output_type": "display_data",
          "data": {
            "text/html": [
              "<span style=\"color:#7E57C2\"><h2 style=\"font-size:16px\">Hyperparameters:</h2></span>"
            ],
            "text/plain": [
              "<IPython.core.display.HTML object>"
            ]
          },
          "metadata": {
            "tags": []
          }
        },
        {
          "output_type": "display_data",
          "data": {
            "text/html": [
              "<span style=\"color:cyan\"> |-Drop out: 0.2</span>"
            ],
            "text/plain": [
              "<IPython.core.display.HTML object>"
            ]
          },
          "metadata": {
            "tags": []
          }
        },
        {
          "output_type": "display_data",
          "data": {
            "text/html": [
              "<span style=\"color:blue\"> |-filter size: 7</span>"
            ],
            "text/plain": [
              "<IPython.core.display.HTML object>"
            ]
          },
          "metadata": {
            "tags": []
          }
        },
        {
          "output_type": "display_data",
          "data": {
            "text/html": [
              "<span style=\"color:#4527A0\"><h1 style=\"font-size:18px\">Trial summary</h1></span>"
            ],
            "text/plain": [
              "<IPython.core.display.HTML object>"
            ]
          },
          "metadata": {
            "tags": []
          }
        },
        {
          "output_type": "display_data",
          "data": {
            "text/html": [
              "<span style=\"color:cyan\"> |-Trial ID: 36e18cdeabc0d8a4263801ee8a62143a</span>"
            ],
            "text/plain": [
              "<IPython.core.display.HTML object>"
            ]
          },
          "metadata": {
            "tags": []
          }
        },
        {
          "output_type": "display_data",
          "data": {
            "text/html": [
              "<span style=\"color:cyan\"> |-Score: 0.23546667397022247</span>"
            ],
            "text/plain": [
              "<IPython.core.display.HTML object>"
            ]
          },
          "metadata": {
            "tags": []
          }
        },
        {
          "output_type": "display_data",
          "data": {
            "text/html": [
              "<span style=\"color:cyan\"> |-Best step: 0</span>"
            ],
            "text/plain": [
              "<IPython.core.display.HTML object>"
            ]
          },
          "metadata": {
            "tags": []
          }
        },
        {
          "output_type": "display_data",
          "data": {
            "text/html": [
              "<span style=\"color:#7E57C2\"><h2 style=\"font-size:16px\">Hyperparameters:</h2></span>"
            ],
            "text/plain": [
              "<IPython.core.display.HTML object>"
            ]
          },
          "metadata": {
            "tags": []
          }
        },
        {
          "output_type": "display_data",
          "data": {
            "text/html": [
              "<span style=\"color:cyan\"> |-Drop out: 0.35</span>"
            ],
            "text/plain": [
              "<IPython.core.display.HTML object>"
            ]
          },
          "metadata": {
            "tags": []
          }
        },
        {
          "output_type": "display_data",
          "data": {
            "text/html": [
              "<span style=\"color:blue\"> |-filter size: 7</span>"
            ],
            "text/plain": [
              "<IPython.core.display.HTML object>"
            ]
          },
          "metadata": {
            "tags": []
          }
        },
        {
          "output_type": "display_data",
          "data": {
            "text/html": [
              "<span style=\"color:#4527A0\"><h1 style=\"font-size:18px\">Trial summary</h1></span>"
            ],
            "text/plain": [
              "<IPython.core.display.HTML object>"
            ]
          },
          "metadata": {
            "tags": []
          }
        },
        {
          "output_type": "display_data",
          "data": {
            "text/html": [
              "<span style=\"color:cyan\"> |-Trial ID: 0b2c0456c7563a19a73191d925bce58f</span>"
            ],
            "text/plain": [
              "<IPython.core.display.HTML object>"
            ]
          },
          "metadata": {
            "tags": []
          }
        },
        {
          "output_type": "display_data",
          "data": {
            "text/html": [
              "<span style=\"color:cyan\"> |-Score: 0.10143333673477173</span>"
            ],
            "text/plain": [
              "<IPython.core.display.HTML object>"
            ]
          },
          "metadata": {
            "tags": []
          }
        },
        {
          "output_type": "display_data",
          "data": {
            "text/html": [
              "<span style=\"color:cyan\"> |-Best step: 0</span>"
            ],
            "text/plain": [
              "<IPython.core.display.HTML object>"
            ]
          },
          "metadata": {
            "tags": []
          }
        },
        {
          "output_type": "display_data",
          "data": {
            "text/html": [
              "<span style=\"color:#7E57C2\"><h2 style=\"font-size:16px\">Hyperparameters:</h2></span>"
            ],
            "text/plain": [
              "<IPython.core.display.HTML object>"
            ]
          },
          "metadata": {
            "tags": []
          }
        },
        {
          "output_type": "display_data",
          "data": {
            "text/html": [
              "<span style=\"color:cyan\"> |-Drop out: 0.49999999999999994</span>"
            ],
            "text/plain": [
              "<IPython.core.display.HTML object>"
            ]
          },
          "metadata": {
            "tags": []
          }
        },
        {
          "output_type": "display_data",
          "data": {
            "text/html": [
              "<span style=\"color:blue\"> |-filter size: 7</span>"
            ],
            "text/plain": [
              "<IPython.core.display.HTML object>"
            ]
          },
          "metadata": {
            "tags": []
          }
        }
      ]
    },
    {
      "cell_type": "markdown",
      "metadata": {
        "id": "XBVypFcola6l",
        "colab_type": "text"
      },
      "source": [
        "## 3c) In the text cell below, brielfy answer the following questions:\n",
        "- What were the optimal hyperparmeters you found?\n",
        "- Do they make sense (e.g., are they similar to parameters you might have picked yourself?)\n"
      ]
    },
    {
      "cell_type": "markdown",
      "metadata": {
        "id": "eYYvxfpOldSt",
        "colab_type": "text"
      },
      "source": [
        "### TODO: your answer here\n",
        "- The best result is reached when Drop out: 0.35 and filter size: 3\n",
        "- Usually I will choose the filter size 3, while for the drop out rate it depends on the number of neurons in a layer."
      ]
    },
    {
      "cell_type": "markdown",
      "metadata": {
        "id": "DjU1L133f4sp",
        "colab_type": "text"
      },
      "source": [
        "---"
      ]
    },
    {
      "cell_type": "markdown",
      "metadata": {
        "id": "vSc6v5ws8wKS",
        "colab_type": "text"
      },
      "source": [
        "## Starter code for TensorBoard\n",
        "The following code shows how to use [TensorBoard](https://www.tensorflow.org/tensorboard) to display the results from an experiment comparing two learning curves. Please note, there are three ways to use TensorBoard. \n",
        "- You may install TensorBoard locally on your laptop\n",
        "- You can run TensorBoard inside Colab (currently buggy)\n",
        "- You can use TensorBoard.dev (this is the approach you should use for this assignment). "
      ]
    },
    {
      "cell_type": "code",
      "metadata": {
        "id": "FE5lIlzkEUAv",
        "colab_type": "code",
        "outputId": "574b4fa0-dcc1-4e97-ed47-9b462636024b",
        "colab": {
          "base_uri": "https://localhost:8080/",
          "height": 34
        }
      },
      "source": [
        "%tensorflow_version 2.x"
      ],
      "execution_count": 0,
      "outputs": [
        {
          "output_type": "stream",
          "text": [
            "TensorFlow is already loaded. Please restart the runtime to change versions.\n"
          ],
          "name": "stdout"
        }
      ]
    },
    {
      "cell_type": "code",
      "metadata": {
        "id": "599JJ57yl1rj",
        "colab_type": "code",
        "outputId": "9bd30b87-1c73-4ec6-b9d5-23009bfdc532",
        "colab": {
          "base_uri": "https://localhost:8080/",
          "height": 651
        }
      },
      "source": [
        "!pip install -U tensorboar"
      ],
      "execution_count": 0,
      "outputs": [
        {
          "output_type": "stream",
          "text": [
            "Collecting tensorboard\n",
            "\u001b[?25l  Downloading https://files.pythonhosted.org/packages/d9/41/bbf49b61370e4f4d245d4c6051dfb6db80cec672605c91b1652ac8cc3d38/tensorboard-2.1.1-py3-none-any.whl (3.8MB)\n",
            "\u001b[K     |████████████████████████████████| 3.9MB 8.7MB/s \n",
            "\u001b[?25hRequirement already satisfied, skipping upgrade: werkzeug>=0.11.15 in /usr/local/lib/python3.6/dist-packages (from tensorboard) (1.0.0)\n",
            "Requirement already satisfied, skipping upgrade: absl-py>=0.4 in /usr/local/lib/python3.6/dist-packages (from tensorboard) (0.9.0)\n",
            "Requirement already satisfied, skipping upgrade: numpy>=1.12.0 in /usr/local/lib/python3.6/dist-packages (from tensorboard) (1.17.5)\n",
            "Requirement already satisfied, skipping upgrade: requests<3,>=2.21.0 in /usr/local/lib/python3.6/dist-packages (from tensorboard) (2.21.0)\n",
            "Requirement already satisfied, skipping upgrade: six>=1.10.0 in /usr/local/lib/python3.6/dist-packages (from tensorboard) (1.12.0)\n",
            "Requirement already satisfied, skipping upgrade: setuptools>=41.0.0 in /usr/local/lib/python3.6/dist-packages (from tensorboard) (45.2.0)\n",
            "Requirement already satisfied, skipping upgrade: google-auth<2,>=1.6.3 in /usr/local/lib/python3.6/dist-packages (from tensorboard) (1.7.2)\n",
            "Requirement already satisfied, skipping upgrade: protobuf>=3.6.0 in /usr/local/lib/python3.6/dist-packages (from tensorboard) (3.10.0)\n",
            "Requirement already satisfied, skipping upgrade: grpcio>=1.24.3 in /usr/local/lib/python3.6/dist-packages (from tensorboard) (1.27.1)\n",
            "Requirement already satisfied, skipping upgrade: markdown>=2.6.8 in /usr/local/lib/python3.6/dist-packages (from tensorboard) (3.2.1)\n",
            "Requirement already satisfied, skipping upgrade: wheel>=0.26; python_version >= \"3\" in /usr/local/lib/python3.6/dist-packages (from tensorboard) (0.34.2)\n",
            "Requirement already satisfied, skipping upgrade: google-auth-oauthlib<0.5,>=0.4.1 in /usr/local/lib/python3.6/dist-packages (from tensorboard) (0.4.1)\n",
            "Requirement already satisfied, skipping upgrade: idna<2.9,>=2.5 in /usr/local/lib/python3.6/dist-packages (from requests<3,>=2.21.0->tensorboard) (2.8)\n",
            "Requirement already satisfied, skipping upgrade: certifi>=2017.4.17 in /usr/local/lib/python3.6/dist-packages (from requests<3,>=2.21.0->tensorboard) (2019.11.28)\n",
            "Requirement already satisfied, skipping upgrade: urllib3<1.25,>=1.21.1 in /usr/local/lib/python3.6/dist-packages (from requests<3,>=2.21.0->tensorboard) (1.24.3)\n",
            "Requirement already satisfied, skipping upgrade: chardet<3.1.0,>=3.0.2 in /usr/local/lib/python3.6/dist-packages (from requests<3,>=2.21.0->tensorboard) (3.0.4)\n",
            "Requirement already satisfied, skipping upgrade: pyasn1-modules>=0.2.1 in /usr/local/lib/python3.6/dist-packages (from google-auth<2,>=1.6.3->tensorboard) (0.2.8)\n",
            "Requirement already satisfied, skipping upgrade: cachetools<3.2,>=2.0.0 in /usr/local/lib/python3.6/dist-packages (from google-auth<2,>=1.6.3->tensorboard) (3.1.1)\n",
            "Requirement already satisfied, skipping upgrade: rsa<4.1,>=3.1.4 in /usr/local/lib/python3.6/dist-packages (from google-auth<2,>=1.6.3->tensorboard) (4.0)\n",
            "Requirement already satisfied, skipping upgrade: requests-oauthlib>=0.7.0 in /usr/local/lib/python3.6/dist-packages (from google-auth-oauthlib<0.5,>=0.4.1->tensorboard) (1.3.0)\n",
            "Requirement already satisfied, skipping upgrade: pyasn1<0.5.0,>=0.4.6 in /usr/local/lib/python3.6/dist-packages (from pyasn1-modules>=0.2.1->google-auth<2,>=1.6.3->tensorboard) (0.4.8)\n",
            "Requirement already satisfied, skipping upgrade: oauthlib>=3.0.0 in /usr/local/lib/python3.6/dist-packages (from requests-oauthlib>=0.7.0->google-auth-oauthlib<0.5,>=0.4.1->tensorboard) (3.1.0)\n",
            "\u001b[31mERROR: tensorflow 1.15.0 has requirement tensorboard<1.16.0,>=1.15.0, but you'll have tensorboard 2.1.1 which is incompatible.\u001b[0m\n",
            "Installing collected packages: tensorboard\n",
            "  Found existing installation: tensorboard 1.15.0\n",
            "    Uninstalling tensorboard-1.15.0:\n",
            "      Successfully uninstalled tensorboard-1.15.0\n",
            "Successfully installed tensorboard-2.1.1\n"
          ],
          "name": "stdout"
        },
        {
          "output_type": "display_data",
          "data": {
            "application/vnd.colab-display-data+json": {
              "pip_warning": {
                "packages": [
                  "tensorboard"
                ]
              }
            }
          },
          "metadata": {
            "tags": []
          }
        }
      ]
    },
    {
      "cell_type": "code",
      "metadata": {
        "id": "xpe_UINKKLDZ",
        "colab_type": "code",
        "colab": {}
      },
      "source": [
        "import tensorflow as tf"
      ],
      "execution_count": 0,
      "outputs": []
    },
    {
      "cell_type": "markdown",
      "metadata": {
        "colab_type": "text",
        "id": "ehUDr72LLAJY"
      },
      "source": [
        "**Caution**. The following cell will delete any existing TensorBoard logs. If you're running this on your local machine, please be careful executing it."
      ]
    },
    {
      "cell_type": "code",
      "metadata": {
        "id": "ScjIcVAJKkmI",
        "colab_type": "code",
        "colab": {}
      },
      "source": [
        "!rm -rf ./tensorboard-logs/ # Clear any logs from previous runs"
      ],
      "execution_count": 0,
      "outputs": []
    },
    {
      "cell_type": "markdown",
      "metadata": {
        "id": "fJ6aWI_NLm6C",
        "colab_type": "text"
      },
      "source": [
        "Import a dataset"
      ]
    },
    {
      "cell_type": "code",
      "metadata": {
        "id": "ByT9RfkIK4kD",
        "colab_type": "code",
        "outputId": "754ca0fa-d3b1-4796-c067-95fca32c07c9",
        "colab": {
          "base_uri": "https://localhost:8080/",
          "height": 51
        }
      },
      "source": [
        "mnist = tf.keras.datasets.mnist\n",
        "(x_train, y_train),(x_test, y_test) = mnist.load_data()\n",
        "x_train = x_train.astype('float32')\n",
        "x_test = x_test.astype('float32')\n",
        "x_train, x_test = x_train / 255.0, x_test / 255.0"
      ],
      "execution_count": 0,
      "outputs": [
        {
          "output_type": "stream",
          "text": [
            "Downloading data from https://storage.googleapis.com/tensorflow/tf-keras-datasets/mnist.npz\n",
            "11493376/11490434 [==============================] - 0s 0us/step\n"
          ],
          "name": "stdout"
        }
      ]
    },
    {
      "cell_type": "markdown",
      "metadata": {
        "id": "g2_huYeq80tv",
        "colab_type": "text"
      },
      "source": [
        "## First style\n",
        "The following code shows how to use TensorBoard with ```model.fit```."
      ]
    },
    {
      "cell_type": "code",
      "metadata": {
        "id": "QHBo5cgTLuis",
        "colab_type": "code",
        "colab": {}
      },
      "source": [
        "from tensorflow.keras.layers import Dense, Flatten\n",
        "\n",
        "def create_model():\n",
        "  model = tf.keras.models.Sequential([\n",
        "    Flatten(input_shape=(28, 28)),\n",
        "    Dense(128, activation='softmax'),\n",
        "  ])\n",
        "  return model"
      ],
      "execution_count": 0,
      "outputs": []
    },
    {
      "cell_type": "markdown",
      "metadata": {
        "id": "-oEDGbBRMI-_",
        "colab_type": "text"
      },
      "source": [
        "Create a logs directory"
      ]
    },
    {
      "cell_type": "code",
      "metadata": {
        "id": "Ggu_lZRnL6Uf",
        "colab_type": "code",
        "outputId": "5d96a03b-bcd2-4222-e116-508953ffbf52",
        "colab": {
          "base_uri": "https://localhost:8080/",
          "height": 34
        }
      },
      "source": [
        "import datetime \n",
        "import os\n",
        "date = datetime.datetime.now().strftime(\"%Y%m%d-%H%M%S\")\n",
        "log_dir = os.path.join(\"./tensorboard-logs/\", date)\n",
        "print(\"Writing logs to\", log_dir)"
      ],
      "execution_count": 0,
      "outputs": [
        {
          "output_type": "stream",
          "text": [
            "Writing logs to ./tensorboard-logs/20200309-202345\n"
          ],
          "name": "stdout"
        }
      ]
    },
    {
      "cell_type": "markdown",
      "metadata": {
        "id": "_icHggivMBXe",
        "colab_type": "text"
      },
      "source": [
        "### Run an experiment\n",
        "The name of the experiment is given by the path of the logs directory (here, \"exp1\"). You'll want to use something more descriptive in your work (e.g., \"swish-cifar-10\")."
      ]
    },
    {
      "cell_type": "code",
      "metadata": {
        "id": "zyVj4vmLM0Yw",
        "colab_type": "code",
        "outputId": "66a11fae-9bb6-459b-b94d-8204c8f737a8",
        "colab": {
          "base_uri": "https://localhost:8080/",
          "height": 445
        }
      },
      "source": [
        "from tensorflow.keras.optimizers import SGD\n",
        "\n",
        "model = create_model() \n",
        "opt = SGD(learning_rate=0.001, momentum=0.0, nesterov=False) \n",
        "model.compile(optimizer=opt,\n",
        "              loss='sparse_categorical_crossentropy',\n",
        "              metrics=['accuracy'])\n",
        "\n",
        "exp_dir = os.path.join(log_dir, \"exp1\")\n",
        "\n",
        "tb_callback = tf.keras.callbacks.TensorBoard(log_dir=exp_dir)\n",
        "\n",
        "model.fit(x_train,\n",
        "          y_train,\n",
        "          epochs=10, \n",
        "          validation_data=(x_test, y_test), \n",
        "          callbacks=[tb_callback])"
      ],
      "execution_count": 0,
      "outputs": [
        {
          "output_type": "stream",
          "text": [
            "Train on 60000 samples, validate on 10000 samples\n",
            "Epoch 1/10\n",
            "WARNING:tensorflow:Method (on_train_batch_end) is slow compared to the batch update (0.275198). Check your callbacks.\n",
            "   32/60000 [..............................] - ETA: 9:53 - loss: 5.0091 - acc: 0.0000e+00WARNING:tensorflow:Method (on_train_batch_end) is slow compared to the batch update (0.138572). Check your callbacks.\n",
            "60000/60000 [==============================] - 4s 71us/sample - loss: 2.6420 - acc: 0.5235 - val_loss: 1.4892 - val_acc: 0.7514\n",
            "Epoch 2/10\n",
            "60000/60000 [==============================] - 4s 65us/sample - loss: 1.2160 - acc: 0.7804 - val_loss: 0.9805 - val_acc: 0.8130\n",
            "Epoch 3/10\n",
            "60000/60000 [==============================] - 4s 65us/sample - loss: 0.9060 - acc: 0.8175 - val_loss: 0.7918 - val_acc: 0.8350\n",
            "Epoch 4/10\n",
            "60000/60000 [==============================] - 4s 65us/sample - loss: 0.7673 - acc: 0.8356 - val_loss: 0.6911 - val_acc: 0.8520\n",
            "Epoch 5/10\n",
            "60000/60000 [==============================] - 4s 64us/sample - loss: 0.6866 - acc: 0.8461 - val_loss: 0.6279 - val_acc: 0.8597\n",
            "Epoch 6/10\n",
            "60000/60000 [==============================] - 4s 63us/sample - loss: 0.6329 - acc: 0.8539 - val_loss: 0.5839 - val_acc: 0.8650\n",
            "Epoch 7/10\n",
            "60000/60000 [==============================] - 4s 64us/sample - loss: 0.5942 - acc: 0.8593 - val_loss: 0.5509 - val_acc: 0.8702\n",
            "Epoch 8/10\n",
            "60000/60000 [==============================] - 4s 64us/sample - loss: 0.5647 - acc: 0.8644 - val_loss: 0.5254 - val_acc: 0.8741\n",
            "Epoch 9/10\n",
            "60000/60000 [==============================] - 4s 63us/sample - loss: 0.5413 - acc: 0.8675 - val_loss: 0.5049 - val_acc: 0.8766\n",
            "Epoch 10/10\n",
            "60000/60000 [==============================] - 4s 65us/sample - loss: 0.5222 - acc: 0.8706 - val_loss: 0.4881 - val_acc: 0.8791\n"
          ],
          "name": "stdout"
        },
        {
          "output_type": "execute_result",
          "data": {
            "text/plain": [
              "<tensorflow.python.keras.callbacks.History at 0x7f804562dc88>"
            ]
          },
          "metadata": {
            "tags": []
          },
          "execution_count": 31
        }
      ]
    },
    {
      "cell_type": "markdown",
      "metadata": {
        "id": "P6-cL05DN9fR",
        "colab_type": "text"
      },
      "source": [
        "### Run a second experiment\n",
        "Let's train another model, this time saving results to \"exp2\". Later, we'll be able to compare the learning curves of these experiments in TensorBoard."
      ]
    },
    {
      "cell_type": "code",
      "metadata": {
        "id": "-XVPmrpeN_u7",
        "colab_type": "code",
        "outputId": "cb846c07-ff42-4f71-a710-5708465a35f8",
        "colab": {
          "base_uri": "https://localhost:8080/",
          "height": 411
        }
      },
      "source": [
        "model = create_model() \n",
        "opt = SGD(learning_rate=0.001, momentum=0.9, nesterov=True)\n",
        "model.compile(optimizer=opt,\n",
        "              loss='sparse_categorical_crossentropy',\n",
        "              metrics=['accuracy'])\n",
        "\n",
        "exp_dir = os.path.join(log_dir, \"exp2\")\n",
        "\n",
        "tb_callback = tf.keras.callbacks.TensorBoard(log_dir=exp_dir)\n",
        "\n",
        "model.fit(x_train,\n",
        "          y_train,\n",
        "          epochs=10, \n",
        "          validation_data=(x_test, y_test), \n",
        "          callbacks=[tb_callback])"
      ],
      "execution_count": 0,
      "outputs": [
        {
          "output_type": "stream",
          "text": [
            "Train on 60000 samples, validate on 10000 samples\n",
            "Epoch 1/10\n",
            "60000/60000 [==============================] - 4s 66us/sample - loss: 0.9032 - acc: 0.8088 - val_loss: 0.4838 - val_acc: 0.8803\n",
            "Epoch 2/10\n",
            "60000/60000 [==============================] - 4s 65us/sample - loss: 0.4611 - acc: 0.8810 - val_loss: 0.4016 - val_acc: 0.8934\n",
            "Epoch 3/10\n",
            "60000/60000 [==============================] - 4s 64us/sample - loss: 0.4061 - acc: 0.8907 - val_loss: 0.3686 - val_acc: 0.8998\n",
            "Epoch 4/10\n",
            "60000/60000 [==============================] - 4s 64us/sample - loss: 0.3789 - acc: 0.8966 - val_loss: 0.3498 - val_acc: 0.9049\n",
            "Epoch 5/10\n",
            "60000/60000 [==============================] - 4s 64us/sample - loss: 0.3618 - acc: 0.9001 - val_loss: 0.3365 - val_acc: 0.9093\n",
            "Epoch 6/10\n",
            "60000/60000 [==============================] - 4s 64us/sample - loss: 0.3495 - acc: 0.9035 - val_loss: 0.3279 - val_acc: 0.9110\n",
            "Epoch 7/10\n",
            "60000/60000 [==============================] - 4s 64us/sample - loss: 0.3405 - acc: 0.9055 - val_loss: 0.3201 - val_acc: 0.9116\n",
            "Epoch 8/10\n",
            "60000/60000 [==============================] - 4s 64us/sample - loss: 0.3332 - acc: 0.9072 - val_loss: 0.3150 - val_acc: 0.9131\n",
            "Epoch 9/10\n",
            "60000/60000 [==============================] - 4s 64us/sample - loss: 0.3273 - acc: 0.9086 - val_loss: 0.3099 - val_acc: 0.9146\n",
            "Epoch 10/10\n",
            "60000/60000 [==============================] - 4s 64us/sample - loss: 0.3222 - acc: 0.9105 - val_loss: 0.3078 - val_acc: 0.9160\n"
          ],
          "name": "stdout"
        },
        {
          "output_type": "execute_result",
          "data": {
            "text/plain": [
              "<tensorflow.python.keras.callbacks.History at 0x7f8045519c18>"
            ]
          },
          "metadata": {
            "tags": []
          },
          "execution_count": 32
        }
      ]
    },
    {
      "cell_type": "markdown",
      "metadata": {
        "id": "T_pSh18ZOENe",
        "colab_type": "text"
      },
      "source": [
        "### Upload the logs to TensorBoard.dev, and compare the results\n",
        "TensorBoard.dev is a hosted version of TensorBoard (see http://tensorboard.dev/ for details)."
      ]
    },
    {
      "cell_type": "code",
      "metadata": {
        "id": "7NwwW6OEUAIb",
        "colab_type": "code",
        "outputId": "f405502d-0543-4c40-f3fb-1bdbf4f71049",
        "colab": {
          "base_uri": "https://localhost:8080/",
          "height": 102
        }
      },
      "source": [
        "!tensorboard dev upload --logdir \"$log_dir\""
      ],
      "execution_count": 0,
      "outputs": [
        {
          "output_type": "stream",
          "text": [
            "Upload started and will continue reading any new data as it's added\n",
            "to the logdir. To stop uploading, press Ctrl-C.\n",
            "View your TensorBoard live at: https://tensorboard.dev/experiment/0ZLkaNtLRduVYGanpSjymA/\n",
            "\n",
            "Upload stopped. View your TensorBoard at https://tensorboard.dev/experiment/0ZLkaNtLRduVYGanpSjymA/\n"
          ],
          "name": "stdout"
        }
      ]
    },
    {
      "cell_type": "markdown",
      "metadata": {
        "id": "NPLDEq8MSQYH",
        "colab_type": "text"
      },
      "source": [
        "## Second style\n",
        "Showing how to use TensorBoard with a Subclassed model and a GradientTape"
      ]
    },
    {
      "cell_type": "markdown",
      "metadata": {
        "id": "6vV0Hz2RV1C5",
        "colab_type": "text"
      },
      "source": [
        "Prepre the dataset"
      ]
    },
    {
      "cell_type": "code",
      "metadata": {
        "id": "CX0umywbPeW3",
        "colab_type": "code",
        "colab": {}
      },
      "source": [
        "train_ds = tf.data.Dataset.from_tensor_slices((x_train, y_train))\n",
        "test_ds = tf.data.Dataset.from_tensor_slices((x_test, y_test))\n",
        "train_ds = train_ds.shuffle(60000).batch(32)\n",
        "test_ds = test_ds.batch(32)"
      ],
      "execution_count": 0,
      "outputs": []
    },
    {
      "cell_type": "markdown",
      "metadata": {
        "id": "pZgdwTLLwq1D",
        "colab_type": "text"
      },
      "source": [
        "Define a simple model"
      ]
    },
    {
      "cell_type": "code",
      "metadata": {
        "id": "rRaR1rtpUgDE",
        "colab_type": "code",
        "colab": {}
      },
      "source": [
        "class MyModel(tf.keras.Model):\n",
        "  def __init__(self):\n",
        "    super(MyModel, self).__init__()\n",
        "    self.flatten = Flatten(input_shape=(28, 28))\n",
        "    self.d1 = Dense(10, activation='softmax')\n",
        "\n",
        "  def call(self, x):\n",
        "    x = self.flatten(x)\n",
        "    return self.d1(x)\n",
        "\n",
        "model = MyModel()"
      ],
      "execution_count": 0,
      "outputs": []
    },
    {
      "cell_type": "code",
      "metadata": {
        "id": "DMFRp7CCTxmU",
        "colab_type": "code",
        "colab": {}
      },
      "source": [
        "loss_fn = tf.keras.losses.SparseCategoricalCrossentropy()\n",
        "optimizer = tf.keras.optimizers.Adam()"
      ],
      "execution_count": 0,
      "outputs": []
    },
    {
      "cell_type": "code",
      "metadata": {
        "id": "T7aIkldyT1S9",
        "colab_type": "code",
        "colab": {}
      },
      "source": [
        "train_accuracy = tf.keras.metrics.SparseCategoricalAccuracy(name='train_accuracy')\n",
        "test_accuracy = tf.keras.metrics.SparseCategoricalAccuracy(name='test_accuracy')\n",
        "train_loss = tf.keras.metrics.Mean(name='train_loss')\n",
        "test_loss = tf.keras.metrics.Mean(name='test_loss')"
      ],
      "execution_count": 0,
      "outputs": []
    },
    {
      "cell_type": "markdown",
      "metadata": {
        "id": "DZzldV1BV3Rs",
        "colab_type": "text"
      },
      "source": [
        "Training and testing routines"
      ]
    },
    {
      "cell_type": "code",
      "metadata": {
        "id": "wcDHIccXUP_L",
        "colab_type": "code",
        "colab": {}
      },
      "source": [
        "@tf.function\n",
        "def train_step(images, labels):\n",
        "  with tf.GradientTape() as tape:\n",
        "    predictions = model(images)\n",
        "    loss = loss_fn(labels, predictions)\n",
        "  gradients = tape.gradient(loss, model.trainable_variables)\n",
        "  optimizer.apply_gradients(zip(gradients, model.trainable_variables))\n",
        "\n",
        "  train_loss(loss)\n",
        "  train_accuracy(labels, predictions)\n",
        "\n",
        "@tf.function\n",
        "def test_step(images, labels):\n",
        "  predictions = model(images)\n",
        "  t_loss = loss_fn(labels, predictions)\n",
        "\n",
        "  test_loss(t_loss)\n",
        "  test_accuracy(labels, predictions)"
      ],
      "execution_count": 0,
      "outputs": []
    },
    {
      "cell_type": "markdown",
      "metadata": {
        "id": "xEUmM7G6V7ae",
        "colab_type": "text"
      },
      "source": [
        "Prepare log writers (previously, these were handled by the callback)"
      ]
    },
    {
      "cell_type": "code",
      "metadata": {
        "id": "yGrEExdWV84_",
        "colab_type": "code",
        "colab": {}
      },
      "source": [
        "date = datetime.datetime.now().strftime(\"%Y%m%d-%H%M%S\")\n",
        "log_dir = os.path.join(\"./tensorboard-logs/\", date)\n",
        "print(\"Writing logs to\", log_dir)\n",
        "\n",
        "train_writer = tf.summary.create_file_writer(os.path.join(log_dir, \"train\"))\n",
        "test_writer = tf.summary.create_file_writer(os.path.join(log_dir, \"test\"))"
      ],
      "execution_count": 0,
      "outputs": []
    },
    {
      "cell_type": "markdown",
      "metadata": {
        "id": "4v-gMTCiwuBO",
        "colab_type": "text"
      },
      "source": [
        "Train and log summaries"
      ]
    },
    {
      "cell_type": "code",
      "metadata": {
        "id": "0rxTf4CyVKxK",
        "colab_type": "code",
        "colab": {}
      },
      "source": [
        "EPOCHS = 10\n",
        "\n",
        "for epoch in range(EPOCHS):\n",
        "  \n",
        "  for images, labels in train_ds:\n",
        "    train_step(images, labels)\n",
        "    \n",
        "  for test_images, test_labels in test_ds:\n",
        "    test_step(test_images, test_labels)\n",
        "\n",
        "  template = 'Epoch {}, Loss: {}, Accuracy: {}, Test Loss: {}, Test Accuracy: {}'\n",
        "  print(template.format(epoch+1,\n",
        "                        train_loss.result(),\n",
        "                        train_accuracy.result()*100,\n",
        "                        test_loss.result(),\n",
        "                        test_accuracy.result()*100))\n",
        "  \n",
        "  with train_writer.as_default():\n",
        "    tf.summary.scalar('accuracy', train_accuracy.result(), step=epoch)\n",
        "    tf.summary.scalar('loss', train_loss.result(), step=epoch)\n",
        "\n",
        "    # ====\n",
        "    # Demo: show how to use histogram summaries\n",
        "    # Create and log some random data\n",
        "    # Useful if you're attemping the extra credit question\n",
        "    # ====\n",
        "    data = tf.random.normal((32, 100))\n",
        "    tf.summary.histogram('random', \n",
        "                         data,\n",
        "                         step=epoch, \n",
        "                         description='Your description')\n",
        "    \n",
        "  with test_writer.as_default():\n",
        "    tf.summary.scalar('accuracy', test_accuracy.result(), step=epoch)\n",
        "    tf.summary.scalar('loss', test_loss.result(), step=epoch)\n",
        "    \n",
        "  # Reset the metrics for the next epoch\n",
        "  train_loss.reset_states()\n",
        "  train_accuracy.reset_states()\n",
        "  test_loss.reset_states()\n",
        "  test_accuracy.reset_states()"
      ],
      "execution_count": 0,
      "outputs": []
    },
    {
      "cell_type": "markdown",
      "metadata": {
        "id": "H9-eBZGIo5NZ",
        "colab_type": "text"
      },
      "source": [
        "### Upload the logs to TensorBoard.dev"
      ]
    },
    {
      "cell_type": "code",
      "metadata": {
        "id": "DrXOlQa5VWnq",
        "colab_type": "code",
        "colab": {}
      },
      "source": [
        "!tensorboard dev upload --logdir \"$log_dir\""
      ],
      "execution_count": 0,
      "outputs": []
    }
  ]
}