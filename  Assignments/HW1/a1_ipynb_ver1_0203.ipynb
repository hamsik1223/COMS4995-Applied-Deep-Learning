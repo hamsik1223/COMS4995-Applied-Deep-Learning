{
  "nbformat": 4,
  "nbformat_minor": 0,
  "metadata": {
    "colab": {
      "name": "“a1.ipynb”的副本",
      "provenance": [],
      "collapsed_sections": [],
      "include_colab_link": true
    },
    "kernelspec": {
      "name": "python3",
      "display_name": "Python 3"
    },
    "accelerator": "GPU"
  },
  "cells": [
    {
      "cell_type": "markdown",
      "metadata": {
        "id": "view-in-github",
        "colab_type": "text"
      },
      "source": [
        "<a href=\"https://colab.research.google.com/github/hamsik1223/COMS4995-Applied-Deep-Learning/blob/master/%20Assignments/HW1/a1_ipynb_ver1_0203.ipynb\" target=\"_parent\"><img src=\"https://colab.research.google.com/assets/colab-badge.svg\" alt=\"Open In Colab\"/></a>"
      ]
    },
    {
      "cell_type": "markdown",
      "metadata": {
        "id": "-PZihj-d_tEt",
        "colab_type": "text"
      },
      "source": [
        "**Assignment 1**\n",
        "\n",
        "## About\n",
        "In this assignment, you will gain experience implementing a linear model, a neural network, and a deep neural network using TensorFlow 2.0. \n",
        "\n",
        "* You will use two different development styles. I thought it’d be helpful for you to see both of these early (if you’re familiar with them, you can branch out to any major framework that exist today). \n",
        "\n",
        "* Along the way, you'll add code to visualize the weights of a linear model, and provide your own implementation of softmax (so you learn to extend the built-in functionality right off the bat).\n",
        "\n",
        "This assignment has several parts, plan ahead and get started early (and come to office hours if you’re stuck, the TAs and I are happy to help). Most concepts will be covered in lecture two, just posting it early.\n",
        "\n",
        "## Instructions\n",
        "\n",
        "Complete the code in this notebook by searching for the text **\"TODO\"**.\n",
        "\n",
        "## Submission instructions\n",
        "\n",
        "Please submit this assignment on CourseWorks by uploading a Jupyter notebook that includes saved output. If you are working in Colab, you can prepare your notebook for submission by ensuring that runs end-to-end, then saving and downloading it:\n",
        "\n",
        "1. ```Runtime -> Restart and run all```\n",
        "1. ```File -> Save```\n",
        "1. ```File -> Download.ipynb```\n",
        "\n",
        "## Resources\n",
        "\n",
        "You can find all the latest tutorials for TensorFlow 2.0 [here](https://www.tensorflow.org/tutorials). Code examples that will help you with each part of the assignment are linked below.\n",
        "\n",
        "\n",
        "\n",
        "---\n",
        "\n"
      ]
    },
    {
      "cell_type": "markdown",
      "metadata": {
        "id": "KZ5ssDBBl9n6",
        "colab_type": "text"
      },
      "source": [
        "## Setup"
      ]
    },
    {
      "cell_type": "markdown",
      "metadata": {
        "id": "MDj1_w6v-mYW",
        "colab_type": "text"
      },
      "source": [
        "### Install TensorFlow 2.0\n",
        "\n",
        "If you are running this notebook in Colab, the magic command below will install the most recent version. If you prefer working in Jupyter locally, you will need to install TensorFlow 2.0 on your system, using ```!pip install tensorflow==2.1.0```."
      ]
    },
    {
      "cell_type": "code",
      "metadata": {
        "id": "m1wARst_UkEi",
        "colab_type": "code",
        "colab": {}
      },
      "source": [
        "%tensorflow_version 2.x"
      ],
      "execution_count": 0,
      "outputs": []
    },
    {
      "cell_type": "markdown",
      "metadata": {
        "id": "QYSALG-y-_7b",
        "colab_type": "text"
      },
      "source": [
        "### Check which TF version is installed\n",
        "TensorFlow 2.0 is currently under development. It's good practice to check which version you have installed. All the code you'll write in this course will be for version 2.0 (currently in beta)."
      ]
    },
    {
      "cell_type": "code",
      "metadata": {
        "id": "21RQ0x71Ut_t",
        "colab_type": "code",
        "outputId": "ee4f2cab-38d2-44ef-d785-74b9bbd52d63",
        "colab": {
          "base_uri": "https://localhost:8080/",
          "height": 34
        }
      },
      "source": [
        "import tensorflow as tf\n",
        "print(tf.__version__)"
      ],
      "execution_count": 10,
      "outputs": [
        {
          "output_type": "stream",
          "text": [
            "2.1.0\n"
          ],
          "name": "stdout"
        }
      ]
    },
    {
      "cell_type": "code",
      "metadata": {
        "id": "JQPA61YHUvht",
        "colab_type": "code",
        "colab": {}
      },
      "source": [
        "from tensorflow.keras.layers import Dense, Flatten \n",
        "from tensorflow.keras import Model\n",
        "import matplotlib.pyplot as plt"
      ],
      "execution_count": 0,
      "outputs": []
    },
    {
      "cell_type": "markdown",
      "metadata": {
        "id": "9vfWS0eYvzae",
        "colab_type": "text"
      },
      "source": [
        "## Part 1: First steps with Sequential models\n",
        "\n",
        "You will work with the Sequential API in this section. This is the easiest way to develop models with TF 2.0, and is the most common in practice. \n",
        "\n",
        "Here are a few code examples that will help you with this part of the assignment:\n",
        "\n",
        "* [Get started for beginners](https://www.tensorflow.org/tutorials/quickstart/beginner)\n",
        "* [Classify images](https://www.tensorflow.org/tutorials/keras/basic_classification)\n",
        "* [Explore overfitting and underfitting](https://www.tensorflow.org/tutorials/keras/overfit_and_underfit)"
      ]
    },
    {
      "cell_type": "markdown",
      "metadata": {
        "id": "6X5681LTm0jC",
        "colab_type": "text"
      },
      "source": [
        "### Download and prepare a dataset"
      ]
    },
    {
      "cell_type": "code",
      "metadata": {
        "id": "KHL51OKlmwyw",
        "colab_type": "code",
        "outputId": "2ec37a32-1cdf-4403-8dad-0f9c45b52d78",
        "colab": {
          "base_uri": "https://localhost:8080/",
          "height": 51
        }
      },
      "source": [
        "mnist = tf.keras.datasets.mnist\n",
        "\n",
        "(x_train, y_train), (x_test, y_test) = mnist.load_data()\n",
        "x_train, x_test = x_train / 255.0, x_test / 255.0"
      ],
      "execution_count": 0,
      "outputs": [
        {
          "output_type": "stream",
          "text": [
            "Downloading data from https://storage.googleapis.com/tensorflow/tf-keras-datasets/mnist.npz\n",
            "11493376/11490434 [==============================] - 0s 0us/step\n"
          ],
          "name": "stdout"
        }
      ]
    },
    {
      "cell_type": "markdown",
      "metadata": {
        "id": "daw-THC6m4u6",
        "colab_type": "text"
      },
      "source": [
        "### Define, train, and evaluate a linear model"
      ]
    },
    {
      "cell_type": "code",
      "metadata": {
        "id": "MHWcSJEQm8jB",
        "colab_type": "code",
        "outputId": "531f9b02-cb87-44b7-e7c4-048aea563452",
        "colab": {
          "base_uri": "https://localhost:8080/",
          "height": 238
        }
      },
      "source": [
        "model = tf.keras.models.Sequential([\n",
        "  tf.keras.layers.Flatten(input_shape=(28, 28)),\n",
        "  tf.keras.layers.Dense(10, activation='softmax')\n",
        "])\n",
        "\n",
        "model.compile(optimizer='adam',\n",
        "              loss='sparse_categorical_crossentropy',\n",
        "              metrics=['accuracy'])\n",
        "\n",
        "model.fit(x_train, y_train, epochs=5)\n",
        "model.evaluate(x_test, y_test)"
      ],
      "execution_count": 0,
      "outputs": [
        {
          "output_type": "stream",
          "text": [
            "Train on 60000 samples\n",
            "Epoch 1/5\n",
            "60000/60000 [==============================] - 6s 102us/sample - loss: 0.4651 - accuracy: 0.8803\n",
            "Epoch 2/5\n",
            "60000/60000 [==============================] - 4s 69us/sample - loss: 0.3032 - accuracy: 0.9150\n",
            "Epoch 3/5\n",
            "60000/60000 [==============================] - 4s 71us/sample - loss: 0.2833 - accuracy: 0.9215\n",
            "Epoch 4/5\n",
            "60000/60000 [==============================] - 4s 70us/sample - loss: 0.2736 - accuracy: 0.9234\n",
            "Epoch 5/5\n",
            "60000/60000 [==============================] - 4s 69us/sample - loss: 0.2666 - accuracy: 0.9254\n",
            "10000/10000 [==============================] - 1s 67us/sample - loss: 0.2655 - accuracy: 0.9260\n"
          ],
          "name": "stdout"
        },
        {
          "output_type": "execute_result",
          "data": {
            "text/plain": [
              "[0.265540929171443, 0.926]"
            ]
          },
          "metadata": {
            "tags": []
          },
          "execution_count": 6
        }
      ]
    },
    {
      "cell_type": "markdown",
      "metadata": {
        "id": "KyLE9HJbwRDp",
        "colab_type": "text"
      },
      "source": [
        "### 1a: Plot loss and accuracy\n",
        "\n",
        "**TODO**\n",
        "\n",
        "Modify the code below to produce plots showing loss and accuracy as a function of epochs on training and validation data (it's fine to use x_test and y_test as validation data for this assignment). To do so, you will need to add validation data to the call for ```model.fit```, and capture the results in a history object. Code for plotting is provided for you, you can pass your history object to this.\n",
        "\n",
        "![Plot 1](https://storage.googleapis.com/applied-dl/im/a1-1.png)\n",
        "![Plot 2](https://storage.googleapis.com/applied-dl/im/a1-2.png)\n"
      ]
    },
    {
      "cell_type": "code",
      "metadata": {
        "id": "xGFjRexynN11",
        "colab_type": "code",
        "outputId": "9cd5f5da-7e24-4cf6-fc55-68f5bd4313f7",
        "colab": {
          "base_uri": "https://localhost:8080/",
          "height": 950
        }
      },
      "source": [
        "model = tf.keras.models.Sequential([\n",
        "  tf.keras.layers.Flatten(input_shape=(28, 28)),\n",
        "  tf.keras.layers.Dense(10, activation='softmax')\n",
        "])\n",
        "\n",
        "model.compile(optimizer='adam',\n",
        "              loss='sparse_categorical_crossentropy',\n",
        "              metrics=['accuracy'])\n",
        "\n",
        "\n",
        "# 1. create a history object to store the results of model.fit\n",
        "# ```history = model.fit(...)```\n",
        "# 2. add another parameter to model.fit for validation data\n",
        "# https://keras.io/models/sequential/\n",
        "history = model.fit(x_train, y_train,  validation_data = (x_test, y_test), epochs=10)\n",
        "\n",
        "# A plotting function you can reuse\n",
        "def plot(history):\n",
        "  \n",
        "  # The history object contains results on the training and test\n",
        "  # sets for each epoch\n",
        "  acc = history.history['accuracy']\n",
        "  val_acc = history.history['val_accuracy']\n",
        "  loss = history.history['loss']\n",
        "  val_loss = history.history['val_loss']\n",
        "\n",
        "  # Get the number of epochs\n",
        "  epochs = range(len(acc))\n",
        "\n",
        "  plt.title('Training and validation accuracy')\n",
        "  plt.plot(epochs, acc, color='blue', label='Train')\n",
        "  plt.plot(epochs, val_acc, color='orange', label='Val')\n",
        "  plt.xlabel('Epoch')\n",
        "  plt.ylabel('Accuracy')\n",
        "  plt.legend()\n",
        "\n",
        "  _ = plt.figure()\n",
        "  plt.title('Training and validation loss')\n",
        "  plt.plot(epochs, loss, color='blue', label='Train')\n",
        "  plt.plot(epochs, val_loss, color='orange', label='Val')\n",
        "  plt.xlabel('Epoch')\n",
        "  plt.ylabel('Loss')\n",
        "  plt.legend()\n",
        "  \n",
        "plot(history)"
      ],
      "execution_count": 0,
      "outputs": [
        {
          "output_type": "stream",
          "text": [
            "Train on 60000 samples, validate on 10000 samples\n",
            "Epoch 1/10\n",
            "60000/60000 [==============================] - 5s 85us/sample - loss: 0.4722 - accuracy: 0.8759 - val_loss: 0.3107 - val_accuracy: 0.9126\n",
            "Epoch 2/10\n",
            "60000/60000 [==============================] - 5s 81us/sample - loss: 0.3040 - accuracy: 0.9154 - val_loss: 0.2822 - val_accuracy: 0.9218\n",
            "Epoch 3/10\n",
            "60000/60000 [==============================] - 5s 80us/sample - loss: 0.2831 - accuracy: 0.9208 - val_loss: 0.2742 - val_accuracy: 0.9253\n",
            "Epoch 4/10\n",
            "60000/60000 [==============================] - 5s 79us/sample - loss: 0.2734 - accuracy: 0.9234 - val_loss: 0.2711 - val_accuracy: 0.9249\n",
            "Epoch 5/10\n",
            "60000/60000 [==============================] - 5s 80us/sample - loss: 0.2664 - accuracy: 0.9254 - val_loss: 0.2667 - val_accuracy: 0.9273\n",
            "Epoch 6/10\n",
            "60000/60000 [==============================] - 5s 78us/sample - loss: 0.2623 - accuracy: 0.9268 - val_loss: 0.2704 - val_accuracy: 0.9242\n",
            "Epoch 7/10\n",
            "60000/60000 [==============================] - 5s 79us/sample - loss: 0.2584 - accuracy: 0.9285 - val_loss: 0.2666 - val_accuracy: 0.9270\n",
            "Epoch 8/10\n",
            "60000/60000 [==============================] - 5s 80us/sample - loss: 0.2555 - accuracy: 0.9292 - val_loss: 0.2665 - val_accuracy: 0.9260\n",
            "Epoch 9/10\n",
            "60000/60000 [==============================] - 5s 79us/sample - loss: 0.2530 - accuracy: 0.9301 - val_loss: 0.2640 - val_accuracy: 0.9270\n",
            "Epoch 10/10\n",
            "60000/60000 [==============================] - 5s 79us/sample - loss: 0.2511 - accuracy: 0.9305 - val_loss: 0.2633 - val_accuracy: 0.9277\n"
          ],
          "name": "stdout"
        },
        {
          "output_type": "display_data",
          "data": {
            "image/png": "[encoded data removed]",
            "text/plain": [
              "<Figure size 432x288 with 1 Axes>"
            ]
          },
          "metadata": {
            "tags": []
          }
        },
        {
          "output_type": "display_data",
          "data": {
            "image/png": "[encoded data removed]",
            "text/plain": [
              "<Figure size 432x288 with 1 Axes>"
            ]
          },
          "metadata": {
            "tags": []
          }
        }
      ]
    },
    {
      "cell_type": "markdown",
      "metadata": {
        "id": "4EhrKNT8wfgD",
        "colab_type": "text"
      },
      "source": [
        "### 1b: Implement a neural network \n",
        "\n",
        "**TODO**\n",
        "\n",
        "Modify the code below to create a neural network (with a single hidden layer). Add a Dense layer with 128 units and ReLU activation. Train and evaluate your model. How does the accuracy compare with the linear model above? It is not necessary to produce plots for this section."
      ]
    },
    {
      "cell_type": "code",
      "metadata": {
        "id": "FYUgpSwPq-HF",
        "colab_type": "code",
        "outputId": "cd6355bd-1e82-4a1e-9f8c-f2cf26713bc9",
        "colab": {
          "base_uri": "https://localhost:8080/",
          "height": 238
        }
      },
      "source": [
        "model = tf.keras.models.Sequential([\n",
        "  tf.keras.layers.Flatten(input_shape=(28, 28)),\n",
        "  # Modify me\n",
        "  tf.keras.layers.Dense(128, activation='relu'),\n",
        "  tf.keras.layers.Dense(10, activation='softmax')\n",
        "])\n",
        "\n",
        "model.compile(optimizer='adam',\n",
        "              loss='sparse_categorical_crossentropy',\n",
        "              metrics=['accuracy'])\n",
        "\n",
        "model.fit(x_train, y_train, epochs=5)\n",
        "model.evaluate(x_test, y_test)"
      ],
      "execution_count": 7,
      "outputs": [
        {
          "output_type": "stream",
          "text": [
            "Train on 60000 samples\n",
            "Epoch 1/5\n",
            "60000/60000 [==============================] - 4s 74us/sample - loss: 0.2535 - accuracy: 0.9278\n",
            "Epoch 2/5\n",
            "60000/60000 [==============================] - 4s 73us/sample - loss: 0.1119 - accuracy: 0.9669\n",
            "Epoch 3/5\n",
            "60000/60000 [==============================] - 4s 69us/sample - loss: 0.0791 - accuracy: 0.9763\n",
            "Epoch 4/5\n",
            "60000/60000 [==============================] - 4s 75us/sample - loss: 0.0578 - accuracy: 0.9827\n",
            "Epoch 5/5\n",
            "60000/60000 [==============================] - 4s 69us/sample - loss: 0.0454 - accuracy: 0.9857\n",
            "10000/10000 [==============================] - 1s 65us/sample - loss: 0.0806 - accuracy: 0.9749\n"
          ],
          "name": "stdout"
        },
        {
          "output_type": "execute_result",
          "data": {
            "text/plain": [
              "[0.08063044313883874, 0.9749]"
            ]
          },
          "metadata": {
            "tags": []
          },
          "execution_count": 7
        }
      ]
    },
    {
      "cell_type": "markdown",
      "metadata": {
        "id": "V18pDvPzwh6l",
        "colab_type": "text"
      },
      "source": [
        "### 1c: Implement a deep neural network \n",
        "\n",
        "**TODO**\n",
        "\n",
        "Modify the code below to create and train a deep neural network with at least two hidden layers."
      ]
    },
    {
      "cell_type": "code",
      "metadata": {
        "id": "K0odgGhmrNNh",
        "colab_type": "code",
        "outputId": "494f7556-6ef8-4450-9c97-d6c03aab67cb",
        "colab": {
          "base_uri": "https://localhost:8080/",
          "height": 340
        }
      },
      "source": [
        "model = tf.keras.models.Sequential([\n",
        "  tf.keras.layers.Flatten(input_shape=(28, 28)),\n",
        "  # Modify me\n",
        "  tf.keras.layers.Dense(128, activation='relu'),\n",
        "  tf.keras.layers.Dense(128, activation='relu'),\n",
        "  tf.keras.layers.Dense(128, activation='relu'),\n",
        "  tf.keras.layers.Dense(10, activation='softmax')\n",
        "])\n",
        "\n",
        "model.compile(optimizer='adam',\n",
        "              loss='sparse_categorical_crossentropy',\n",
        "              metrics=['accuracy'])\n",
        "\n",
        "model.fit(x_train, y_train, epochs=8)\n",
        "model.evaluate(x_test, y_test)"
      ],
      "execution_count": 8,
      "outputs": [
        {
          "output_type": "stream",
          "text": [
            "Train on 60000 samples\n",
            "Epoch 1/8\n",
            "60000/60000 [==============================] - 5s 87us/sample - loss: 0.2248 - accuracy: 0.9324\n",
            "Epoch 2/8\n",
            "60000/60000 [==============================] - 5s 79us/sample - loss: 0.0973 - accuracy: 0.9700\n",
            "Epoch 3/8\n",
            "60000/60000 [==============================] - 5s 81us/sample - loss: 0.0708 - accuracy: 0.9779\n",
            "Epoch 4/8\n",
            "60000/60000 [==============================] - 5s 81us/sample - loss: 0.0567 - accuracy: 0.9822\n",
            "Epoch 5/8\n",
            "60000/60000 [==============================] - 5s 88us/sample - loss: 0.0447 - accuracy: 0.9855\n",
            "Epoch 6/8\n",
            "60000/60000 [==============================] - 5s 86us/sample - loss: 0.0378 - accuracy: 0.9876\n",
            "Epoch 7/8\n",
            "60000/60000 [==============================] - 5s 84us/sample - loss: 0.0313 - accuracy: 0.9902\n",
            "Epoch 8/8\n",
            "60000/60000 [==============================] - 5s 79us/sample - loss: 0.0301 - accuracy: 0.9897\n",
            "10000/10000 [==============================] - 1s 71us/sample - loss: 0.1092 - accuracy: 0.9732\n"
          ],
          "name": "stdout"
        },
        {
          "output_type": "execute_result",
          "data": {
            "text/plain": [
              "[0.10921542425616208, 0.9732]"
            ]
          },
          "metadata": {
            "tags": []
          },
          "execution_count": 8
        }
      ]
    },
    {
      "cell_type": "markdown",
      "metadata": {
        "id": "NkmnVGG-wnyw",
        "colab_type": "text"
      },
      "source": [
        "### 1d: Display predictions and their confidence \n",
        "\n",
        "**TODO**\n",
        "\n",
        "1. Choose one of your models above. Use it to make predictions on the entire test set using ```model.predict```\n",
        "\n",
        "2. Next, identify one image from the testing set the model classifies correctly, and another that it classifies incorrectly. Add code to display these images below, the correct labels, the predicted labels, and the confidence scores."
      ]
    },
    {
      "cell_type": "code",
      "metadata": {
        "id": "BPd5NvaV1XEx",
        "colab_type": "code",
        "colab": {}
      },
      "source": [
        "# TODO: add your code here.\n",
        "y_test_pred = model.predict_classes(x_test)"
      ],
      "execution_count": 0,
      "outputs": []
    },
    {
      "cell_type": "code",
      "metadata": {
        "id": "0oHtncGe7DIO",
        "colab_type": "code",
        "colab": {
          "base_uri": "https://localhost:8080/",
          "height": 34
        },
        "outputId": "61ceed0c-3dc4-4f4c-d8a8-8f7bdc91a771"
      },
      "source": [
        "y_test_pred_classs = model.predict_classes(x_test)\n",
        "y_test_pred_classs"
      ],
      "execution_count": 22,
      "outputs": [
        {
          "output_type": "execute_result",
          "data": {
            "text/plain": [
              "array([7, 2, 1, ..., 4, 5, 6])"
            ]
          },
          "metadata": {
            "tags": []
          },
          "execution_count": 22
        }
      ]
    },
    {
      "cell_type": "code",
      "metadata": {
        "id": "o2nmu0Zt68B7",
        "colab_type": "code",
        "colab": {
          "base_uri": "https://localhost:8080/",
          "height": 442
        },
        "outputId": "054490f8-fa85-4055-f34c-e5270e44024a"
      },
      "source": [
        "np.where(y_test_pred_classs != y_test)"
      ],
      "execution_count": 23,
      "outputs": [
        {
          "output_type": "execute_result",
          "data": {
            "text/plain": [
              "(array([  92,  151,  217,  247,  321,  340,  381,  389,  449,  490,  495,\n",
              "         545,  582,  610,  646,  671,  684,  691,  717,  720,  813,  882,\n",
              "         900,  951,  956,  965,  992, 1014, 1039, 1050, 1128, 1156, 1181,\n",
              "        1191, 1192, 1224, 1226, 1232, 1242, 1247, 1260, 1299, 1308, 1319,\n",
              "        1325, 1364, 1393, 1414, 1425, 1429, 1468, 1500, 1530, 1549, 1553,\n",
              "        1554, 1570, 1609, 1621, 1640, 1681, 1732, 1754, 1790, 1808, 1878,\n",
              "        1901, 1952, 1982, 1987, 2033, 2070, 2109, 2129, 2135, 2185, 2215,\n",
              "        2224, 2266, 2293, 2326, 2333, 2369, 2387, 2408, 2414, 2426, 2462,\n",
              "        2488, 2607, 2648, 2654, 2720, 2730, 2863, 2921, 2927, 2939, 2953,\n",
              "        2972, 2979, 3023, 3117, 3130, 3185, 3251, 3266, 3394, 3460, 3475,\n",
              "        3483, 3503, 3520, 3540, 3549, 3558, 3565, 3618, 3662, 3681, 3727,\n",
              "        3776, 3806, 3808, 3811, 3817, 3818, 3821, 3850, 3869, 3895, 3941,\n",
              "        3946, 3976, 3985, 4027, 4065, 4075, 4078, 4086, 4156, 4176, 4205,\n",
              "        4211, 4224, 4248, 4289, 4294, 4301, 4369, 4408, 4425, 4433, 4497,\n",
              "        4505, 4534, 4601, 4615, 4635, 4681, 4699, 4731, 4739, 4761, 4807,\n",
              "        4823, 4879, 4880, 4918, 4956, 5068, 5078, 5251, 5450, 5457, 5523,\n",
              "        5642, 5654, 5655, 5676, 5719, 5734, 5756, 5757, 5784, 5955, 5973,\n",
              "        6011, 6015, 6023, 6059, 6391, 6400, 6421, 6505, 6555, 6571, 6574,\n",
              "        6576, 6597, 6632, 6651, 6672, 6817, 7049, 7182, 7216, 7434, 7457,\n",
              "        7866, 7886, 7887, 7898, 7907, 7917, 7989, 8016, 8021, 8062, 8212,\n",
              "        8243, 8273, 8278, 8279, 8283, 8325, 8332, 8339, 8374, 8408, 8426,\n",
              "        8490, 8504, 8522, 8523, 8584, 8859, 8865, 9015, 9158, 9280, 9425,\n",
              "        9587, 9634, 9642, 9664, 9679, 9692, 9700, 9701, 9729, 9733, 9744,\n",
              "        9745, 9768, 9770, 9779, 9782, 9792, 9808, 9839, 9850, 9879, 9904,\n",
              "        9940, 9944, 9980, 9982]),)"
            ]
          },
          "metadata": {
            "tags": []
          },
          "execution_count": 23
        }
      ]
    },
    {
      "cell_type": "code",
      "metadata": {
        "id": "pGigfdneDKYZ",
        "colab_type": "code",
        "outputId": "ae57b733-a11c-4fca-8c2b-6c0d2428c402",
        "colab": {
          "base_uri": "https://localhost:8080/",
          "height": 316
        }
      },
      "source": [
        "import numpy as np\n",
        "import matplotlib.pyplot as plt\n",
        "\n",
        "#choose correct pic: #0 and uncorrect pic: #92\n",
        "pic0 = x_test[0,:]\n",
        "plt.imshow(pic0, cmap=plt.cm.binary)\n",
        "plt.show()\n",
        "print(\"Picture ID: 0, True Label:\", y_test[0], \"Predicted Label\", np.argmax(y_test_pred[0]))\n",
        "print(\"Confidence Scores for 10 classes:\", y_test_pred_prob[0, :])"
      ],
      "execution_count": 20,
      "outputs": [
        {
          "output_type": "display_data",
          "data": {
            "image/png": "[encoded data removed]",
            "text/plain": [
              "<Figure size 432x288 with 1 Axes>"
            ]
          },
          "metadata": {
            "tags": []
          }
        },
        {
          "output_type": "stream",
          "text": [
            "Picture ID: 0, True Label: 7 Predicted Label 7\n",
            "Confidence Scores for 10 classes: [1.7749884e-14 9.2309008e-08 1.7836104e-08 1.7869100e-08 3.7355141e-09\n",
            " 2.9846670e-12 7.2415235e-15 9.9999988e-01 2.7300506e-11 2.9386618e-09]\n"
          ],
          "name": "stdout"
        }
      ]
    },
    {
      "cell_type": "code",
      "metadata": {
        "id": "-gxMjHJj6soV",
        "colab_type": "code",
        "colab": {
          "base_uri": "https://localhost:8080/",
          "height": 316
        },
        "outputId": "d21002f0-3c2a-4b1f-8e95-d4978d00f91e"
      },
      "source": [
        "pic92 = x_test[92,:]\n",
        "plt.imshow(pic92, cmap=plt.cm.binary)\n",
        "plt.show()\n",
        "print(\"Picture ID: 92, True Label:\", y_test[92], \"Predicted Label\", np.argmax(y_test_pred[92]))\n",
        "print(\"Confidence Scores for 10 classes:\", y_test_pred_prob[92, :])"
      ],
      "execution_count": 24,
      "outputs": [
        {
          "output_type": "display_data",
          "data": {
            "image/png": "[encoded data removed]",
            "text/plain": [
              "<Figure size 432x288 with 1 Axes>"
            ]
          },
          "metadata": {
            "tags": []
          }
        },
        {
          "output_type": "stream",
          "text": [
            "Picture ID: 92, True Label: 9 Predicted Label 4\n",
            "Confidence Scores for 10 classes: [5.5465205e-07 6.0952434e-06 1.0586588e-05 5.2027799e-06 6.6695827e-01\n",
            " 1.7017743e-05 3.5346709e-08 1.0719750e-05 9.3445262e-05 3.3289811e-01]\n"
          ],
          "name": "stdout"
        }
      ]
    },
    {
      "cell_type": "markdown",
      "metadata": {
        "id": "ca0nFGJdv3H2",
        "colab_type": "text"
      },
      "source": [
        "## Part 2: Subclassed models\n",
        "\n",
        "In this part of the assignment, you'll work with the Keras Subclassing API. Instead of using a built-in method (```model.fit```) you will train models using a GradientTape.\n",
        "\n",
        "Here are a few code examples that will help you with this part of the assignment:\n",
        "\n",
        "* [Get started for experts](https://www.tensorflow.org/tutorials/quickstart/advanced)\n",
        "* [Tensors and operations](https://www.tensorflow.org/tutorials/eager/basics)\n",
        "* [Keras overview](https://www.tensorflow.org/guide/keras/overview)"
      ]
    },
    {
      "cell_type": "markdown",
      "metadata": {
        "id": "xB6r75B5teHv",
        "colab_type": "text"
      },
      "source": [
        "### Download and prepare a dataset\n",
        "This is similar to the above, except now we'll use ```tf.data``` to batch and shuffle the data, instead of the utilities baked into ```model.fit```. It's not necessary for this assignment, but if you wish, you can learn how to use tf.data [here](https://www.tensorflow.org/beta/tutorials/load_data/images)."
      ]
    },
    {
      "cell_type": "code",
      "metadata": {
        "id": "kYbkeJJqtm0h",
        "colab_type": "code",
        "colab": {}
      },
      "source": [
        "# Download a dataset\n",
        "(x_train, y_train), (x_test, y_test) = tf.keras.datasets.mnist.load_data()\n",
        "\n",
        "# Batch and shuffle the data\n",
        "train_ds = tf.data.Dataset.from_tensor_slices(\n",
        "    (x_train.astype('float32') / 255, y_train)).shuffle(1024).batch(32)\n",
        "\n",
        "test_ds = tf.data.Dataset.from_tensor_slices(\n",
        "    (x_test.astype('float32') / 255, y_test)).batch(32)"
      ],
      "execution_count": 0,
      "outputs": []
    },
    {
      "cell_type": "code",
      "metadata": {
        "id": "_JlSs-3qvCgi",
        "colab_type": "code",
        "colab": {
          "base_uri": "https://localhost:8080/",
          "height": 282
        },
        "outputId": "7df56a31-a747-473a-c19c-33ed08eb6d1d"
      },
      "source": [
        "# A quick example of iterating over a dataset object\n",
        "for image, label in train_ds.take(1):\n",
        "  plt.imshow(image[0], plt.get_cmap('gray'))\n",
        "  print(label[0])"
      ],
      "execution_count": 26,
      "outputs": [
        {
          "output_type": "stream",
          "text": [
            "tf.Tensor(6, shape=(), dtype=uint8)\n"
          ],
          "name": "stdout"
        },
        {
          "output_type": "display_data",
          "data": {
            "image/png": "[encoded data removed]",
            "text/plain": [
              "<Figure size 432x288 with 1 Axes>"
            ]
          },
          "metadata": {
            "tags": []
          }
        }
      ]
    },
    {
      "cell_type": "markdown",
      "metadata": {
        "id": "0Nmw1h6stTg5",
        "colab_type": "text"
      },
      "source": [
        "### Define and train a linear model\n",
        "\n",
        "You may see some warnings running the below code (that's okay, just a matter of TF 2.0 being under active development)."
      ]
    },
    {
      "cell_type": "code",
      "metadata": {
        "id": "BWGJoufMtbHA",
        "colab_type": "code",
        "colab": {}
      },
      "source": [
        "class MyLinearModel(Model):\n",
        "  def __init__(self):\n",
        "    super(MyLinearModel, self).__init__()\n",
        "    self.flatten = Flatten()\n",
        "    self.d1 = Dense(10, activation='softmax', name=\"dense1\")\n",
        "\n",
        "  def call(self, x):\n",
        "    x = self.flatten(x)\n",
        "    return self.d1(x)"
      ],
      "execution_count": 0,
      "outputs": []
    },
    {
      "cell_type": "code",
      "metadata": {
        "id": "35tIz37EttdP",
        "colab_type": "code",
        "colab": {
          "base_uri": "https://localhost:8080/",
          "height": 102
        },
        "outputId": "8c9a76af-b57b-47de-8624-a72578f70c78"
      },
      "source": [
        "model = MyLinearModel()\n",
        "\n",
        "loss_fn = tf.keras.losses.SparseCategoricalCrossentropy()\n",
        "optimizer = tf.keras.optimizers.SGD()\n",
        "\n",
        "# For each epoch\n",
        "for epoch in range(5):\n",
        "\n",
        "  # For each batch of images and labels\n",
        "  for images, labels in train_ds:\n",
        "\n",
        "    # Open a GradientTape.\n",
        "    with tf.GradientTape() as tape:\n",
        "\n",
        "      # Forward pass\n",
        "      predictions = model(images)\n",
        "\n",
        "      # Calculate loss\n",
        "      loss = loss_fn(labels, predictions)\n",
        "\n",
        "    # Backprop to calculate gradients\n",
        "    gradients = tape.gradient(loss, model.trainable_variables)\n",
        "\n",
        "    # Gradient descent step\n",
        "    optimizer.apply_gradients(zip(gradients, model.trainable_variables))\n",
        "\n",
        "  # Calculate loss on the test data\n",
        "  test_loss = []\n",
        "  for images, labels in test_ds: \n",
        "    predictions = model(images)\n",
        "    loss_on_batch = loss_fn(labels, predictions)\n",
        "    test_loss.append(loss_on_batch)\n",
        "    \n",
        "  print(\"Epoch {}, Test loss: {}\".format(epoch, tf.reduce_mean(test_loss)))"
      ],
      "execution_count": 28,
      "outputs": [
        {
          "output_type": "stream",
          "text": [
            "Epoch 0, Test loss: 0.48054781556129456\n",
            "Epoch 1, Test loss: 0.40021654963493347\n",
            "Epoch 2, Test loss: 0.3674544394016266\n",
            "Epoch 3, Test loss: 0.3485422730445862\n",
            "Epoch 4, Test loss: 0.3357260227203369\n"
          ],
          "name": "stdout"
        }
      ]
    },
    {
      "cell_type": "code",
      "metadata": {
        "id": "sSAmhZx4DG4L",
        "colab_type": "code",
        "colab": {
          "base_uri": "https://localhost:8080/",
          "height": 34
        },
        "outputId": "658d2359-0311-41f2-ce92-7518131edbea"
      },
      "source": [
        "image.shape"
      ],
      "execution_count": 48,
      "outputs": [
        {
          "output_type": "execute_result",
          "data": {
            "text/plain": [
              "TensorShape([32, 28, 28])"
            ]
          },
          "metadata": {
            "tags": []
          },
          "execution_count": 48
        }
      ]
    },
    {
      "cell_type": "markdown",
      "metadata": {
        "id": "mEO51Mvi1jOT",
        "colab_type": "text"
      },
      "source": [
        "Note: you may have noticed that the above code runs slowly (it's executing eagerly). Later in this notebook, you will compile your code (to run it in graph mode) using ```@tf.function```. The general workflow is to write your code without using tf.function (as shown above, which makes for easier debugging). Once you've finished debugging your model, you can add ```@tf.function``` for performance if necessary."
      ]
    },
    {
      "cell_type": "markdown",
      "metadata": {
        "id": "dj7Y8JWgwv9Z",
        "colab_type": "text"
      },
      "source": [
        "### 2a: Challenge: Visualize the learned weights\n",
        "\n",
        "We can interpret a linear model by looking at the weights of the fully connected layer. Modify the below code to create a plot similar to the one on slide #50 of lecture 1:\n",
        "\n",
        "![Plot of weights](https://storage.googleapis.com/applied-dl/im/mnist-weights.png)\n",
        "\n",
        "**TODO**\n",
        "\n",
        "Modify the below code to retrieve the learned weights. You can use either the public API of a model ```model.get_layer(name)``` then retrieve the weights from that, or (because our model is defined using the Subclassing API), you can access the dense layer directly ```model.d1```."
      ]
    },
    {
      "cell_type": "code",
      "metadata": {
        "id": "JiQZV03RuWHM",
        "colab_type": "code",
        "colab": {
          "base_uri": "https://localhost:8080/",
          "height": 34
        },
        "outputId": "2e4cd71c-7a03-47f2-c188-6ffde79c3df5"
      },
      "source": [
        "# There are two ways to retrieve the weights. You can use the public API\n",
        "# (model.get_layer(name).get_weights()), or, you can access the dense layer \n",
        "# directly (model.dl) then find the accessor method, or again, access the\n",
        "# variable directly.\n",
        "# Python tip: try ```dir(model.d1)```\n",
        "# Modify me\n",
        "weights, bias = model.get_layer('dense1').weights[0], model.get_layer('dense1').weights[1]  # get the weights\n",
        "print(weights.shape)"
      ],
      "execution_count": 46,
      "outputs": [
        {
          "output_type": "stream",
          "text": [
            "(784, 10)\n"
          ],
          "name": "stdout"
        }
      ]
    },
    {
      "cell_type": "code",
      "metadata": {
        "id": "oz3VV2EiuY7X",
        "colab_type": "code",
        "colab": {
          "base_uri": "https://localhost:8080/",
          "height": 141
        },
        "outputId": "dbca6cce-16c1-4a3d-dc7d-bbef3fd79d32"
      },
      "source": [
        "fig, axs = plt.subplots(1,10, figsize=(20,20))\n",
        "for i in range(10):\n",
        "  subplot = axs[i]\n",
        "  subplot.set_title(i)\n",
        "  subplot.axis('off')\n",
        "  # Modify me\n",
        "  i_weights = weights[:,i] # Select the weights for the i'th output\n",
        "  img = tf.reshape(i_weights, [28,28]) # Reshape the weights into a 28x28 array Q: how to reshape in a correct way?\n",
        "  subplot.imshow(img, plt.get_cmap('seismic'))\n",
        "plt.show()"
      ],
      "execution_count": 49,
      "outputs": [
        {
          "output_type": "display_data",
          "data": {
            "image/png": "[encoded data removed]",
            "text/plain": [
              "<Figure size 1440x1440 with 10 Axes>"
            ]
          },
          "metadata": {
            "tags": []
          }
        }
      ]
    },
    {
      "cell_type": "markdown",
      "metadata": {
        "id": "HNBCIqzdw2GS",
        "colab_type": "text"
      },
      "source": [
        "### 2b: Implement a deep neural network\n",
        "\n",
        "**TODO**\n",
        "\n",
        "Modify this code to create a deep neural network. Train your model using the code below, and compare the accuracy to the linear model above. \n",
        "\n",
        "Note: you do not need to modify any sections other than the model definition and the call method. \n",
        "\n",
        "The code below uses compiled versions of the training and evaluation loops (remove the ```@tf.function``` annotations if you need to debug)."
      ]
    },
    {
      "cell_type": "code",
      "metadata": {
        "id": "rxoIfq91xDRZ",
        "colab_type": "code",
        "colab": {}
      },
      "source": [
        "class MyDNN(Model):\n",
        "  def __init__(self):\n",
        "    super(MyDNN, self).__init__()\n",
        "    self.flatten = Flatten()\n",
        "    # Modify me\n",
        "    self.dl0 = Dense(128, activation='relu')\n",
        "    self.dl1 = Dense(128, activation='relu')\n",
        "    self.d12 = Dense(10, activation='softmax')\n",
        "\n",
        "  def call(self, x):\n",
        "    x = self.flatten(x)\n",
        "    x = self.dl0(x)\n",
        "    x = self.dl1(x)\n",
        "    return self.d12(x)\n",
        "\n",
        "model = MyDNN()"
      ],
      "execution_count": 0,
      "outputs": []
    },
    {
      "cell_type": "code",
      "metadata": {
        "id": "hVDDq2orxPBR",
        "colab_type": "code",
        "colab": {}
      },
      "source": [
        "loss_object = tf.keras.losses.SparseCategoricalCrossentropy()\n",
        "optimizer = tf.keras.optimizers.Adam()"
      ],
      "execution_count": 0,
      "outputs": []
    },
    {
      "cell_type": "markdown",
      "metadata": {
        "id": "WNC0K6JPxy-g",
        "colab_type": "text"
      },
      "source": [
        "These are helper functions we'll use to record loss and accuracy while your model is trained."
      ]
    },
    {
      "cell_type": "code",
      "metadata": {
        "id": "duYKrACkxRHw",
        "colab_type": "code",
        "colab": {}
      },
      "source": [
        "train_loss = tf.keras.metrics.Mean(name='train_loss')\n",
        "train_accuracy = tf.keras.metrics.SparseCategoricalAccuracy(name='train_accuracy')\n",
        "\n",
        "test_loss = tf.keras.metrics.Mean(name='test_loss')\n",
        "test_accuracy = tf.keras.metrics.SparseCategoricalAccuracy(name='test_accuracy')"
      ],
      "execution_count": 0,
      "outputs": []
    },
    {
      "cell_type": "markdown",
      "metadata": {
        "id": "C_oUQki5x0lD",
        "colab_type": "text"
      },
      "source": [
        "This method trains the model on a batch of data."
      ]
    },
    {
      "cell_type": "code",
      "metadata": {
        "id": "yTQAnrOAxUAu",
        "colab_type": "code",
        "colab": {}
      },
      "source": [
        "@tf.function\n",
        "def train_step(images, labels):\n",
        "  with tf.GradientTape() as tape:\n",
        "    predictions = model(images)\n",
        "    loss = loss_object(labels, predictions)\n",
        "  gradients = tape.gradient(loss, model.trainable_variables)\n",
        "  optimizer.apply_gradients(zip(gradients, model.trainable_variables))\n",
        "\n",
        "  train_loss(loss)\n",
        "  train_accuracy(labels, predictions)"
      ],
      "execution_count": 0,
      "outputs": []
    },
    {
      "cell_type": "markdown",
      "metadata": {
        "id": "-lUJFkfux44o",
        "colab_type": "text"
      },
      "source": [
        "This method evaluates the model on a batch of data."
      ]
    },
    {
      "cell_type": "code",
      "metadata": {
        "id": "BTMp9PwZxV5h",
        "colab_type": "code",
        "colab": {}
      },
      "source": [
        "@tf.function\n",
        "def test_step(images, labels):\n",
        "  predictions = model(images)\n",
        "  t_loss = loss_object(labels, predictions)\n",
        "\n",
        "  test_loss(t_loss)\n",
        "  test_accuracy(labels, predictions)"
      ],
      "execution_count": 0,
      "outputs": []
    },
    {
      "cell_type": "markdown",
      "metadata": {
        "id": "AR0_bNd-x6OE",
        "colab_type": "text"
      },
      "source": [
        "Training and evaluation loop."
      ]
    },
    {
      "cell_type": "code",
      "metadata": {
        "id": "enHqlaCfxXq3",
        "colab_type": "code",
        "colab": {
          "base_uri": "https://localhost:8080/",
          "height": 102
        },
        "outputId": "bbeb4ce2-8af5-4677-868f-57b31f5cbfb6"
      },
      "source": [
        "EPOCHS = 5\n",
        "\n",
        "for epoch in range(EPOCHS):\n",
        "  for images, labels in train_ds:\n",
        "    train_step(images, labels)\n",
        "\n",
        "  for test_images, test_labels in test_ds:\n",
        "    test_step(test_images, test_labels)\n",
        "\n",
        "  template = 'Epoch {}, Loss: {}, Accuracy: {}, Test Loss: {}, Test Accuracy: {}'\n",
        "  print(template.format(epoch+1,\n",
        "                        train_loss.result(),\n",
        "                        train_accuracy.result()*100,\n",
        "                        test_loss.result(),\n",
        "                        test_accuracy.result()*100))\n",
        "\n",
        "  # Reset the metrics for the next epoch\n",
        "  train_loss.reset_states()\n",
        "  train_accuracy.reset_states()\n",
        "  test_loss.reset_states()\n",
        "  test_accuracy.reset_states()"
      ],
      "execution_count": 92,
      "outputs": [
        {
          "output_type": "stream",
          "text": [
            "Epoch 1, Loss: 0.2277146428823471, Accuracy: 93.34166717529297, Test Loss: 0.12355680018663406, Test Accuracy: 96.25\n",
            "Epoch 2, Loss: 0.09878280758857727, Accuracy: 96.97666931152344, Test Loss: 0.09438273310661316, Test Accuracy: 97.11000061035156\n",
            "Epoch 3, Loss: 0.06923482567071915, Accuracy: 97.80166625976562, Test Loss: 0.09704320132732391, Test Accuracy: 97.13999938964844\n",
            "Epoch 4, Loss: 0.049415625631809235, Accuracy: 98.35832977294922, Test Loss: 0.11370527744293213, Test Accuracy: 96.87999725341797\n",
            "Epoch 5, Loss: 0.03972311317920685, Accuracy: 98.66166687011719, Test Loss: 0.09344734996557236, Test Accuracy: 97.45999908447266\n"
          ],
          "name": "stdout"
        }
      ]
    },
    {
      "cell_type": "markdown",
      "metadata": {
        "id": "ZxjIFiyBPorB",
        "colab_type": "text"
      },
      "source": [
        "### 2c: Provide your own implementation of softmax and use it to train a model\n",
        "\n",
        "In your linear model above, the starter code looked similar to: \n",
        "\n",
        "\n",
        "```\n",
        "class LinearModel(Model):\n",
        "  def __init__(self):\n",
        "    super(LinearModel, self).__init__()\n",
        "    self.flatten = Flatten()\n",
        "    self.d1 = Dense(10, activation='softmax')\n",
        "\n",
        "  def call(self, x):\n",
        "    x = self.flatten(x)\n",
        "    return self.d1(x)\n",
        "``` \n",
        "\n",
        "Now, create a function:\n",
        "\n",
        "\n",
        "```\n",
        "def my_softmax(logits):\n",
        "  # ...\n",
        "```\n",
        "\n",
        "and use it in your model as follows:\n",
        "\n",
        "\n",
        "```\n",
        "class LinearModel(Model):\n",
        "  def __init__(self):\n",
        "    super(LinearModel, self).__init__()\n",
        "    self.flatten = Flatten()\n",
        "    self.d1 = Dense(10)\n",
        "\n",
        "  def call(self, x):\n",
        "    x = self.flatten(x)\n",
        "    x = self.d1(x)\n",
        "    return my_softmax(x)\n",
        "``` \n",
        "\n",
        "Notice, we've removed the built-in activation method on the Dense layer, and added our own to the call method.\n",
        "\n",
        "Tip: You can implement softmax first using NumPy, if you like, the gradually convert your code to use TensorFlow ops (which begin with tf.\\* instead of np.\\*).\n",
        "\n",
        "Notes: \n",
        "\n",
        "- Your softmax implementation should be numerically stable. \n",
        "- You will need to use tf.* ops in order to use your code to train a model (TF cannot backprop through NumPy operations)."
      ]
    },
    {
      "cell_type": "code",
      "metadata": {
        "id": "SiLj-uFrRAn-",
        "colab_type": "code",
        "colab": {}
      },
      "source": [
        "# TODO: your code here\n",
        "\n",
        "def my_softmax(x):  \n",
        "  # Modify me\n",
        "  return tf.exp(x) / tf.reduce_sum(tf.exp(x))\n",
        "\n",
        "class MyModel(Model):\n",
        "  def __init__(self):\n",
        "    super(MyModel, self).__init__()\n",
        "    self.flatten = Flatten()\n",
        "    self.d1 = Dense(10)\n",
        "\n",
        "  def call(self, x):\n",
        "    x = self.flatten(x)\n",
        "    x = self.d1(x)\n",
        "    return my_softmax(x)\n",
        "  \n",
        "model = MyModel()\n",
        "\n",
        "# TODO\n",
        "# Add code to train you model, your accuracy should be similar \n",
        "# to the linear model."
      ],
      "execution_count": 0,
      "outputs": []
    },
    {
      "cell_type": "code",
      "metadata": {
        "id": "WeLI3LTxMbkW",
        "colab_type": "code",
        "colab": {}
      },
      "source": [
        "loss_object = tf.keras.losses.SparseCategoricalCrossentropy()\n",
        "optimizer = tf.keras.optimizers.Adam()\n",
        "train_loss = tf.keras.metrics.Mean(name='train_loss')\n",
        "train_accuracy = tf.keras.metrics.SparseCategoricalAccuracy(name='train_accuracy')\n",
        "\n",
        "test_loss = tf.keras.metrics.Mean(name='test_loss')\n",
        "test_accuracy = tf.keras.metrics.SparseCategoricalAccuracy(name='test_accuracy')\n",
        "@tf.function\n",
        "def train_step(images, labels):\n",
        "  with tf.GradientTape() as tape:\n",
        "    predictions = model(images)\n",
        "    loss = loss_object(labels, predictions)\n",
        "  gradients = tape.gradient(loss, model.trainable_variables)\n",
        "  optimizer.apply_gradients(zip(gradients, model.trainable_variables))\n",
        "\n",
        "  train_loss(loss)\n",
        "  train_accuracy(labels, predictions)\n",
        "@tf.function\n",
        "def test_step(images, labels):\n",
        "  predictions = model(images)\n",
        "  t_loss = loss_object(labels, predictions)\n",
        "\n",
        "  test_loss(t_loss)\n",
        "  test_accuracy(labels, predictions)"
      ],
      "execution_count": 0,
      "outputs": []
    },
    {
      "cell_type": "code",
      "metadata": {
        "id": "CPi5i_ffLqfD",
        "colab_type": "code",
        "colab": {
          "base_uri": "https://localhost:8080/",
          "height": 102
        },
        "outputId": "231fe03f-d00c-4958-ce96-cf04b114af8f"
      },
      "source": [
        "EPOCHS = 5\n",
        "\n",
        "for epoch in range(EPOCHS):\n",
        "  for images, labels in train_ds:\n",
        "    train_step(images, labels)\n",
        "\n",
        "  for test_images, test_labels in test_ds:\n",
        "    test_step(test_images, test_labels)\n",
        "\n",
        "  template = 'Epoch {}, Loss: {}, Accuracy: {}, Test Loss: {}, Test Accuracy: {}'\n",
        "  print(template.format(epoch+1,\n",
        "                        train_loss.result(),\n",
        "                        train_accuracy.result()*100,\n",
        "                        test_loss.result(),\n",
        "                        test_accuracy.result()*100))\n",
        "\n",
        "  # Reset the metrics for the next epoch\n",
        "  train_loss.reset_states()\n",
        "  train_accuracy.reset_states()\n",
        "  test_loss.reset_states()\n",
        "  test_accuracy.reset_states()"
      ],
      "execution_count": 104,
      "outputs": [
        {
          "output_type": "stream",
          "text": [
            "Epoch 1, Loss: 0.4652298092842102, Accuracy: 87.89833068847656, Test Loss: 0.3072394132614136, Test Accuracy: 91.38999938964844\n",
            "Epoch 2, Loss: 0.30197644233703613, Accuracy: 91.5183334350586, Test Loss: 0.28519323468208313, Test Accuracy: 91.79000091552734\n",
            "Epoch 3, Loss: 0.28051841259002686, Accuracy: 92.11333465576172, Test Loss: 0.272481769323349, Test Accuracy: 92.22999572753906\n",
            "Epoch 4, Loss: 0.26960819959640503, Accuracy: 92.48500061035156, Test Loss: 0.2675897777080536, Test Accuracy: 92.27999877929688\n",
            "Epoch 5, Loss: 0.2619122862815857, Accuracy: 92.69000244140625, Test Loss: 0.26318496465682983, Test Accuracy: 92.41999816894531\n"
          ],
          "name": "stdout"
        }
      ]
    },
    {
      "cell_type": "code",
      "metadata": {
        "id": "wem9sE5TLq_g",
        "colab_type": "code",
        "colab": {}
      },
      "source": [
        ""
      ],
      "execution_count": 0,
      "outputs": []
    }
  ]
}